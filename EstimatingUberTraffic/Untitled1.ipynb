{
 "cells": [
  {
   "cell_type": "code",
   "execution_count": 19,
   "metadata": {
    "collapsed": false
   },
   "outputs": [],
   "source": [
    "from pygeocoder import Geocoder\n",
    "import pandas as pd\n",
    "import numpy as np"
   ]
  },
  {
   "cell_type": "code",
   "execution_count": 20,
   "metadata": {
    "collapsed": false
   },
   "outputs": [
    {
     "data": {
      "text/html": [
       "<div>\n",
       "<table border=\"1\" class=\"dataframe\">\n",
       "  <thead>\n",
       "    <tr style=\"text-align: right;\">\n",
       "      <th></th>\n",
       "      <th>0</th>\n",
       "      <th>latitude</th>\n",
       "      <th>longitude</th>\n",
       "    </tr>\n",
       "  </thead>\n",
       "  <tbody>\n",
       "    <tr>\n",
       "      <th>Site 1</th>\n",
       "      <td>31.336968, -109.560959</td>\n",
       "      <td>31.336968</td>\n",
       "      <td>-109.560959</td>\n",
       "    </tr>\n",
       "    <tr>\n",
       "      <th>Site 4</th>\n",
       "      <td>31.655494, -106.420484</td>\n",
       "      <td>31.655494</td>\n",
       "      <td>-106.420484</td>\n",
       "    </tr>\n",
       "    <tr>\n",
       "      <th>Site 3</th>\n",
       "      <td>32.277621, -107.734724</td>\n",
       "      <td>32.277621</td>\n",
       "      <td>-107.734724</td>\n",
       "    </tr>\n",
       "    <tr>\n",
       "      <th>Site 5</th>\n",
       "      <td>30.295053, -104.014528</td>\n",
       "      <td>30.295053</td>\n",
       "      <td>-104.014528</td>\n",
       "    </tr>\n",
       "    <tr>\n",
       "      <th>Site 2</th>\n",
       "      <td>31.347745, -108.229963</td>\n",
       "      <td>31.347745</td>\n",
       "      <td>-108.229963</td>\n",
       "    </tr>\n",
       "  </tbody>\n",
       "</table>\n",
       "</div>"
      ],
      "text/plain": [
       "                             0   latitude   longitude\n",
       "Site 1  31.336968, -109.560959  31.336968 -109.560959\n",
       "Site 4  31.655494, -106.420484  31.655494 -106.420484\n",
       "Site 3  32.277621, -107.734724  32.277621 -107.734724\n",
       "Site 5  30.295053, -104.014528  30.295053 -104.014528\n",
       "Site 2  31.347745, -108.229963  31.347745 -108.229963"
      ]
     },
     "execution_count": 20,
     "metadata": {},
     "output_type": "execute_result"
    }
   ],
   "source": [
    "data = {'Site 1': '31.336968, -109.560959',\n",
    "        'Site 2': '31.347745, -108.229963',\n",
    "        'Site 3': '32.277621, -107.734724',\n",
    "        'Site 4': '31.655494, -106.420484',\n",
    "        'Site 5': '30.295053, -104.014528'}\n",
    "df = pd.DataFrame.from_dict(data, orient='index')\n",
    "# Create two lists for the loop results to be placed\n",
    "lat = []\n",
    "lon = []\n",
    "\n",
    "# For each row in a varible,\n",
    "for row in df[0]:\n",
    "    # Try to,\n",
    "    try:\n",
    "        # Split the row by comma, convert to float, and append\n",
    "        # everything before the comma to lat\n",
    "        lat.append(float(row.split(',')[0]))\n",
    "        # Split the row by comma, convert to float, and append\n",
    "        # everything after the comma to lon\n",
    "        lon.append(float(row.split(',')[1]))\n",
    "    # But if you get an error\n",
    "    except:\n",
    "        # append a missing value to lat\n",
    "        lat.append(np.NaN)\n",
    "        # append a missing value to lon\n",
    "        lon.append(np.NaN)\n",
    "\n",
    "# Create two new columns from lat and lon\n",
    "df['latitude'] = lat\n",
    "df['longitude'] = lon\n",
    "df"
   ]
  },
  {
   "cell_type": "code",
   "execution_count": 34,
   "metadata": {
    "collapsed": true
   },
   "outputs": [],
   "source": [
    "results = Geocoder.reverse_geocode(df['latitude'][1], df['longitude'][1])"
   ]
  },
  {
   "cell_type": "code",
   "execution_count": 39,
   "metadata": {
    "collapsed": false
   },
   "outputs": [
    {
     "name": "stdout",
     "output_type": "stream",
     "text": [
      "32697\n"
     ]
    }
   ],
   "source": [
    "print(results.postal_code)"
   ]
  },
  {
   "cell_type": "code",
   "execution_count": null,
   "metadata": {
    "collapsed": true
   },
   "outputs": [],
   "source": []
  }
 ],
 "metadata": {
  "anaconda-cloud": {},
  "kernelspec": {
   "display_name": "Python [conda root]",
   "language": "python",
   "name": "conda-root-py"
  },
  "language_info": {
   "codemirror_mode": {
    "name": "ipython",
    "version": 3
   },
   "file_extension": ".py",
   "mimetype": "text/x-python",
   "name": "python",
   "nbconvert_exporter": "python",
   "pygments_lexer": "ipython3",
   "version": "3.5.2"
  }
 },
 "nbformat": 4,
 "nbformat_minor": 1
}
