{
 "cells": [
  {
   "cell_type": "code",
   "execution_count": 2,
   "metadata": {
    "collapsed": false
   },
   "outputs": [
    {
     "name": "stdout",
     "output_type": "stream",
     "text": [
      "[(('ufe', '0', 'f'), 338), (('n', 'n', 'n'), 308), (('Can', 'recommend', 'anyone'), 230), (('Just', 'posted', 'photo'), 209), (('Construction', 'Both', 'directions'), 170), (('could', 'great', 'fit'), 131), (('This', 'could', 'great'), 131), (('udd', '25', 'udd'), 124), (('25', 'udd', '25'), 123), (('This', 'might', 'great'), 119), (('might', 'great', 'fit'), 119), (('If', \"you're\", 'looking'), 113), ((\"you're\", 'looking', 'work'), 113), ((\"We're\", 'Read', 'latest'), 110), (('Read', 'latest', 'opening'), 110), ((\"We're\", 'Click', 'apply'), 109), (('u2764', 'ufe', '0'), 107), (('View', 'latest', 'opening'), 104), (('team', 'See', 'latest'), 102), (('See', 'latest', 'opening'), 102), (('Interested', 'This', 'could'), 101), ((\"We're\", 'Click', 'details'), 94), (('th', 'Street', 'Station'), 88), (('Update', 'Construction', 'Both'), 87), (('latest', 'click', 'apply'), 86), (('See', 'latest', 'click'), 86), (('Incident', 'WB', 'Exit'), 85), (('looking', 'work', 'check'), 84), (('work', 'View', 'latest'), 79), (('Want', 'work', 'View'), 79), (('u30fb', 'u30fb', 'u30fb'), 78), (('n', 'u30fb', 'u30fb'), 76), (('n', 'u2022', 'n'), 73), (('Incident', 'Both', 'directions'), 66), (('Update', 'Incident', 'WB'), 63), (('ude', '4', 'c'), 62), (('ude', '02', 'ude'), 61), (('ude', '4', 'f'), 58), (('u2022', 'n', 'u2022'), 57), (('Incident', 'EB', 'Exit'), 56), (('02', 'ude', '02'), 55), (('Tooth', 'Abscess', 'Relief'), 54), (('ude', '0', 'e'), 53), (('New', 'Lots', 'Avenue'), 52), (('Fri', 'Feb', '17'), 52), (('Feb', '17', 'th'), 52), (('th', 'AM', 'Forecast'), 51), (('AM', 'Forecast', 'TODAY'), 51), (('17', 'th', 'AM'), 51), (('Port', 'Authority', 'Bus'), 50), (('uddfa', 'uddf', '8'), 50), (('Cleared', 'Incident', 'EB'), 49), (('Authority', 'Bus', 'Terminal'), 49), (('5', 'th', 'Avenue'), 49), (('udc', '4', 'f'), 48), (('n', ':\\\\', 'n'), 48), (('Update', 'Incident', 'EB'), 47), (('Times', 'Square', 'New'), 47), (('stop', 'go', 'traffic'), 46), (('Cleared', 'Incident', 'NB'), 46), (('go', 'traffic', 'back'), 45), (('495', 'Long', 'Island'), 45), (('Square', 'New', 'City'), 44), (('Cleared', 'Construction', 'Both'), 43), (('125', 'th', 'Street'), 43), (('Cleared', 'Incident', 'WB'), 41), (('TONIGHT', 'Partly', 'Cloudy'), 41), (('Partly', 'Cloudy', 'Lo'), 41), (('Incident', 'Port', 'Authority'), 41), (('Long', 'Island', 'Expressway'), 39), (('Just', 'posted', 'video'), 38), (('Rem', 'u00e9dios', 'Para'), 38), (('C', 'u00e1seos', 'Caseums'), 38), (('ude', '0', 'ude'), 38), (('u00e9dios', 'Para', 'C'), 38), (('Para', 'C', 'u00e1seos'), 38), ((':\\\\', 'n', ':\\\\'), 37), (('Both', 'directions', 'Exit'), 37), (('Archer', 'Avenue', 'Sutphin'), 36), (('Avenue', 'Sutphin', 'Boulevard'), 36), (('From', 'Dental', 'Disease'), 36), (('Ebook', 'Global', 'Edition'), 36), (('Mammoth', 'Ebook', 'Global'), 36), (('Dental', 'Mammoth', 'Ebook'), 36), (('Freedom', 'From', 'Dental'), 36), (('168', 'th', 'Street'), 35), (('New', 'Penn', 'Station'), 35), (('Brand', 'New', 'With'), 35), (('u2600', 'ufe', '0'), 35), (('Incident', 'SB', 'Exit'), 35), (('Update', 'Incident', 'SB'), 35), (('Forever', 'Brand', 'New'), 35), (('Teeth', 'Whitening', '4'), 34), (('57', 'th', 'Street'), 34), (('Whitening', '4', 'You'), 34), (('Mandibula', 'Sana', 'Como'), 34), (('Cleared', 'Incident', 'SB'), 34), (('Cloudy', 'Lo', '31'), 33), (('Update', 'Incident', 'New'), 33), (('John', 'F', 'Kennedy'), 33)]\n"
     ]
    }
   ],
   "source": [
    "import time\n",
    "import re\n",
    "import pytz\n",
    "from pytz import timezone\n",
    "from nltk.tokenize import word_tokenize\n",
    "from collections import Counter\n",
    "from nltk.corpus import stopwords\n",
    "import string\n",
    "from nltk import bigrams\n",
    "from nltk import trigrams\n",
    "import json\n",
    "import pandas as pd\n",
    "from unicodedata import normalize\n",
    " \n",
    "punctuation = list(string.punctuation)\n",
    "city_specific_stop_words =  ['York', 'Manhattan','NY','NewYork','NYC','The','A','#NewYork','#NYC','Brooklyn']\n",
    "stop = stopwords.words('english') + punctuation + city_specific_stop_words + ['RT', 'rt', 'via', 'I' , 'like','\\\\',',',':','in','…','\\ud83c','\\ud83d','°','u2026','ud83d','ud83c']\n",
    "\n",
    "emoji_pattern = re.compile(\"[\"\n",
    "        u\"\\U0001F600-\\U0001F64F\"  # emoticons\n",
    "        u\"\\U0001F300-\\U0001F5FF\"  # symbols & pictographs\n",
    "        u\"\\U0001F680-\\U0001F6FF\"  # transport & map symbols\n",
    "        u\"\\U0001F1E0-\\U0001F1FF\"  # flags (iOS)\n",
    "                           \"]+\", flags=re.UNICODE)\n",
    "\n",
    "\n",
    "emoticons_str = r\"\"\"\n",
    "    (?:\n",
    "        [:=;] # Eyes\n",
    "        [oO\\-]? # Nose (optional)\n",
    "        [D\\)\\]\\(\\]/\\\\OpP] # Mouth\n",
    "        \n",
    "    )\"\"\"\n",
    "\n",
    "\n",
    "regex_str = [\n",
    "    emoticons_str,\n",
    "    r'<[^>]+>', # HTML tags\n",
    "    r'(?:@[\\w_]+)', # @-mentions\n",
    "    r\"(?:\\#+[\\w_]+[\\w\\'_\\-]*[\\w_]+)\", # hash-tags\n",
    "    r'http[s]?://(?:[a-z]|[0-9]|[$-_@.&amp;+]|[!*\\(\\),]|(?:%[0-9a-f][0-9a-f]))+', # URLs\n",
    " \n",
    "    r'(?:(?:\\d+,?)+(?:\\.?\\d+)?)', # numbers\n",
    "    r\"(?:[a-z][a-z'\\-_]+[a-z])\", # words with - and '\n",
    "    r'(?:[\\w_]+)', # other words\n",
    "    r'(?:\\S)' # anything else\n",
    "]\n",
    "\n",
    "\n",
    "tokens_re = re.compile(r'('+'|'.join(regex_str)+')', re.VERBOSE | re.IGNORECASE)\n",
    "emoticon_re = re.compile(r'^'+emoticons_str+'$', re.VERBOSE | re.IGNORECASE)\n",
    " \n",
    "def tokenize(s):\n",
    "    return tokens_re.findall(s)\n",
    " \n",
    "def preprocess(s, lowercase=False):\n",
    "    tokens = tokenize(s)\n",
    "    if lowercase:\n",
    "        tokens = [token if emoticon_re.search(token) else token.lower() for token in tokens]\n",
    "    return tokens\n",
    "\n",
    "count_all = Counter()\n",
    "\n",
    "#twitter_dataset = pd.read_table('tweets_streamed_dataset.txt', index_col=None)\n",
    "twitter_dataset = pd.read_table('data/nyc_streamed_dataset.txt', index_col=None)\n",
    "\n",
    "for tweet in twitter_dataset.tweet_text:\n",
    "    #tweet = normalize('NFKD', tweet).encode('ascii','ignore').decode('unicode_escape')\n",
    "    tweet = normalize('NFKD', tweet)\n",
    "    terms_stop = [term for term in preprocess(tweet) if term not in stop and not term.startswith(('#', '@')) and not emoji_pattern.search(term)]\n",
    "    #terms_bigram = bigrams(terms_stop)\n",
    "    terms_trigram = trigrams(terms_stop)\n",
    "    #terms_hash = [term for term in preprocess(tweet1) if term.startswith('#')]\n",
    "    #terms_all = [term for term in preprocess(tweet) if term not in stop]\n",
    "    count_all.update(terms_trigram)\n",
    "    #count_all.update(terms_hash)\n",
    "    #count_all.update(terms_all)\n",
    "    \n",
    "\n",
    "print(count_all.most_common(100))\n",
    "#twitter_dataset"
   ]
  }
 ],
 "metadata": {
  "anaconda-cloud": {},
  "kernelspec": {
   "display_name": "Python [conda root]",
   "language": "python",
   "name": "conda-root-py"
  },
  "language_info": {
   "codemirror_mode": {
    "name": "ipython",
    "version": 3
   },
   "file_extension": ".py",
   "mimetype": "text/x-python",
   "name": "python",
   "nbconvert_exporter": "python",
   "pygments_lexer": "ipython3",
   "version": "3.5.2"
  }
 },
 "nbformat": 4,
 "nbformat_minor": 1
}
