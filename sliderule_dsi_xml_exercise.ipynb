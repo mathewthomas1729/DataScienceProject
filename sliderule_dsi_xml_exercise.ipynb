{
 "cells": [
  {
   "cell_type": "markdown",
   "metadata": {},
   "source": [
    "# XML example and exercise\n",
    "****\n",
    "+ study examples of accessing nodes in XML tree structure  \n",
    "+ work on exercise to be completed and submitted\n",
    "****\n",
    "+ reference: https://docs.python.org/2.7/library/xml.etree.elementtree.html\n",
    "+ data source: http://www.dbis.informatik.uni-goettingen.de/Mondial\n",
    "****"
   ]
  },
  {
   "cell_type": "code",
   "execution_count": 1,
   "metadata": {
    "collapsed": true
   },
   "outputs": [],
   "source": [
    "from xml.etree import ElementTree as ET"
   ]
  },
  {
   "cell_type": "markdown",
   "metadata": {},
   "source": [
    "## XML example\n",
    "\n",
    "+ for details about tree traversal and iterators, see https://docs.python.org/2.7/library/xml.etree.elementtree.html"
   ]
  },
  {
   "cell_type": "code",
   "execution_count": 3,
   "metadata": {
    "collapsed": true
   },
   "outputs": [],
   "source": [
    "document_tree = ET.parse( './data/mondial_database_less.xml' )"
   ]
  },
  {
   "cell_type": "code",
   "execution_count": 4,
   "metadata": {
    "collapsed": false
   },
   "outputs": [
    {
     "ename": "SyntaxError",
     "evalue": "invalid syntax (<ipython-input-4-71a7702f86c3>, line 3)",
     "output_type": "error",
     "traceback": [
      "\u001b[0;36m  File \u001b[0;32m\"<ipython-input-4-71a7702f86c3>\"\u001b[0;36m, line \u001b[0;32m3\u001b[0m\n\u001b[0;31m    print child.find('name').text\u001b[0m\n\u001b[0m              ^\u001b[0m\n\u001b[0;31mSyntaxError\u001b[0m\u001b[0;31m:\u001b[0m invalid syntax\n"
     ]
    }
   ],
   "source": [
    "# print names of all countries\n",
    "for child in document_tree.getroot():\n",
    "    print child.find('name').text"
   ]
  },
  {
   "cell_type": "code",
   "execution_count": 5,
   "metadata": {
    "collapsed": false
   },
   "outputs": [
    {
     "name": "stdout",
     "output_type": "stream",
     "text": [
      "* Albania: Tirana, Shkodër, Durrës, Vlorë, Elbasan, Korçë\n",
      "* Greece: Komotini, Kavala, Athina, Peiraias, Peristeri, Acharnes, Patra, Kozani, Kerkyra, Ioannina, Thessaloniki, Iraklio, Chania, Ermoupoli, Rhodes, Tripoli, Lamia, Chalkida, Larissa, Volos, Mytilini, Karyes\n",
      "* Macedonia: Skopje, Kumanovo\n",
      "* Serbia: Beograd, Novi Sad, Niš\n",
      "* Montenegro: Podgorica\n",
      "* Kosovo: Prishtine\n",
      "* Andorra: Andorra la Vella\n"
     ]
    }
   ],
   "source": [
    "# print names of all countries and their cities\n",
    "for element in document_tree.iterfind('country'):\n",
    "    print '* ' + element.find('name').text + ':',\n",
    "    capitals_string = ''\n",
    "    for subelement in element.getiterator('city'):\n",
    "        capitals_string += subelement.find('name').text + ', '\n",
    "    print capitals_string[:-2]"
   ]
  },
  {
   "cell_type": "markdown",
   "metadata": {},
   "source": [
    "****\n",
    "## XML exercise\n",
    "\n",
    "Using data in 'data/mondial_database.xml', the examples above, and refering to https://docs.python.org/2.7/library/xml.etree.elementtree.html, find\n",
    "\n",
    "1. 10 countries with the lowest infant mortality rates\n",
    "2. 10 cities with the largest population\n",
    "3. 10 ethnic groups with the largest overall populations (sum of best/latest estimates over all countries)\n",
    "4. name and country of a) longest river, b) largest lake and c) airport at highest elevation"
   ]
  },
  {
   "cell_type": "code",
   "execution_count": 5,
   "metadata": {
    "collapsed": true
   },
   "outputs": [],
   "source": [
    "document = ET.parse( './data/mondial_database.xml' )"
   ]
  },
  {
   "cell_type": "code",
   "execution_count": 6,
   "metadata": {
    "collapsed": true
   },
   "outputs": [],
   "source": [
    "import pandas as pd"
   ]
  },
  {
   "cell_type": "code",
   "execution_count": 8,
   "metadata": {
    "collapsed": false
   },
   "outputs": [],
   "source": [
    "root = document.getroot()"
   ]
  },
  {
   "cell_type": "code",
   "execution_count": 9,
   "metadata": {
    "collapsed": false
   },
   "outputs": [
    {
     "data": {
      "text/html": [
       "<div>\n",
       "<table border=\"1\" class=\"dataframe\">\n",
       "  <thead>\n",
       "    <tr style=\"text-align: right;\">\n",
       "      <th></th>\n",
       "      <th>country</th>\n",
       "      <th>inf_mortality</th>\n",
       "    </tr>\n",
       "  </thead>\n",
       "  <tbody>\n",
       "    <tr>\n",
       "      <th>0</th>\n",
       "      <td>Western Sahara</td>\n",
       "      <td>145.82</td>\n",
       "    </tr>\n",
       "    <tr>\n",
       "      <th>0</th>\n",
       "      <td>Afghanistan</td>\n",
       "      <td>117.23</td>\n",
       "    </tr>\n",
       "    <tr>\n",
       "      <th>0</th>\n",
       "      <td>Mali</td>\n",
       "      <td>104.34</td>\n",
       "    </tr>\n",
       "    <tr>\n",
       "      <th>0</th>\n",
       "      <td>Somalia</td>\n",
       "      <td>100.14</td>\n",
       "    </tr>\n",
       "    <tr>\n",
       "      <th>0</th>\n",
       "      <td>Central African Republic</td>\n",
       "      <td>92.86</td>\n",
       "    </tr>\n",
       "    <tr>\n",
       "      <th>0</th>\n",
       "      <td>Guinea-Bissau</td>\n",
       "      <td>90.92</td>\n",
       "    </tr>\n",
       "    <tr>\n",
       "      <th>0</th>\n",
       "      <td>Chad</td>\n",
       "      <td>90.30</td>\n",
       "    </tr>\n",
       "    <tr>\n",
       "      <th>0</th>\n",
       "      <td>Niger</td>\n",
       "      <td>86.27</td>\n",
       "    </tr>\n",
       "    <tr>\n",
       "      <th>0</th>\n",
       "      <td>Angola</td>\n",
       "      <td>79.99</td>\n",
       "    </tr>\n",
       "    <tr>\n",
       "      <th>0</th>\n",
       "      <td>Burkina Faso</td>\n",
       "      <td>76.80</td>\n",
       "    </tr>\n",
       "  </tbody>\n",
       "</table>\n",
       "</div>"
      ],
      "text/plain": [
       "                    country  inf_mortality\n",
       "0            Western Sahara         145.82\n",
       "0               Afghanistan         117.23\n",
       "0                      Mali         104.34\n",
       "0                   Somalia         100.14\n",
       "0  Central African Republic          92.86\n",
       "0             Guinea-Bissau          90.92\n",
       "0                      Chad          90.30\n",
       "0                     Niger          86.27\n",
       "0                    Angola          79.99\n",
       "0              Burkina Faso          76.80"
      ]
     },
     "execution_count": 9,
     "metadata": {},
     "output_type": "execute_result"
    }
   ],
   "source": [
    "df = pd.DataFrame(columns=('country', 'inf_mortality'))\n",
    "df_temp = pd.DataFrame(columns=('country', 'inf_mortality'))\n",
    "for country in root.findall('country'):\n",
    "    name = country.find('name').text\n",
    "    inf_mortality = country.find('infant_mortality')\n",
    "    if inf_mortality is not None:\n",
    "        infant_mortality=inf_mortality.text\n",
    "        df_temp=pd.DataFrame({'country':[name],\n",
    "                    'inf_mortality':[infant_mortality]})\n",
    "        #df_temp\n",
    "        df = pd.concat([df,df_temp])\n",
    "df[\"inf_mortality\"] =pd.to_numeric(df[\"inf_mortality\"])\n",
    "df.sort_values(['inf_mortality'], ascending=[False]).head(10)"
   ]
  },
  {
   "cell_type": "code",
   "execution_count": null,
   "metadata": {
    "collapsed": true
   },
   "outputs": [],
   "source": []
  },
  {
   "cell_type": "code",
   "execution_count": 10,
   "metadata": {
    "collapsed": false
   },
   "outputs": [
    {
     "data": {
      "text/html": [
       "<div>\n",
       "<table border=\"1\" class=\"dataframe\">\n",
       "  <thead>\n",
       "    <tr style=\"text-align: right;\">\n",
       "      <th></th>\n",
       "      <th>city</th>\n",
       "      <th>population</th>\n",
       "    </tr>\n",
       "  </thead>\n",
       "  <tbody>\n",
       "    <tr>\n",
       "      <th>0</th>\n",
       "      <td>Seoul</td>\n",
       "      <td>10229262</td>\n",
       "    </tr>\n",
       "    <tr>\n",
       "      <th>0</th>\n",
       "      <td>Mumbai</td>\n",
       "      <td>9925891</td>\n",
       "    </tr>\n",
       "    <tr>\n",
       "      <th>0</th>\n",
       "      <td>São Paulo</td>\n",
       "      <td>9412894</td>\n",
       "    </tr>\n",
       "    <tr>\n",
       "      <th>0</th>\n",
       "      <td>Jakarta</td>\n",
       "      <td>8259266</td>\n",
       "    </tr>\n",
       "    <tr>\n",
       "      <th>0</th>\n",
       "      <td>Shanghai</td>\n",
       "      <td>8205598</td>\n",
       "    </tr>\n",
       "    <tr>\n",
       "      <th>0</th>\n",
       "      <td>Ciudad de México</td>\n",
       "      <td>8092449</td>\n",
       "    </tr>\n",
       "    <tr>\n",
       "      <th>0</th>\n",
       "      <td>Moskva</td>\n",
       "      <td>8010954</td>\n",
       "    </tr>\n",
       "    <tr>\n",
       "      <th>0</th>\n",
       "      <td>Tokyo</td>\n",
       "      <td>7843000</td>\n",
       "    </tr>\n",
       "    <tr>\n",
       "      <th>0</th>\n",
       "      <td>Beijing</td>\n",
       "      <td>7362426</td>\n",
       "    </tr>\n",
       "    <tr>\n",
       "      <th>0</th>\n",
       "      <td>Delhi</td>\n",
       "      <td>7206704</td>\n",
       "    </tr>\n",
       "  </tbody>\n",
       "</table>\n",
       "</div>"
      ],
      "text/plain": [
       "               city  population\n",
       "0             Seoul    10229262\n",
       "0            Mumbai     9925891\n",
       "0         São Paulo     9412894\n",
       "0           Jakarta     8259266\n",
       "0          Shanghai     8205598\n",
       "0  Ciudad de México     8092449\n",
       "0            Moskva     8010954\n",
       "0             Tokyo     7843000\n",
       "0           Beijing     7362426\n",
       "0             Delhi     7206704"
      ]
     },
     "execution_count": 10,
     "metadata": {},
     "output_type": "execute_result"
    }
   ],
   "source": [
    "df = pd.DataFrame(columns=('city', 'population'))\n",
    "df_temp = pd.DataFrame(columns=('city', 'population'))\n",
    "for city in root.iter('city'):\n",
    "    name = city.find('name').text\n",
    "    pop = city.find('population')\n",
    "    if pop is not None:\n",
    "        population = pop.text\n",
    "        df_temp=pd.DataFrame({'city':[name],\n",
    "                    'population':[population]})\n",
    "        df = pd.concat([df,df_temp])\n",
    "\n",
    "df[\"population\"] =pd.to_numeric(df[\"population\"])\n",
    "df.sort_values(['population'], ascending=[False]).head(10)"
   ]
  },
  {
   "cell_type": "code",
   "execution_count": null,
   "metadata": {
    "collapsed": true
   },
   "outputs": [],
   "source": []
  },
  {
   "cell_type": "code",
   "execution_count": 11,
   "metadata": {
    "collapsed": false
   },
   "outputs": [
    {
     "data": {
      "text/html": [
       "<div>\n",
       "<table border=\"1\" class=\"dataframe\">\n",
       "  <thead>\n",
       "    <tr style=\"text-align: right;\">\n",
       "      <th></th>\n",
       "      <th>country</th>\n",
       "      <th>ethnicity</th>\n",
       "      <th>population</th>\n",
       "    </tr>\n",
       "  </thead>\n",
       "  <tbody>\n",
       "    <tr>\n",
       "      <th>0</th>\n",
       "      <td>China</td>\n",
       "      <td>Han Chinese</td>\n",
       "      <td>1.245059e+11</td>\n",
       "    </tr>\n",
       "    <tr>\n",
       "      <th>0</th>\n",
       "      <td>India</td>\n",
       "      <td>Indo-Aryan</td>\n",
       "      <td>8.718156e+10</td>\n",
       "    </tr>\n",
       "    <tr>\n",
       "      <th>0</th>\n",
       "      <td>India</td>\n",
       "      <td>Dravidian</td>\n",
       "      <td>3.027137e+10</td>\n",
       "    </tr>\n",
       "    <tr>\n",
       "      <th>0</th>\n",
       "      <td>United States</td>\n",
       "      <td>European</td>\n",
       "      <td>2.549581e+10</td>\n",
       "    </tr>\n",
       "    <tr>\n",
       "      <th>0</th>\n",
       "      <td>Nigeria</td>\n",
       "      <td>African</td>\n",
       "      <td>1.626516e+10</td>\n",
       "    </tr>\n",
       "    <tr>\n",
       "      <th>0</th>\n",
       "      <td>Bangladesh</td>\n",
       "      <td>Bengali</td>\n",
       "      <td>1.467769e+10</td>\n",
       "    </tr>\n",
       "    <tr>\n",
       "      <th>0</th>\n",
       "      <td>Japan</td>\n",
       "      <td>Japanese</td>\n",
       "      <td>1.265342e+10</td>\n",
       "    </tr>\n",
       "    <tr>\n",
       "      <th>0</th>\n",
       "      <td>Russia</td>\n",
       "      <td>Russian</td>\n",
       "      <td>1.146462e+10</td>\n",
       "    </tr>\n",
       "    <tr>\n",
       "      <th>0</th>\n",
       "      <td>Indonesia</td>\n",
       "      <td>Javanese</td>\n",
       "      <td>1.134560e+10</td>\n",
       "    </tr>\n",
       "    <tr>\n",
       "      <th>0</th>\n",
       "      <td>Brazil</td>\n",
       "      <td>European</td>\n",
       "      <td>1.088867e+10</td>\n",
       "    </tr>\n",
       "  </tbody>\n",
       "</table>\n",
       "</div>"
      ],
      "text/plain": [
       "         country    ethnicity    population\n",
       "0          China  Han Chinese  1.245059e+11\n",
       "0          India   Indo-Aryan  8.718156e+10\n",
       "0          India    Dravidian  3.027137e+10\n",
       "0  United States     European  2.549581e+10\n",
       "0        Nigeria      African  1.626516e+10\n",
       "0     Bangladesh      Bengali  1.467769e+10\n",
       "0          Japan     Japanese  1.265342e+10\n",
       "0         Russia      Russian  1.146462e+10\n",
       "0      Indonesia     Javanese  1.134560e+10\n",
       "0         Brazil     European  1.088867e+10"
      ]
     },
     "execution_count": 11,
     "metadata": {},
     "output_type": "execute_result"
    }
   ],
   "source": [
    "df = pd.DataFrame(columns=('country', 'ethnicity','population'))\n",
    "df_temp = pd.DataFrame(columns=('country', 'ethnicity','population'))\n",
    "for country in root.findall('country'):\n",
    "    population = country.find('population[last()]')\n",
    "    country_name = country.find('name').text\n",
    "    if population is not None:\n",
    "        pop = (float(population.text))\n",
    "        #print(pop)\n",
    "    for ethnicgroups in country.iter('ethnicgroup'):\n",
    "        name = ethnicgroups.text\n",
    "        percent = ethnicgroups.get('percentage')\n",
    "        ethnic_pop = float(percent)*pop\n",
    "        df_temp=pd.DataFrame({'country':[country_name],\n",
    "                                  'ethnicity':[name],\n",
    "                                  'population':[ethnic_pop]})\n",
    "        df = pd.concat([df,df_temp])\n",
    "df.sort_values(['population'], ascending=[False]).head(10)"
   ]
  },
  {
   "cell_type": "code",
   "execution_count": null,
   "metadata": {
    "collapsed": true
   },
   "outputs": [],
   "source": []
  },
  {
   "cell_type": "code",
   "execution_count": 12,
   "metadata": {
    "collapsed": false
   },
   "outputs": [
    {
     "data": {
      "text/html": [
       "<div>\n",
       "<table border=\"1\" class=\"dataframe\">\n",
       "  <thead>\n",
       "    <tr style=\"text-align: right;\">\n",
       "      <th></th>\n",
       "      <th>country</th>\n",
       "      <th>length</th>\n",
       "      <th>river</th>\n",
       "    </tr>\n",
       "  </thead>\n",
       "  <tbody>\n",
       "    <tr>\n",
       "      <th>0</th>\n",
       "      <td>CO BR PE</td>\n",
       "      <td>6448.0</td>\n",
       "      <td>river-Amazonas</td>\n",
       "    </tr>\n",
       "  </tbody>\n",
       "</table>\n",
       "</div>"
      ],
      "text/plain": [
       "    country  length           river\n",
       "0  CO BR PE  6448.0  river-Amazonas"
      ]
     },
     "execution_count": 12,
     "metadata": {},
     "output_type": "execute_result"
    }
   ],
   "source": [
    "df = pd.DataFrame(columns=('river', 'country','length'))\n",
    "df_temp = pd.DataFrame(columns=('river', 'country','length'))\n",
    "for river in root.iter('river'):\n",
    "    name = river.get('id')\n",
    "    country = river.get('country')\n",
    "    if name is not None:\n",
    "        length = river.find('./length')\n",
    "        if length is not None:\n",
    "            #print (length)\n",
    "            len1 = length.text\n",
    "            df_temp=pd.DataFrame({'river':[name],\n",
    "                                  'country':[country],\n",
    "                                  'length':[len1]})\n",
    "            df = pd.concat([df,df_temp])\n",
    "\n",
    "df[\"length\"] =pd.to_numeric(df[\"length\"])\n",
    "df.sort_values(['length'], ascending=[False]).head(1)"
   ]
  },
  {
   "cell_type": "code",
   "execution_count": null,
   "metadata": {
    "collapsed": true
   },
   "outputs": [],
   "source": []
  },
  {
   "cell_type": "code",
   "execution_count": 13,
   "metadata": {
    "collapsed": false
   },
   "outputs": [
    {
     "data": {
      "text/html": [
       "<div>\n",
       "<table border=\"1\" class=\"dataframe\">\n",
       "  <thead>\n",
       "    <tr style=\"text-align: right;\">\n",
       "      <th></th>\n",
       "      <th>area</th>\n",
       "      <th>country</th>\n",
       "      <th>lake</th>\n",
       "    </tr>\n",
       "  </thead>\n",
       "  <tbody>\n",
       "    <tr>\n",
       "      <th>0</th>\n",
       "      <td>386400.0</td>\n",
       "      <td>R AZ KAZ IR TM</td>\n",
       "      <td>lake-KaspischesMeer</td>\n",
       "    </tr>\n",
       "  </tbody>\n",
       "</table>\n",
       "</div>"
      ],
      "text/plain": [
       "       area         country                 lake\n",
       "0  386400.0  R AZ KAZ IR TM  lake-KaspischesMeer"
      ]
     },
     "execution_count": 13,
     "metadata": {},
     "output_type": "execute_result"
    }
   ],
   "source": [
    "df = pd.DataFrame(columns=('lake', 'country','area'))\n",
    "df_temp = pd.DataFrame(columns=('lake', 'country','area'))\n",
    "for lake in root.iter('lake'):\n",
    "    name = lake.get('id')\n",
    "    country = lake.get('country')\n",
    "    if name is not None:\n",
    "        area = lake.find('./area')\n",
    "        if area is not None:\n",
    "            #print (length)\n",
    "            area1 = area.text\n",
    "            df_temp=pd.DataFrame({'lake':[name],\n",
    "                                  'country':[country],\n",
    "                                  'area':[area1]})\n",
    "            df = pd.concat([df,df_temp])\n",
    "\n",
    "df[\"area\"] =pd.to_numeric(df[\"area\"])\n",
    "df.sort_values(['area'], ascending=[False]).head(1)"
   ]
  },
  {
   "cell_type": "code",
   "execution_count": null,
   "metadata": {
    "collapsed": true
   },
   "outputs": [],
   "source": []
  },
  {
   "cell_type": "code",
   "execution_count": 14,
   "metadata": {
    "collapsed": false
   },
   "outputs": [
    {
     "data": {
      "text/html": [
       "<div>\n",
       "<table border=\"1\" class=\"dataframe\">\n",
       "  <thead>\n",
       "    <tr style=\"text-align: right;\">\n",
       "      <th></th>\n",
       "      <th>airport</th>\n",
       "      <th>country</th>\n",
       "      <th>elevation</th>\n",
       "    </tr>\n",
       "  </thead>\n",
       "  <tbody>\n",
       "    <tr>\n",
       "      <th>0</th>\n",
       "      <td>LPB</td>\n",
       "      <td>BOL</td>\n",
       "      <td>4063.0</td>\n",
       "    </tr>\n",
       "  </tbody>\n",
       "</table>\n",
       "</div>"
      ],
      "text/plain": [
       "  airport country  elevation\n",
       "0     LPB     BOL     4063.0"
      ]
     },
     "execution_count": 14,
     "metadata": {},
     "output_type": "execute_result"
    }
   ],
   "source": [
    "df = pd.DataFrame(columns=('airport', 'country','elevation'))\n",
    "df_temp = pd.DataFrame(columns=('airport', 'country','elevation'))\n",
    "for airport in root.iter('airport'):\n",
    "    name = airport.get('iatacode')\n",
    "    country = airport.get('country')\n",
    "    if name is not None:\n",
    "        elevation = airport.find('./elevation')\n",
    "        if elevation is not None:\n",
    "            #print (length)\n",
    "            elevation1 = elevation.text\n",
    "            df_temp=pd.DataFrame({'airport':[name],\n",
    "                                  'country':[country],\n",
    "                                  'elevation':[elevation1]})\n",
    "            df = pd.concat([df,df_temp])\n",
    "\n",
    "df[\"elevation\"] =pd.to_numeric(df[\"elevation\"])\n",
    "df.sort_values(['elevation'], ascending=[False]).head(1)"
   ]
  },
  {
   "cell_type": "code",
   "execution_count": null,
   "metadata": {
    "collapsed": true
   },
   "outputs": [],
   "source": []
  }
 ],
 "metadata": {
  "anaconda-cloud": {},
  "kernelspec": {
   "display_name": "Python [conda root]",
   "language": "python",
   "name": "conda-root-py"
  },
  "language_info": {
   "codemirror_mode": {
    "name": "ipython",
    "version": 3
   },
   "file_extension": ".py",
   "mimetype": "text/x-python",
   "name": "python",
   "nbconvert_exporter": "python",
   "pygments_lexer": "ipython3",
   "version": "3.5.2"
  }
 },
 "nbformat": 4,
 "nbformat_minor": 0
}
