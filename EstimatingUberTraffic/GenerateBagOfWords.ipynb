{
 "cells": [
  {
   "cell_type": "code",
   "execution_count": 20,
   "metadata": {
    "collapsed": false
   },
   "outputs": [
    {
     "name": "stdout",
     "output_type": "stream",
     "text": [
      "[('F', 243), ('NC', 118), ('#job', 116), ('#ClaytonNC', 114), ('#CarolinaWx', 106), ('Gibbous', 97), ('mph', 97), ('Waning', 97), ('inHg', 97), ('BP', 97), ('Dp', 97), ('Mn', 97), ('RH', 97), ('Dry', 97), ('#Hiring', 75)]\n"
     ]
    }
   ],
   "source": [
    "import time\n",
    "import re\n",
    "import pytz\n",
    "from pytz import timezone\n",
    "from nltk.tokenize import word_tokenize\n",
    "from collections import Counter\n",
    "from nltk.corpus import stopwords\n",
    "import string\n",
    "from nltk import trigrams\n",
    "import json\n",
    "import pandas as pd\n",
    "from unicodedata import normalize\n",
    " \n",
    "punctuation = list(string.punctuation)\n",
    "stop = stopwords.words('english') + punctuation + ['RT', 'rt', 'via', 'I' , 'like','\\\\',',',':','in','…','\\ud83c','\\ud83d','°']\n",
    "\n",
    "emoji_pattern = re.compile(\"[\"\n",
    "        u\"\\U0001F600-\\U0001F64F\"  # emoticons\n",
    "        u\"\\U0001F300-\\U0001F5FF\"  # symbols & pictographs\n",
    "        u\"\\U0001F680-\\U0001F6FF\"  # transport & map symbols\n",
    "        u\"\\U0001F1E0-\\U0001F1FF\"  # flags (iOS)\n",
    "                           \"]+\", flags=re.UNICODE)\n",
    "\n",
    "\n",
    "emoticons_str = r\"\"\"\n",
    "    (?:\n",
    "        [:=;] # Eyes\n",
    "        [oO\\-]? # Nose (optional)\n",
    "        [D\\)\\]\\(\\]/\\\\OpP] # Mouth\n",
    "        \n",
    "    )\"\"\"\n",
    "\n",
    "\n",
    "regex_str = [\n",
    "    emoticons_str,\n",
    "    r'<[^>]+>', # HTML tags\n",
    "    r'(?:@[\\w_]+)', # @-mentions\n",
    "    r\"(?:\\#+[\\w_]+[\\w\\'_\\-]*[\\w_]+)\", # hash-tags\n",
    "    r'http[s]?://(?:[a-z]|[0-9]|[$-_@.&amp;+]|[!*\\(\\),]|(?:%[0-9a-f][0-9a-f]))+', # URLs\n",
    " \n",
    "    r'(?:(?:\\d+,?)+(?:\\.?\\d+)?)', # numbers\n",
    "    r\"(?:[a-z][a-z'\\-_]+[a-z])\", # words with - and '\n",
    "    r'(?:[\\w_]+)', # other words\n",
    "    r'(?:\\S)' # anything else\n",
    "]\n",
    "\n",
    "\n",
    "tokens_re = re.compile(r'('+'|'.join(regex_str)+')', re.VERBOSE | re.IGNORECASE)\n",
    "emoticon_re = re.compile(r'^'+emoticons_str+'$', re.VERBOSE | re.IGNORECASE)\n",
    " \n",
    "def tokenize(s):\n",
    "    return tokens_re.findall(s)\n",
    " \n",
    "def preprocess(s, lowercase=False):\n",
    "    tokens = tokenize(s)\n",
    "    if lowercase:\n",
    "        tokens = [token if emoticon_re.search(token) else token.lower() for token in tokens]\n",
    "    return tokens\n",
    "\n",
    "count_all = Counter()\n",
    "\n",
    "#twitter_dataset = pd.read_table('tweets_streamed_dataset.txt', index_col=None)\n",
    "twitter_dataset = pd.read_table('sample_streamed.txt', index_col=None)\n",
    "\n",
    "for tweet in twitter_dataset.tweet_text:\n",
    "    tweet = normalize('NFKD', tweet).encode('ascii','ignore').decode('unicode_escape')\n",
    "    #terms_stop = [term for term in preprocess(tweet) if term not in stop and not term.startswith(('#', '@')) and not emoji_pattern.search(term)]\n",
    "    #terms_trigram = trigrams(terms_stop)\n",
    "    #terms_hash = [term for term in preprocess(tweet1) if term.startswith('#')]\n",
    "    terms_all = [term for term in preprocess(tweet) if term not in stop]\n",
    "    #count_all.update(terms_trigram)\n",
    "    #count_all.update(terms_hash)\n",
    "    count_all.update(terms_all)\n",
    "    \n",
    "\n",
    "print(count_all.most_common(15))"
   ]
  }
 ],
 "metadata": {
  "kernelspec": {
   "display_name": "Python [conda root]",
   "language": "python",
   "name": "conda-root-py"
  },
  "language_info": {
   "codemirror_mode": {
    "name": "ipython",
    "version": 3
   },
   "file_extension": ".py",
   "mimetype": "text/x-python",
   "name": "python",
   "nbconvert_exporter": "python",
   "pygments_lexer": "ipython3",
   "version": "3.5.2"
  }
 },
 "nbformat": 4,
 "nbformat_minor": 1
}
