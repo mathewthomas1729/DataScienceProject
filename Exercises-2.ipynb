{
 "cells": [
  {
   "cell_type": "code",
   "execution_count": 3,
   "metadata": {
    "collapsed": false
   },
   "outputs": [],
   "source": [
    "%matplotlib inline\n",
    "import pandas as pd"
   ]
  },
  {
   "cell_type": "code",
   "execution_count": null,
   "metadata": {
    "collapsed": true
   },
   "outputs": [],
   "source": []
  },
  {
   "cell_type": "code",
   "execution_count": 4,
   "metadata": {
    "collapsed": false
   },
   "outputs": [
    {
     "data": {
      "text/html": [
       "<style>body {\n",
       "    margin: 0;\n",
       "    font-family: Helvetica;\n",
       "}\n",
       "table.dataframe {\n",
       "    border-collapse: collapse;\n",
       "    border: none;\n",
       "}\n",
       "table.dataframe tr {\n",
       "    border: none;\n",
       "}\n",
       "table.dataframe td, table.dataframe th {\n",
       "    margin: 0;\n",
       "    border: 1px solid white;\n",
       "    padding-left: 0.25em;\n",
       "    padding-right: 0.25em;\n",
       "}\n",
       "table.dataframe th:not(:empty) {\n",
       "    background-color: #fec;\n",
       "    text-align: left;\n",
       "    font-weight: normal;\n",
       "}\n",
       "table.dataframe tr:nth-child(2) th:empty {\n",
       "    border-left: none;\n",
       "    border-right: 1px dashed #888;\n",
       "}\n",
       "table.dataframe td {\n",
       "    border: 2px solid #ccf;\n",
       "    background-color: #f4f4ff;\n",
       "}\n",
       "h3 {\n",
       "    color: white;\n",
       "    background-color: black;\n",
       "    padding: 0.5em;\n",
       "}\n",
       "</style>"
      ],
      "text/plain": [
       "<IPython.core.display.HTML object>"
      ]
     },
     "execution_count": 4,
     "metadata": {},
     "output_type": "execute_result"
    }
   ],
   "source": [
    "from IPython.core.display import HTML\n",
    "css = open('style-table.css').read() + open('style-notebook.css').read()\n",
    "HTML('<style>{}</style>'.format(css))"
   ]
  },
  {
   "cell_type": "code",
   "execution_count": null,
   "metadata": {
    "collapsed": true
   },
   "outputs": [],
   "source": []
  },
  {
   "cell_type": "code",
   "execution_count": 5,
   "metadata": {
    "collapsed": false
   },
   "outputs": [
    {
     "data": {
      "text/html": [
       "<div>\n",
       "<table border=\"1\" class=\"dataframe\">\n",
       "  <thead>\n",
       "    <tr style=\"text-align: right;\">\n",
       "      <th></th>\n",
       "      <th>title</th>\n",
       "      <th>year</th>\n",
       "    </tr>\n",
       "  </thead>\n",
       "  <tbody>\n",
       "    <tr>\n",
       "      <th>0</th>\n",
       "      <td>My Lady Boss</td>\n",
       "      <td>2013</td>\n",
       "    </tr>\n",
       "    <tr>\n",
       "      <th>1</th>\n",
       "      <td>Folly of Vanity</td>\n",
       "      <td>1924</td>\n",
       "    </tr>\n",
       "    <tr>\n",
       "      <th>2</th>\n",
       "      <td>The Gambler of the West</td>\n",
       "      <td>1915</td>\n",
       "    </tr>\n",
       "    <tr>\n",
       "      <th>3</th>\n",
       "      <td>Caleuche: El llamado del Mar</td>\n",
       "      <td>2012</td>\n",
       "    </tr>\n",
       "    <tr>\n",
       "      <th>4</th>\n",
       "      <td>Parachute Nurse</td>\n",
       "      <td>1942</td>\n",
       "    </tr>\n",
       "  </tbody>\n",
       "</table>\n",
       "</div>"
      ],
      "text/plain": [
       "                          title  year\n",
       "0                  My Lady Boss  2013\n",
       "1               Folly of Vanity  1924\n",
       "2       The Gambler of the West  1915\n",
       "3  Caleuche: El llamado del Mar  2012\n",
       "4               Parachute Nurse  1942"
      ]
     },
     "execution_count": 5,
     "metadata": {},
     "output_type": "execute_result"
    }
   ],
   "source": [
    "titles = pd.DataFrame.from_csv('data/titles.csv', index_col=None)\n",
    "titles.head()"
   ]
  },
  {
   "cell_type": "code",
   "execution_count": null,
   "metadata": {
    "collapsed": true
   },
   "outputs": [],
   "source": [
    "\n"
   ]
  },
  {
   "cell_type": "code",
   "execution_count": 15,
   "metadata": {
    "collapsed": false
   },
   "outputs": [
    {
     "data": {
      "text/html": [
       "<div>\n",
       "<table border=\"1\" class=\"dataframe\">\n",
       "  <thead>\n",
       "    <tr style=\"text-align: right;\">\n",
       "      <th></th>\n",
       "      <th>title</th>\n",
       "      <th>year</th>\n",
       "      <th>name</th>\n",
       "      <th>type</th>\n",
       "      <th>character</th>\n",
       "      <th>n</th>\n",
       "    </tr>\n",
       "  </thead>\n",
       "  <tbody>\n",
       "    <tr>\n",
       "      <th>0</th>\n",
       "      <td>Closet Monster</td>\n",
       "      <td>2015</td>\n",
       "      <td>Buffy #1</td>\n",
       "      <td>actor</td>\n",
       "      <td>Buffy 4</td>\n",
       "      <td>NaN</td>\n",
       "    </tr>\n",
       "    <tr>\n",
       "      <th>1</th>\n",
       "      <td>Suuri illusioni</td>\n",
       "      <td>1985</td>\n",
       "      <td>Homo $</td>\n",
       "      <td>actor</td>\n",
       "      <td>Guests</td>\n",
       "      <td>22.0</td>\n",
       "    </tr>\n",
       "    <tr>\n",
       "      <th>2</th>\n",
       "      <td>Battle of the Sexes</td>\n",
       "      <td>2017</td>\n",
       "      <td>$hutter</td>\n",
       "      <td>actor</td>\n",
       "      <td>Bobby Riggs Fan</td>\n",
       "      <td>10.0</td>\n",
       "    </tr>\n",
       "    <tr>\n",
       "      <th>3</th>\n",
       "      <td>Secret in Their Eyes</td>\n",
       "      <td>2015</td>\n",
       "      <td>$hutter</td>\n",
       "      <td>actor</td>\n",
       "      <td>2002 Dodger Fan</td>\n",
       "      <td>NaN</td>\n",
       "    </tr>\n",
       "    <tr>\n",
       "      <th>4</th>\n",
       "      <td>Steve Jobs</td>\n",
       "      <td>2015</td>\n",
       "      <td>$hutter</td>\n",
       "      <td>actor</td>\n",
       "      <td>1988 Opera House Patron</td>\n",
       "      <td>NaN</td>\n",
       "    </tr>\n",
       "  </tbody>\n",
       "</table>\n",
       "</div>"
      ],
      "text/plain": [
       "                  title  year      name   type                character     n\n",
       "0        Closet Monster  2015  Buffy #1  actor                  Buffy 4   NaN\n",
       "1       Suuri illusioni  1985    Homo $  actor                   Guests  22.0\n",
       "2   Battle of the Sexes  2017   $hutter  actor          Bobby Riggs Fan  10.0\n",
       "3  Secret in Their Eyes  2015   $hutter  actor          2002 Dodger Fan   NaN\n",
       "4            Steve Jobs  2015   $hutter  actor  1988 Opera House Patron   NaN"
      ]
     },
     "execution_count": 15,
     "metadata": {},
     "output_type": "execute_result"
    }
   ],
   "source": [
    "cast = pd.DataFrame.from_csv('data/cast.csv', index_col=None)\n",
    "cast.head()"
   ]
  },
  {
   "cell_type": "code",
   "execution_count": null,
   "metadata": {
    "collapsed": true
   },
   "outputs": [],
   "source": [
    "\n"
   ]
  },
  {
   "cell_type": "code",
   "execution_count": 1,
   "metadata": {
    "collapsed": false
   },
   "outputs": [
    {
     "ename": "NameError",
     "evalue": "name 'titles' is not defined",
     "output_type": "error",
     "traceback": [
      "\u001b[0;31m---------------------------------------------------------------------------\u001b[0m",
      "\u001b[0;31mNameError\u001b[0m                                 Traceback (most recent call last)",
      "\u001b[0;32m<ipython-input-1-0daa470949a6>\u001b[0m in \u001b[0;36m<module>\u001b[0;34m()\u001b[0m\n\u001b[0;32m----> 1\u001b[0;31m \u001b[0mtitles\u001b[0m\u001b[1;33m.\u001b[0m\u001b[0myear\u001b[0m\u001b[1;33m.\u001b[0m\u001b[0mvalues_count\u001b[0m\u001b[1;33m(\u001b[0m\u001b[1;33m)\u001b[0m\u001b[1;33m\u001b[0m\u001b[0m\n\u001b[0m",
      "\u001b[0;31mNameError\u001b[0m: name 'titles' is not defined"
     ]
    }
   ],
   "source": [
    "titles.year.values_count()"
   ]
  },
  {
   "cell_type": "code",
   "execution_count": 6,
   "metadata": {
    "collapsed": false
   },
   "outputs": [
    {
     "data": {
      "text/plain": [
       "2016    11061\n",
       "2015     8664\n",
       "2017     8379\n",
       "2014     8076\n",
       "2013     7674\n",
       "2012     7262\n",
       "2011     6867\n",
       "2010     6267\n",
       "2009     6030\n",
       "2008     5022\n",
       "2007     4347\n",
       "2006     4197\n",
       "2005     3939\n",
       "2004     3446\n",
       "2003     3116\n",
       "2002     2965\n",
       "2001     2838\n",
       "2000     2736\n",
       "1999     2496\n",
       "1998     2388\n",
       "1997     2306\n",
       "1988     2299\n",
       "1990     2290\n",
       "1991     2247\n",
       "1989     2234\n",
       "1987     2210\n",
       "1969     2159\n",
       "1992     2156\n",
       "1970     2144\n",
       "1996     2109\n",
       "        ...  \n",
       "1924      801\n",
       "1946      781\n",
       "1943      762\n",
       "1929      754\n",
       "1923      730\n",
       "1944      722\n",
       "1945      647\n",
       "1914      555\n",
       "2019      372\n",
       "1913      248\n",
       "2020      125\n",
       "1912      110\n",
       "1911       57\n",
       "2021       23\n",
       "1910       22\n",
       "2022       18\n",
       "1909       15\n",
       "2023       11\n",
       "1908        6\n",
       "1906        5\n",
       "1907        4\n",
       "1900        4\n",
       "1905        2\n",
       "1894        1\n",
       "1903        1\n",
       "1899        1\n",
       "2026        1\n",
       "1898        1\n",
       "2025        1\n",
       "2024        1\n",
       "Name: year, dtype: int64"
      ]
     },
     "execution_count": 6,
     "metadata": {},
     "output_type": "execute_result"
    }
   ],
   "source": [
    "titles.year.value_counts()"
   ]
  },
  {
   "cell_type": "code",
   "execution_count": 7,
   "metadata": {
    "collapsed": false
   },
   "outputs": [
    {
     "name": "stderr",
     "output_type": "stream",
     "text": [
      "C:\\Users\\Mathew\\Anaconda3\\lib\\site-packages\\ipykernel\\__main__.py:3: FutureWarning: sort is deprecated, use sort_values(inplace=True) for INPLACE sorting\n",
      "  app.launch_new_instance()\n"
     ]
    }
   ],
   "source": [
    "\n",
    "\n",
    "titles.year.value_counts().sort('year')"
   ]
  },
  {
   "cell_type": "code",
   "execution_count": 8,
   "metadata": {
    "collapsed": false
   },
   "outputs": [
    {
     "name": "stderr",
     "output_type": "stream",
     "text": [
      "C:\\Users\\Mathew\\Anaconda3\\lib\\site-packages\\ipykernel\\__main__.py:1: FutureWarning: sort is deprecated, use sort_values(inplace=True) for INPLACE sorting\n",
      "  if __name__ == '__main__':\n"
     ]
    }
   ],
   "source": [
    "titles.year.value_counts().sort()"
   ]
  },
  {
   "cell_type": "code",
   "execution_count": 9,
   "metadata": {
    "collapsed": false
   },
   "outputs": [
    {
     "data": {
      "text/plain": [
       "1894        1\n",
       "1898        1\n",
       "1899        1\n",
       "1900        4\n",
       "1903        1\n",
       "1905        2\n",
       "1906        5\n",
       "1907        4\n",
       "1908        6\n",
       "1909       15\n",
       "1910       22\n",
       "1911       57\n",
       "1912      110\n",
       "1913      248\n",
       "1914      555\n",
       "1915      885\n",
       "1916     1177\n",
       "1917     1196\n",
       "1918     1096\n",
       "1919     1152\n",
       "1920     1126\n",
       "1921      972\n",
       "1922      892\n",
       "1923      730\n",
       "1924      801\n",
       "1925      880\n",
       "1926      869\n",
       "1927      868\n",
       "1928      891\n",
       "1929      754\n",
       "        ...  \n",
       "1997     2306\n",
       "1998     2388\n",
       "1999     2496\n",
       "2000     2736\n",
       "2001     2838\n",
       "2002     2965\n",
       "2003     3116\n",
       "2004     3446\n",
       "2005     3939\n",
       "2006     4197\n",
       "2007     4347\n",
       "2008     5022\n",
       "2009     6030\n",
       "2010     6267\n",
       "2011     6867\n",
       "2012     7262\n",
       "2013     7674\n",
       "2014     8076\n",
       "2015     8664\n",
       "2016    11061\n",
       "2017     8379\n",
       "2018     2081\n",
       "2019      372\n",
       "2020      125\n",
       "2021       23\n",
       "2022       18\n",
       "2023       11\n",
       "2024        1\n",
       "2025        1\n",
       "2026        1\n",
       "Name: year, dtype: int64"
      ]
     },
     "execution_count": 9,
     "metadata": {},
     "output_type": "execute_result"
    }
   ],
   "source": [
    "\n",
    "titles.year.value_counts().sort_index()\n"
   ]
  },
  {
   "cell_type": "code",
   "execution_count": 10,
   "metadata": {
    "collapsed": false
   },
   "outputs": [
    {
     "data": {
      "text/plain": [
       "<matplotlib.axes._subplots.AxesSubplot at 0x1e84d096c18>"
      ]
     },
     "execution_count": 10,
     "metadata": {},
     "output_type": "execute_result"
    },
    {
     "data": {
      "image/png": "[encoded data removed]",
      "text/plain": [
       "<matplotlib.figure.Figure at 0x1e84d096160>"
      ]
     },
     "metadata": {},
     "output_type": "display_data"
    }
   ],
   "source": [
    "titles.year.value_counts().sort_index().plot()"
   ]
  },
  {
   "cell_type": "code",
   "execution_count": 11,
   "metadata": {
    "collapsed": false
   },
   "outputs": [
    {
     "ename": "NameError",
     "evalue": "name 'title' is not defined",
     "output_type": "error",
     "traceback": [
      "\u001b[0;31m---------------------------------------------------------------------------\u001b[0m",
      "\u001b[0;31mNameError\u001b[0m                                 Traceback (most recent call last)",
      "\u001b[0;32m<ipython-input-11-a5c63f1ad245>\u001b[0m in \u001b[0;36m<module>\u001b[0;34m()\u001b[0m\n\u001b[0;32m----> 1\u001b[0;31m \u001b[0mtitles\u001b[0m\u001b[1;33m[\u001b[0m\u001b[0mtitle\u001b[0m\u001b[1;33m.\u001b[0m\u001b[0mstr\u001b[0m\u001b[1;33m.\u001b[0m\u001b[0mcontains\u001b[0m\u001b[1;33m(\u001b[0m\u001b[1;34m'Hamlet'\u001b[0m\u001b[1;33m)\u001b[0m\u001b[1;33m]\u001b[0m\u001b[1;33m.\u001b[0m\u001b[0mhead\u001b[0m\u001b[1;33m(\u001b[0m\u001b[1;33m)\u001b[0m\u001b[1;33m\u001b[0m\u001b[0m\n\u001b[0m",
      "\u001b[0;31mNameError\u001b[0m: name 'title' is not defined"
     ]
    }
   ],
   "source": [
    "titles[title.str.contains('Hamlet')].head()"
   ]
  },
  {
   "cell_type": "code",
   "execution_count": 12,
   "metadata": {
    "collapsed": false
   },
   "outputs": [
    {
     "data": {
      "text/html": [
       "<div>\n",
       "<table border=\"1\" class=\"dataframe\">\n",
       "  <thead>\n",
       "    <tr style=\"text-align: right;\">\n",
       "      <th></th>\n",
       "      <th>title</th>\n",
       "      <th>year</th>\n",
       "    </tr>\n",
       "  </thead>\n",
       "  <tbody>\n",
       "    <tr>\n",
       "      <th>0</th>\n",
       "      <td>My Lady Boss</td>\n",
       "      <td>2013</td>\n",
       "    </tr>\n",
       "    <tr>\n",
       "      <th>1</th>\n",
       "      <td>Folly of Vanity</td>\n",
       "      <td>1924</td>\n",
       "    </tr>\n",
       "    <tr>\n",
       "      <th>2</th>\n",
       "      <td>The Gambler of the West</td>\n",
       "      <td>1915</td>\n",
       "    </tr>\n",
       "    <tr>\n",
       "      <th>3</th>\n",
       "      <td>Caleuche: El llamado del Mar</td>\n",
       "      <td>2012</td>\n",
       "    </tr>\n",
       "    <tr>\n",
       "      <th>4</th>\n",
       "      <td>Parachute Nurse</td>\n",
       "      <td>1942</td>\n",
       "    </tr>\n",
       "  </tbody>\n",
       "</table>\n",
       "</div>"
      ],
      "text/plain": [
       "                          title  year\n",
       "0                  My Lady Boss  2013\n",
       "1               Folly of Vanity  1924\n",
       "2       The Gambler of the West  1915\n",
       "3  Caleuche: El llamado del Mar  2012\n",
       "4               Parachute Nurse  1942"
      ]
     },
     "execution_count": 12,
     "metadata": {},
     "output_type": "execute_result"
    }
   ],
   "source": [
    "\n",
    "titles.head()"
   ]
  },
  {
   "cell_type": "code",
   "execution_count": 13,
   "metadata": {
    "collapsed": false
   },
   "outputs": [
    {
     "data": {
      "text/html": [
       "<div>\n",
       "<table border=\"1\" class=\"dataframe\">\n",
       "  <thead>\n",
       "    <tr style=\"text-align: right;\">\n",
       "      <th></th>\n",
       "      <th>title</th>\n",
       "      <th>year</th>\n",
       "    </tr>\n",
       "  </thead>\n",
       "  <tbody>\n",
       "    <tr>\n",
       "      <th>12973</th>\n",
       "      <td>Hamlet: The Fall of a Sparrow</td>\n",
       "      <td>2017</td>\n",
       "    </tr>\n",
       "    <tr>\n",
       "      <th>13284</th>\n",
       "      <td>Hamlet</td>\n",
       "      <td>1911</td>\n",
       "    </tr>\n",
       "    <tr>\n",
       "      <th>15853</th>\n",
       "      <td>Hamlet Unbound</td>\n",
       "      <td>2012</td>\n",
       "    </tr>\n",
       "    <tr>\n",
       "      <th>17530</th>\n",
       "      <td>Hamlet's Ghost</td>\n",
       "      <td>2015</td>\n",
       "    </tr>\n",
       "    <tr>\n",
       "      <th>19821</th>\n",
       "      <td>Hamlet in the Hamptons</td>\n",
       "      <td>2002</td>\n",
       "    </tr>\n",
       "  </tbody>\n",
       "</table>\n",
       "</div>"
      ],
      "text/plain": [
       "                               title  year\n",
       "12973  Hamlet: The Fall of a Sparrow  2017\n",
       "13284                         Hamlet  1911\n",
       "15853                 Hamlet Unbound  2012\n",
       "17530                 Hamlet's Ghost  2015\n",
       "19821         Hamlet in the Hamptons  2002"
      ]
     },
     "execution_count": 13,
     "metadata": {},
     "output_type": "execute_result"
    }
   ],
   "source": [
    "titles[titles.title.str.contains('Hamlet')].head()\n"
   ]
  },
  {
   "cell_type": "code",
   "execution_count": 16,
   "metadata": {
    "collapsed": false
   },
   "outputs": [
    {
     "data": {
      "text/plain": [
       "<matplotlib.axes._subplots.AxesSubplot at 0x1e86dccb240>"
      ]
     },
     "execution_count": 16,
     "metadata": {},
     "output_type": "execute_result"
    },
    {
     "data": {
      "image/png": "[encoded data removed]",
      "text/plain": [
       "<matplotlib.figure.Figure at 0x1e86dccb5c0>"
      ]
     },
     "metadata": {},
     "output_type": "display_data"
    }
   ],
   "source": [
    "c = cast\n",
    "c = c[c.character.str.contains('kirk')]\n",
    "c.plot(x='year',y='n')"
   ]
  },
  {
   "cell_type": "code",
   "execution_count": 17,
   "metadata": {
    "collapsed": false
   },
   "outputs": [
    {
     "data": {
      "text/plain": [
       "<matplotlib.axes._subplots.AxesSubplot at 0x1e86dcd6c50>"
      ]
     },
     "execution_count": 17,
     "metadata": {},
     "output_type": "execute_result"
    },
    {
     "data": {
      "image/png": "[encoded data removed]",
      "text/plain": [
       "<matplotlib.figure.Figure at 0x1e86dce8080>"
      ]
     },
     "metadata": {},
     "output_type": "display_data"
    }
   ],
   "source": [
    "c = cast\n",
    "c = c[c.character.str.contains('kirk')]\n",
    "c.plot(x='year',y='n',kind='scatter')\n",
    "\n"
   ]
  },
  {
   "cell_type": "code",
   "execution_count": 18,
   "metadata": {
    "collapsed": false
   },
   "outputs": [
    {
     "data": {
      "text/plain": [
       "<matplotlib.axes._subplots.AxesSubplot at 0x1e84e32ac18>"
      ]
     },
     "execution_count": 18,
     "metadata": {},
     "output_type": "execute_result"
    },
    {
     "data": {
      "image/png": "[encoded data removed]",
      "text/plain": [
       "<matplotlib.figure.Figure at 0x1e84e3032b0>"
      ]
     },
     "metadata": {},
     "output_type": "display_data"
    }
   ],
   "source": [
    "\n",
    "c = cast\n",
    "c = c[c.character.str.contains('kirk')]\n",
    "c.plot(x='year',y='n',kind='scatter')\n"
   ]
  },
  {
   "cell_type": "code",
   "execution_count": 19,
   "metadata": {
    "collapsed": false
   },
   "outputs": [
    {
     "ename": "TypeError",
     "evalue": "Empty 'DataFrame': no numeric data to plot",
     "output_type": "error",
     "traceback": [
      "\u001b[0;31m---------------------------------------------------------------------------\u001b[0m",
      "\u001b[0;31mTypeError\u001b[0m                                 Traceback (most recent call last)",
      "\u001b[0;32m<ipython-input-19-54ba84396cdc>\u001b[0m in \u001b[0;36m<module>\u001b[0;34m()\u001b[0m\n\u001b[1;32m      6\u001b[0m \u001b[0mc\u001b[0m \u001b[1;33m=\u001b[0m \u001b[0mcast\u001b[0m\u001b[1;33m\u001b[0m\u001b[0m\n\u001b[1;32m      7\u001b[0m \u001b[0mc\u001b[0m \u001b[1;33m=\u001b[0m \u001b[0mc\u001b[0m\u001b[1;33m[\u001b[0m\u001b[0mc\u001b[0m\u001b[1;33m.\u001b[0m\u001b[0mcharacter\u001b[0m\u001b[1;33m.\u001b[0m\u001b[0mstr\u001b[0m\u001b[1;33m.\u001b[0m\u001b[0mcontains\u001b[0m\u001b[1;33m(\u001b[0m\u001b[1;34m'kermit'\u001b[0m\u001b[1;33m)\u001b[0m\u001b[1;33m]\u001b[0m\u001b[1;33m\u001b[0m\u001b[0m\n\u001b[0;32m----> 8\u001b[0;31m \u001b[0mc\u001b[0m\u001b[1;33m.\u001b[0m\u001b[0mplot\u001b[0m\u001b[1;33m(\u001b[0m\u001b[0mx\u001b[0m\u001b[1;33m=\u001b[0m\u001b[1;34m'year'\u001b[0m\u001b[1;33m,\u001b[0m\u001b[0my\u001b[0m\u001b[1;33m=\u001b[0m\u001b[1;34m'n'\u001b[0m\u001b[1;33m,\u001b[0m\u001b[0mkind\u001b[0m\u001b[1;33m=\u001b[0m\u001b[1;34m'scatter'\u001b[0m\u001b[1;33m)\u001b[0m\u001b[1;33m\u001b[0m\u001b[0m\n\u001b[0m",
      "\u001b[0;32mC:\\Users\\Mathew\\Anaconda3\\lib\\site-packages\\pandas\\tools\\plotting.py\u001b[0m in \u001b[0;36m__call__\u001b[0;34m(self, x, y, kind, ax, subplots, sharex, sharey, layout, figsize, use_index, title, grid, legend, style, logx, logy, loglog, xticks, yticks, xlim, ylim, rot, fontsize, colormap, table, yerr, xerr, secondary_y, sort_columns, **kwds)\u001b[0m\n\u001b[1;32m   3738\u001b[0m                           \u001b[0mfontsize\u001b[0m\u001b[1;33m=\u001b[0m\u001b[0mfontsize\u001b[0m\u001b[1;33m,\u001b[0m \u001b[0mcolormap\u001b[0m\u001b[1;33m=\u001b[0m\u001b[0mcolormap\u001b[0m\u001b[1;33m,\u001b[0m \u001b[0mtable\u001b[0m\u001b[1;33m=\u001b[0m\u001b[0mtable\u001b[0m\u001b[1;33m,\u001b[0m\u001b[1;33m\u001b[0m\u001b[0m\n\u001b[1;32m   3739\u001b[0m                           \u001b[0myerr\u001b[0m\u001b[1;33m=\u001b[0m\u001b[0myerr\u001b[0m\u001b[1;33m,\u001b[0m \u001b[0mxerr\u001b[0m\u001b[1;33m=\u001b[0m\u001b[0mxerr\u001b[0m\u001b[1;33m,\u001b[0m \u001b[0msecondary_y\u001b[0m\u001b[1;33m=\u001b[0m\u001b[0msecondary_y\u001b[0m\u001b[1;33m,\u001b[0m\u001b[1;33m\u001b[0m\u001b[0m\n\u001b[0;32m-> 3740\u001b[0;31m                           sort_columns=sort_columns, **kwds)\n\u001b[0m\u001b[1;32m   3741\u001b[0m     \u001b[0m__call__\u001b[0m\u001b[1;33m.\u001b[0m\u001b[0m__doc__\u001b[0m \u001b[1;33m=\u001b[0m \u001b[0mplot_frame\u001b[0m\u001b[1;33m.\u001b[0m\u001b[0m__doc__\u001b[0m\u001b[1;33m\u001b[0m\u001b[0m\n\u001b[1;32m   3742\u001b[0m \u001b[1;33m\u001b[0m\u001b[0m\n",
      "\u001b[0;32mC:\\Users\\Mathew\\Anaconda3\\lib\\site-packages\\pandas\\tools\\plotting.py\u001b[0m in \u001b[0;36mplot_frame\u001b[0;34m(data, x, y, kind, ax, subplots, sharex, sharey, layout, figsize, use_index, title, grid, legend, style, logx, logy, loglog, xticks, yticks, xlim, ylim, rot, fontsize, colormap, table, yerr, xerr, secondary_y, sort_columns, **kwds)\u001b[0m\n\u001b[1;32m   2612\u001b[0m                  \u001b[0myerr\u001b[0m\u001b[1;33m=\u001b[0m\u001b[0myerr\u001b[0m\u001b[1;33m,\u001b[0m \u001b[0mxerr\u001b[0m\u001b[1;33m=\u001b[0m\u001b[0mxerr\u001b[0m\u001b[1;33m,\u001b[0m\u001b[1;33m\u001b[0m\u001b[0m\n\u001b[1;32m   2613\u001b[0m                  \u001b[0msecondary_y\u001b[0m\u001b[1;33m=\u001b[0m\u001b[0msecondary_y\u001b[0m\u001b[1;33m,\u001b[0m \u001b[0msort_columns\u001b[0m\u001b[1;33m=\u001b[0m\u001b[0msort_columns\u001b[0m\u001b[1;33m,\u001b[0m\u001b[1;33m\u001b[0m\u001b[0m\n\u001b[0;32m-> 2614\u001b[0;31m                  **kwds)\n\u001b[0m\u001b[1;32m   2615\u001b[0m \u001b[1;33m\u001b[0m\u001b[0m\n\u001b[1;32m   2616\u001b[0m \u001b[1;33m\u001b[0m\u001b[0m\n",
      "\u001b[0;32mC:\\Users\\Mathew\\Anaconda3\\lib\\site-packages\\pandas\\tools\\plotting.py\u001b[0m in \u001b[0;36m_plot\u001b[0;34m(data, x, y, subplots, ax, kind, **kwds)\u001b[0m\n\u001b[1;32m   2439\u001b[0m         \u001b[0mplot_obj\u001b[0m \u001b[1;33m=\u001b[0m \u001b[0mklass\u001b[0m\u001b[1;33m(\u001b[0m\u001b[0mdata\u001b[0m\u001b[1;33m,\u001b[0m \u001b[0msubplots\u001b[0m\u001b[1;33m=\u001b[0m\u001b[0msubplots\u001b[0m\u001b[1;33m,\u001b[0m \u001b[0max\u001b[0m\u001b[1;33m=\u001b[0m\u001b[0max\u001b[0m\u001b[1;33m,\u001b[0m \u001b[0mkind\u001b[0m\u001b[1;33m=\u001b[0m\u001b[0mkind\u001b[0m\u001b[1;33m,\u001b[0m \u001b[1;33m**\u001b[0m\u001b[0mkwds\u001b[0m\u001b[1;33m)\u001b[0m\u001b[1;33m\u001b[0m\u001b[0m\n\u001b[1;32m   2440\u001b[0m \u001b[1;33m\u001b[0m\u001b[0m\n\u001b[0;32m-> 2441\u001b[0;31m     \u001b[0mplot_obj\u001b[0m\u001b[1;33m.\u001b[0m\u001b[0mgenerate\u001b[0m\u001b[1;33m(\u001b[0m\u001b[1;33m)\u001b[0m\u001b[1;33m\u001b[0m\u001b[0m\n\u001b[0m\u001b[1;32m   2442\u001b[0m     \u001b[0mplot_obj\u001b[0m\u001b[1;33m.\u001b[0m\u001b[0mdraw\u001b[0m\u001b[1;33m(\u001b[0m\u001b[1;33m)\u001b[0m\u001b[1;33m\u001b[0m\u001b[0m\n\u001b[1;32m   2443\u001b[0m     \u001b[1;32mreturn\u001b[0m \u001b[0mplot_obj\u001b[0m\u001b[1;33m.\u001b[0m\u001b[0mresult\u001b[0m\u001b[1;33m\u001b[0m\u001b[0m\n",
      "\u001b[0;32mC:\\Users\\Mathew\\Anaconda3\\lib\\site-packages\\pandas\\tools\\plotting.py\u001b[0m in \u001b[0;36mgenerate\u001b[0;34m(self)\u001b[0m\n\u001b[1;32m   1024\u001b[0m     \u001b[1;32mdef\u001b[0m \u001b[0mgenerate\u001b[0m\u001b[1;33m(\u001b[0m\u001b[0mself\u001b[0m\u001b[1;33m)\u001b[0m\u001b[1;33m:\u001b[0m\u001b[1;33m\u001b[0m\u001b[0m\n\u001b[1;32m   1025\u001b[0m         \u001b[0mself\u001b[0m\u001b[1;33m.\u001b[0m\u001b[0m_args_adjust\u001b[0m\u001b[1;33m(\u001b[0m\u001b[1;33m)\u001b[0m\u001b[1;33m\u001b[0m\u001b[0m\n\u001b[0;32m-> 1026\u001b[0;31m         \u001b[0mself\u001b[0m\u001b[1;33m.\u001b[0m\u001b[0m_compute_plot_data\u001b[0m\u001b[1;33m(\u001b[0m\u001b[1;33m)\u001b[0m\u001b[1;33m\u001b[0m\u001b[0m\n\u001b[0m\u001b[1;32m   1027\u001b[0m         \u001b[0mself\u001b[0m\u001b[1;33m.\u001b[0m\u001b[0m_setup_subplots\u001b[0m\u001b[1;33m(\u001b[0m\u001b[1;33m)\u001b[0m\u001b[1;33m\u001b[0m\u001b[0m\n\u001b[1;32m   1028\u001b[0m         \u001b[0mself\u001b[0m\u001b[1;33m.\u001b[0m\u001b[0m_make_plot\u001b[0m\u001b[1;33m(\u001b[0m\u001b[1;33m)\u001b[0m\u001b[1;33m\u001b[0m\u001b[0m\n",
      "\u001b[0;32mC:\\Users\\Mathew\\Anaconda3\\lib\\site-packages\\pandas\\tools\\plotting.py\u001b[0m in \u001b[0;36m_compute_plot_data\u001b[0;34m(self)\u001b[0m\n\u001b[1;32m   1133\u001b[0m         \u001b[1;32mif\u001b[0m \u001b[0mis_empty\u001b[0m\u001b[1;33m:\u001b[0m\u001b[1;33m\u001b[0m\u001b[0m\n\u001b[1;32m   1134\u001b[0m             raise TypeError('Empty {0!r}: no numeric data to '\n\u001b[0;32m-> 1135\u001b[0;31m                             'plot'.format(numeric_data.__class__.__name__))\n\u001b[0m\u001b[1;32m   1136\u001b[0m \u001b[1;33m\u001b[0m\u001b[0m\n\u001b[1;32m   1137\u001b[0m         \u001b[0mself\u001b[0m\u001b[1;33m.\u001b[0m\u001b[0mdata\u001b[0m \u001b[1;33m=\u001b[0m \u001b[0mnumeric_data\u001b[0m\u001b[1;33m\u001b[0m\u001b[0m\n",
      "\u001b[0;31mTypeError\u001b[0m: Empty 'DataFrame': no numeric data to plot"
     ]
    }
   ],
   "source": [
    "\n",
    "\n",
    "\n",
    "\n",
    "\n",
    "c = cast\n",
    "c = c[c.character.str.contains('kermit')]\n",
    "c.plot(x='year',y='n',kind='scatter')\n"
   ]
  },
  {
   "cell_type": "code",
   "execution_count": 20,
   "metadata": {
    "collapsed": false
   },
   "outputs": [
    {
     "ename": "TypeError",
     "evalue": "Empty 'DataFrame': no numeric data to plot",
     "output_type": "error",
     "traceback": [
      "\u001b[0;31m---------------------------------------------------------------------------\u001b[0m",
      "\u001b[0;31mTypeError\u001b[0m                                 Traceback (most recent call last)",
      "\u001b[0;32m<ipython-input-20-b74877b8221c>\u001b[0m in \u001b[0;36m<module>\u001b[0;34m()\u001b[0m\n\u001b[1;32m      3\u001b[0m \u001b[0mc\u001b[0m \u001b[1;33m=\u001b[0m \u001b[0mcast\u001b[0m\u001b[1;33m\u001b[0m\u001b[0m\n\u001b[1;32m      4\u001b[0m \u001b[0mc\u001b[0m \u001b[1;33m=\u001b[0m \u001b[0mc\u001b[0m\u001b[1;33m[\u001b[0m\u001b[0mc\u001b[0m\u001b[1;33m.\u001b[0m\u001b[0mcharacter\u001b[0m\u001b[1;33m.\u001b[0m\u001b[0mstr\u001b[0m\u001b[1;33m.\u001b[0m\u001b[0mcontains\u001b[0m\u001b[1;33m(\u001b[0m\u001b[1;34m'kermit'\u001b[0m\u001b[1;33m)\u001b[0m\u001b[1;33m]\u001b[0m\u001b[1;33m\u001b[0m\u001b[0m\n\u001b[0;32m----> 5\u001b[0;31m \u001b[0mc\u001b[0m\u001b[1;33m.\u001b[0m\u001b[0mplot\u001b[0m\u001b[1;33m(\u001b[0m\u001b[0mx\u001b[0m\u001b[1;33m=\u001b[0m\u001b[1;34m'year'\u001b[0m\u001b[1;33m,\u001b[0m\u001b[0my\u001b[0m\u001b[1;33m=\u001b[0m\u001b[1;34m'n'\u001b[0m\u001b[1;33m,\u001b[0m\u001b[0mkind\u001b[0m\u001b[1;33m=\u001b[0m\u001b[1;34m'scatter'\u001b[0m\u001b[1;33m)\u001b[0m\u001b[1;33m\u001b[0m\u001b[0m\n\u001b[0m",
      "\u001b[0;32mC:\\Users\\Mathew\\Anaconda3\\lib\\site-packages\\pandas\\tools\\plotting.py\u001b[0m in \u001b[0;36m__call__\u001b[0;34m(self, x, y, kind, ax, subplots, sharex, sharey, layout, figsize, use_index, title, grid, legend, style, logx, logy, loglog, xticks, yticks, xlim, ylim, rot, fontsize, colormap, table, yerr, xerr, secondary_y, sort_columns, **kwds)\u001b[0m\n\u001b[1;32m   3738\u001b[0m                           \u001b[0mfontsize\u001b[0m\u001b[1;33m=\u001b[0m\u001b[0mfontsize\u001b[0m\u001b[1;33m,\u001b[0m \u001b[0mcolormap\u001b[0m\u001b[1;33m=\u001b[0m\u001b[0mcolormap\u001b[0m\u001b[1;33m,\u001b[0m \u001b[0mtable\u001b[0m\u001b[1;33m=\u001b[0m\u001b[0mtable\u001b[0m\u001b[1;33m,\u001b[0m\u001b[1;33m\u001b[0m\u001b[0m\n\u001b[1;32m   3739\u001b[0m                           \u001b[0myerr\u001b[0m\u001b[1;33m=\u001b[0m\u001b[0myerr\u001b[0m\u001b[1;33m,\u001b[0m \u001b[0mxerr\u001b[0m\u001b[1;33m=\u001b[0m\u001b[0mxerr\u001b[0m\u001b[1;33m,\u001b[0m \u001b[0msecondary_y\u001b[0m\u001b[1;33m=\u001b[0m\u001b[0msecondary_y\u001b[0m\u001b[1;33m,\u001b[0m\u001b[1;33m\u001b[0m\u001b[0m\n\u001b[0;32m-> 3740\u001b[0;31m                           sort_columns=sort_columns, **kwds)\n\u001b[0m\u001b[1;32m   3741\u001b[0m     \u001b[0m__call__\u001b[0m\u001b[1;33m.\u001b[0m\u001b[0m__doc__\u001b[0m \u001b[1;33m=\u001b[0m \u001b[0mplot_frame\u001b[0m\u001b[1;33m.\u001b[0m\u001b[0m__doc__\u001b[0m\u001b[1;33m\u001b[0m\u001b[0m\n\u001b[1;32m   3742\u001b[0m \u001b[1;33m\u001b[0m\u001b[0m\n",
      "\u001b[0;32mC:\\Users\\Mathew\\Anaconda3\\lib\\site-packages\\pandas\\tools\\plotting.py\u001b[0m in \u001b[0;36mplot_frame\u001b[0;34m(data, x, y, kind, ax, subplots, sharex, sharey, layout, figsize, use_index, title, grid, legend, style, logx, logy, loglog, xticks, yticks, xlim, ylim, rot, fontsize, colormap, table, yerr, xerr, secondary_y, sort_columns, **kwds)\u001b[0m\n\u001b[1;32m   2612\u001b[0m                  \u001b[0myerr\u001b[0m\u001b[1;33m=\u001b[0m\u001b[0myerr\u001b[0m\u001b[1;33m,\u001b[0m \u001b[0mxerr\u001b[0m\u001b[1;33m=\u001b[0m\u001b[0mxerr\u001b[0m\u001b[1;33m,\u001b[0m\u001b[1;33m\u001b[0m\u001b[0m\n\u001b[1;32m   2613\u001b[0m                  \u001b[0msecondary_y\u001b[0m\u001b[1;33m=\u001b[0m\u001b[0msecondary_y\u001b[0m\u001b[1;33m,\u001b[0m \u001b[0msort_columns\u001b[0m\u001b[1;33m=\u001b[0m\u001b[0msort_columns\u001b[0m\u001b[1;33m,\u001b[0m\u001b[1;33m\u001b[0m\u001b[0m\n\u001b[0;32m-> 2614\u001b[0;31m                  **kwds)\n\u001b[0m\u001b[1;32m   2615\u001b[0m \u001b[1;33m\u001b[0m\u001b[0m\n\u001b[1;32m   2616\u001b[0m \u001b[1;33m\u001b[0m\u001b[0m\n",
      "\u001b[0;32mC:\\Users\\Mathew\\Anaconda3\\lib\\site-packages\\pandas\\tools\\plotting.py\u001b[0m in \u001b[0;36m_plot\u001b[0;34m(data, x, y, subplots, ax, kind, **kwds)\u001b[0m\n\u001b[1;32m   2439\u001b[0m         \u001b[0mplot_obj\u001b[0m \u001b[1;33m=\u001b[0m \u001b[0mklass\u001b[0m\u001b[1;33m(\u001b[0m\u001b[0mdata\u001b[0m\u001b[1;33m,\u001b[0m \u001b[0msubplots\u001b[0m\u001b[1;33m=\u001b[0m\u001b[0msubplots\u001b[0m\u001b[1;33m,\u001b[0m \u001b[0max\u001b[0m\u001b[1;33m=\u001b[0m\u001b[0max\u001b[0m\u001b[1;33m,\u001b[0m \u001b[0mkind\u001b[0m\u001b[1;33m=\u001b[0m\u001b[0mkind\u001b[0m\u001b[1;33m,\u001b[0m \u001b[1;33m**\u001b[0m\u001b[0mkwds\u001b[0m\u001b[1;33m)\u001b[0m\u001b[1;33m\u001b[0m\u001b[0m\n\u001b[1;32m   2440\u001b[0m \u001b[1;33m\u001b[0m\u001b[0m\n\u001b[0;32m-> 2441\u001b[0;31m     \u001b[0mplot_obj\u001b[0m\u001b[1;33m.\u001b[0m\u001b[0mgenerate\u001b[0m\u001b[1;33m(\u001b[0m\u001b[1;33m)\u001b[0m\u001b[1;33m\u001b[0m\u001b[0m\n\u001b[0m\u001b[1;32m   2442\u001b[0m     \u001b[0mplot_obj\u001b[0m\u001b[1;33m.\u001b[0m\u001b[0mdraw\u001b[0m\u001b[1;33m(\u001b[0m\u001b[1;33m)\u001b[0m\u001b[1;33m\u001b[0m\u001b[0m\n\u001b[1;32m   2443\u001b[0m     \u001b[1;32mreturn\u001b[0m \u001b[0mplot_obj\u001b[0m\u001b[1;33m.\u001b[0m\u001b[0mresult\u001b[0m\u001b[1;33m\u001b[0m\u001b[0m\n",
      "\u001b[0;32mC:\\Users\\Mathew\\Anaconda3\\lib\\site-packages\\pandas\\tools\\plotting.py\u001b[0m in \u001b[0;36mgenerate\u001b[0;34m(self)\u001b[0m\n\u001b[1;32m   1024\u001b[0m     \u001b[1;32mdef\u001b[0m \u001b[0mgenerate\u001b[0m\u001b[1;33m(\u001b[0m\u001b[0mself\u001b[0m\u001b[1;33m)\u001b[0m\u001b[1;33m:\u001b[0m\u001b[1;33m\u001b[0m\u001b[0m\n\u001b[1;32m   1025\u001b[0m         \u001b[0mself\u001b[0m\u001b[1;33m.\u001b[0m\u001b[0m_args_adjust\u001b[0m\u001b[1;33m(\u001b[0m\u001b[1;33m)\u001b[0m\u001b[1;33m\u001b[0m\u001b[0m\n\u001b[0;32m-> 1026\u001b[0;31m         \u001b[0mself\u001b[0m\u001b[1;33m.\u001b[0m\u001b[0m_compute_plot_data\u001b[0m\u001b[1;33m(\u001b[0m\u001b[1;33m)\u001b[0m\u001b[1;33m\u001b[0m\u001b[0m\n\u001b[0m\u001b[1;32m   1027\u001b[0m         \u001b[0mself\u001b[0m\u001b[1;33m.\u001b[0m\u001b[0m_setup_subplots\u001b[0m\u001b[1;33m(\u001b[0m\u001b[1;33m)\u001b[0m\u001b[1;33m\u001b[0m\u001b[0m\n\u001b[1;32m   1028\u001b[0m         \u001b[0mself\u001b[0m\u001b[1;33m.\u001b[0m\u001b[0m_make_plot\u001b[0m\u001b[1;33m(\u001b[0m\u001b[1;33m)\u001b[0m\u001b[1;33m\u001b[0m\u001b[0m\n",
      "\u001b[0;32mC:\\Users\\Mathew\\Anaconda3\\lib\\site-packages\\pandas\\tools\\plotting.py\u001b[0m in \u001b[0;36m_compute_plot_data\u001b[0;34m(self)\u001b[0m\n\u001b[1;32m   1133\u001b[0m         \u001b[1;32mif\u001b[0m \u001b[0mis_empty\u001b[0m\u001b[1;33m:\u001b[0m\u001b[1;33m\u001b[0m\u001b[0m\n\u001b[1;32m   1134\u001b[0m             raise TypeError('Empty {0!r}: no numeric data to '\n\u001b[0;32m-> 1135\u001b[0;31m                             'plot'.format(numeric_data.__class__.__name__))\n\u001b[0m\u001b[1;32m   1136\u001b[0m \u001b[1;33m\u001b[0m\u001b[0m\n\u001b[1;32m   1137\u001b[0m         \u001b[0mself\u001b[0m\u001b[1;33m.\u001b[0m\u001b[0mdata\u001b[0m \u001b[1;33m=\u001b[0m \u001b[0mnumeric_data\u001b[0m\u001b[1;33m\u001b[0m\u001b[0m\n",
      "\u001b[0;31mTypeError\u001b[0m: Empty 'DataFrame': no numeric data to plot"
     ]
    }
   ],
   "source": [
    "\n",
    "\n",
    "c = cast\n",
    "c = c[c.character.str.contains('kermit')]\n",
    "c.plot(x='year',y='n',kind='scatter')\n"
   ]
  },
  {
   "cell_type": "code",
   "execution_count": 21,
   "metadata": {
    "collapsed": false
   },
   "outputs": [
    {
     "ename": "TypeError",
     "evalue": "Empty 'DataFrame': no numeric data to plot",
     "output_type": "error",
     "traceback": [
      "\u001b[0;31m---------------------------------------------------------------------------\u001b[0m",
      "\u001b[0;31mTypeError\u001b[0m                                 Traceback (most recent call last)",
      "\u001b[0;32m<ipython-input-21-cc8774ee7388>\u001b[0m in \u001b[0;36m<module>\u001b[0;34m()\u001b[0m\n\u001b[1;32m      2\u001b[0m \u001b[0mc\u001b[0m \u001b[1;33m=\u001b[0m \u001b[0mcast\u001b[0m\u001b[1;33m\u001b[0m\u001b[0m\n\u001b[1;32m      3\u001b[0m \u001b[0mc\u001b[0m \u001b[1;33m=\u001b[0m \u001b[0mc\u001b[0m\u001b[1;33m[\u001b[0m\u001b[0mc\u001b[0m\u001b[1;33m.\u001b[0m\u001b[0mcharacter\u001b[0m \u001b[1;33m==\u001b[0m \u001b[1;34m'kermit the frog'\u001b[0m\u001b[1;33m]\u001b[0m\u001b[1;33m\u001b[0m\u001b[0m\n\u001b[0;32m----> 4\u001b[0;31m \u001b[0mc\u001b[0m\u001b[1;33m.\u001b[0m\u001b[0mplot\u001b[0m\u001b[1;33m(\u001b[0m\u001b[0mx\u001b[0m\u001b[1;33m=\u001b[0m\u001b[1;34m'year'\u001b[0m\u001b[1;33m,\u001b[0m\u001b[0my\u001b[0m\u001b[1;33m=\u001b[0m\u001b[1;34m'n'\u001b[0m\u001b[1;33m,\u001b[0m\u001b[0mkind\u001b[0m\u001b[1;33m=\u001b[0m\u001b[1;34m'scatter'\u001b[0m\u001b[1;33m)\u001b[0m\u001b[1;33m\u001b[0m\u001b[0m\n\u001b[0m",
      "\u001b[0;32mC:\\Users\\Mathew\\Anaconda3\\lib\\site-packages\\pandas\\tools\\plotting.py\u001b[0m in \u001b[0;36m__call__\u001b[0;34m(self, x, y, kind, ax, subplots, sharex, sharey, layout, figsize, use_index, title, grid, legend, style, logx, logy, loglog, xticks, yticks, xlim, ylim, rot, fontsize, colormap, table, yerr, xerr, secondary_y, sort_columns, **kwds)\u001b[0m\n\u001b[1;32m   3738\u001b[0m                           \u001b[0mfontsize\u001b[0m\u001b[1;33m=\u001b[0m\u001b[0mfontsize\u001b[0m\u001b[1;33m,\u001b[0m \u001b[0mcolormap\u001b[0m\u001b[1;33m=\u001b[0m\u001b[0mcolormap\u001b[0m\u001b[1;33m,\u001b[0m \u001b[0mtable\u001b[0m\u001b[1;33m=\u001b[0m\u001b[0mtable\u001b[0m\u001b[1;33m,\u001b[0m\u001b[1;33m\u001b[0m\u001b[0m\n\u001b[1;32m   3739\u001b[0m                           \u001b[0myerr\u001b[0m\u001b[1;33m=\u001b[0m\u001b[0myerr\u001b[0m\u001b[1;33m,\u001b[0m \u001b[0mxerr\u001b[0m\u001b[1;33m=\u001b[0m\u001b[0mxerr\u001b[0m\u001b[1;33m,\u001b[0m \u001b[0msecondary_y\u001b[0m\u001b[1;33m=\u001b[0m\u001b[0msecondary_y\u001b[0m\u001b[1;33m,\u001b[0m\u001b[1;33m\u001b[0m\u001b[0m\n\u001b[0;32m-> 3740\u001b[0;31m                           sort_columns=sort_columns, **kwds)\n\u001b[0m\u001b[1;32m   3741\u001b[0m     \u001b[0m__call__\u001b[0m\u001b[1;33m.\u001b[0m\u001b[0m__doc__\u001b[0m \u001b[1;33m=\u001b[0m \u001b[0mplot_frame\u001b[0m\u001b[1;33m.\u001b[0m\u001b[0m__doc__\u001b[0m\u001b[1;33m\u001b[0m\u001b[0m\n\u001b[1;32m   3742\u001b[0m \u001b[1;33m\u001b[0m\u001b[0m\n",
      "\u001b[0;32mC:\\Users\\Mathew\\Anaconda3\\lib\\site-packages\\pandas\\tools\\plotting.py\u001b[0m in \u001b[0;36mplot_frame\u001b[0;34m(data, x, y, kind, ax, subplots, sharex, sharey, layout, figsize, use_index, title, grid, legend, style, logx, logy, loglog, xticks, yticks, xlim, ylim, rot, fontsize, colormap, table, yerr, xerr, secondary_y, sort_columns, **kwds)\u001b[0m\n\u001b[1;32m   2612\u001b[0m                  \u001b[0myerr\u001b[0m\u001b[1;33m=\u001b[0m\u001b[0myerr\u001b[0m\u001b[1;33m,\u001b[0m \u001b[0mxerr\u001b[0m\u001b[1;33m=\u001b[0m\u001b[0mxerr\u001b[0m\u001b[1;33m,\u001b[0m\u001b[1;33m\u001b[0m\u001b[0m\n\u001b[1;32m   2613\u001b[0m                  \u001b[0msecondary_y\u001b[0m\u001b[1;33m=\u001b[0m\u001b[0msecondary_y\u001b[0m\u001b[1;33m,\u001b[0m \u001b[0msort_columns\u001b[0m\u001b[1;33m=\u001b[0m\u001b[0msort_columns\u001b[0m\u001b[1;33m,\u001b[0m\u001b[1;33m\u001b[0m\u001b[0m\n\u001b[0;32m-> 2614\u001b[0;31m                  **kwds)\n\u001b[0m\u001b[1;32m   2615\u001b[0m \u001b[1;33m\u001b[0m\u001b[0m\n\u001b[1;32m   2616\u001b[0m \u001b[1;33m\u001b[0m\u001b[0m\n",
      "\u001b[0;32mC:\\Users\\Mathew\\Anaconda3\\lib\\site-packages\\pandas\\tools\\plotting.py\u001b[0m in \u001b[0;36m_plot\u001b[0;34m(data, x, y, subplots, ax, kind, **kwds)\u001b[0m\n\u001b[1;32m   2439\u001b[0m         \u001b[0mplot_obj\u001b[0m \u001b[1;33m=\u001b[0m \u001b[0mklass\u001b[0m\u001b[1;33m(\u001b[0m\u001b[0mdata\u001b[0m\u001b[1;33m,\u001b[0m \u001b[0msubplots\u001b[0m\u001b[1;33m=\u001b[0m\u001b[0msubplots\u001b[0m\u001b[1;33m,\u001b[0m \u001b[0max\u001b[0m\u001b[1;33m=\u001b[0m\u001b[0max\u001b[0m\u001b[1;33m,\u001b[0m \u001b[0mkind\u001b[0m\u001b[1;33m=\u001b[0m\u001b[0mkind\u001b[0m\u001b[1;33m,\u001b[0m \u001b[1;33m**\u001b[0m\u001b[0mkwds\u001b[0m\u001b[1;33m)\u001b[0m\u001b[1;33m\u001b[0m\u001b[0m\n\u001b[1;32m   2440\u001b[0m \u001b[1;33m\u001b[0m\u001b[0m\n\u001b[0;32m-> 2441\u001b[0;31m     \u001b[0mplot_obj\u001b[0m\u001b[1;33m.\u001b[0m\u001b[0mgenerate\u001b[0m\u001b[1;33m(\u001b[0m\u001b[1;33m)\u001b[0m\u001b[1;33m\u001b[0m\u001b[0m\n\u001b[0m\u001b[1;32m   2442\u001b[0m     \u001b[0mplot_obj\u001b[0m\u001b[1;33m.\u001b[0m\u001b[0mdraw\u001b[0m\u001b[1;33m(\u001b[0m\u001b[1;33m)\u001b[0m\u001b[1;33m\u001b[0m\u001b[0m\n\u001b[1;32m   2443\u001b[0m     \u001b[1;32mreturn\u001b[0m \u001b[0mplot_obj\u001b[0m\u001b[1;33m.\u001b[0m\u001b[0mresult\u001b[0m\u001b[1;33m\u001b[0m\u001b[0m\n",
      "\u001b[0;32mC:\\Users\\Mathew\\Anaconda3\\lib\\site-packages\\pandas\\tools\\plotting.py\u001b[0m in \u001b[0;36mgenerate\u001b[0;34m(self)\u001b[0m\n\u001b[1;32m   1024\u001b[0m     \u001b[1;32mdef\u001b[0m \u001b[0mgenerate\u001b[0m\u001b[1;33m(\u001b[0m\u001b[0mself\u001b[0m\u001b[1;33m)\u001b[0m\u001b[1;33m:\u001b[0m\u001b[1;33m\u001b[0m\u001b[0m\n\u001b[1;32m   1025\u001b[0m         \u001b[0mself\u001b[0m\u001b[1;33m.\u001b[0m\u001b[0m_args_adjust\u001b[0m\u001b[1;33m(\u001b[0m\u001b[1;33m)\u001b[0m\u001b[1;33m\u001b[0m\u001b[0m\n\u001b[0;32m-> 1026\u001b[0;31m         \u001b[0mself\u001b[0m\u001b[1;33m.\u001b[0m\u001b[0m_compute_plot_data\u001b[0m\u001b[1;33m(\u001b[0m\u001b[1;33m)\u001b[0m\u001b[1;33m\u001b[0m\u001b[0m\n\u001b[0m\u001b[1;32m   1027\u001b[0m         \u001b[0mself\u001b[0m\u001b[1;33m.\u001b[0m\u001b[0m_setup_subplots\u001b[0m\u001b[1;33m(\u001b[0m\u001b[1;33m)\u001b[0m\u001b[1;33m\u001b[0m\u001b[0m\n\u001b[1;32m   1028\u001b[0m         \u001b[0mself\u001b[0m\u001b[1;33m.\u001b[0m\u001b[0m_make_plot\u001b[0m\u001b[1;33m(\u001b[0m\u001b[1;33m)\u001b[0m\u001b[1;33m\u001b[0m\u001b[0m\n",
      "\u001b[0;32mC:\\Users\\Mathew\\Anaconda3\\lib\\site-packages\\pandas\\tools\\plotting.py\u001b[0m in \u001b[0;36m_compute_plot_data\u001b[0;34m(self)\u001b[0m\n\u001b[1;32m   1133\u001b[0m         \u001b[1;32mif\u001b[0m \u001b[0mis_empty\u001b[0m\u001b[1;33m:\u001b[0m\u001b[1;33m\u001b[0m\u001b[0m\n\u001b[1;32m   1134\u001b[0m             raise TypeError('Empty {0!r}: no numeric data to '\n\u001b[0;32m-> 1135\u001b[0;31m                             'plot'.format(numeric_data.__class__.__name__))\n\u001b[0m\u001b[1;32m   1136\u001b[0m \u001b[1;33m\u001b[0m\u001b[0m\n\u001b[1;32m   1137\u001b[0m         \u001b[0mself\u001b[0m\u001b[1;33m.\u001b[0m\u001b[0mdata\u001b[0m \u001b[1;33m=\u001b[0m \u001b[0mnumeric_data\u001b[0m\u001b[1;33m\u001b[0m\u001b[0m\n",
      "\u001b[0;31mTypeError\u001b[0m: Empty 'DataFrame': no numeric data to plot"
     ]
    }
   ],
   "source": [
    "\n",
    "c = cast\n",
    "c = c[c.character == 'kermit the frog']\n",
    "c.plot(x='year',y='n',kind='scatter')\n",
    "\n",
    "\n"
   ]
  },
  {
   "cell_type": "code",
   "execution_count": null,
   "metadata": {
    "collapsed": true
   },
   "outputs": [],
   "source": [
    "\n"
   ]
  },
  {
   "cell_type": "code",
   "execution_count": null,
   "metadata": {
    "collapsed": true
   },
   "outputs": [],
   "source": [
    "\n"
   ]
  },
  {
   "cell_type": "code",
   "execution_count": null,
   "metadata": {
    "collapsed": true
   },
   "outputs": [],
   "source": []
  },
  {
   "cell_type": "code",
   "execution_count": null,
   "metadata": {
    "collapsed": true
   },
   "outputs": [],
   "source": []
  },
  {
   "cell_type": "code",
   "execution_count": null,
   "metadata": {
    "collapsed": true
   },
   "outputs": [],
   "source": []
  },
  {
   "cell_type": "code",
   "execution_count": null,
   "metadata": {
    "collapsed": true
   },
   "outputs": [],
   "source": []
  },
  {
   "cell_type": "markdown",
   "metadata": {
    "collapsed": true
   },
   "source": [
    "### What are the ten most common movie names of all time?"
   ]
  },
  {
   "cell_type": "code",
   "execution_count": 23,
   "metadata": {
    "collapsed": false
   },
   "outputs": [
    {
     "data": {
      "text/plain": [
       "Hamlet                  18\n",
       "Carmen                  16\n",
       "Macbeth                 15\n",
       "The Outsider            12\n",
       "Kismet                  11\n",
       "Maya                    11\n",
       "Freedom                 11\n",
       "Temptation              11\n",
       "The Three Musketeers    11\n",
       "Othello                 11\n",
       "Name: title, dtype: int64"
      ]
     },
     "execution_count": 23,
     "metadata": {},
     "output_type": "execute_result"
    }
   ],
   "source": [
    "titles.title.value_counts().head(10)"
   ]
  },
  {
   "cell_type": "code",
   "execution_count": null,
   "metadata": {
    "collapsed": true
   },
   "outputs": [],
   "source": []
  },
  {
   "cell_type": "code",
   "execution_count": null,
   "metadata": {
    "collapsed": true
   },
   "outputs": [],
   "source": []
  },
  {
   "cell_type": "markdown",
   "metadata": {
    "collapsed": true
   },
   "source": [
    "### Which three years of the 1930s saw the most films released?"
   ]
  },
  {
   "cell_type": "code",
   "execution_count": 24,
   "metadata": {
    "collapsed": false
   },
   "outputs": [
    {
     "ename": "NameError",
     "evalue": "name 'year' is not defined",
     "output_type": "error",
     "traceback": [
      "\u001b[0;31m---------------------------------------------------------------------------\u001b[0m",
      "\u001b[0;31mNameError\u001b[0m                                 Traceback (most recent call last)",
      "\u001b[0;32m<ipython-input-24-74498a171937>\u001b[0m in \u001b[0;36m<module>\u001b[0;34m()\u001b[0m\n\u001b[0;32m----> 1\u001b[0;31m \u001b[0mtitles\u001b[0m\u001b[1;33m[\u001b[0m\u001b[0myear\u001b[0m\u001b[1;33m>=\u001b[0m\u001b[1;36m1930\u001b[0m \u001b[1;33m&\u001b[0m \u001b[0myear\u001b[0m \u001b[1;33m<\u001b[0m \u001b[1;36m1940\u001b[0m\u001b[1;33m]\u001b[0m\u001b[1;33m.\u001b[0m\u001b[0mhead\u001b[0m\u001b[1;33m(\u001b[0m\u001b[1;33m)\u001b[0m\u001b[1;33m\u001b[0m\u001b[0m\n\u001b[0m",
      "\u001b[0;31mNameError\u001b[0m: name 'year' is not defined"
     ]
    }
   ],
   "source": [
    "titles[year>=1930 & year < 1940].head()"
   ]
  },
  {
   "cell_type": "code",
   "execution_count": 25,
   "metadata": {
    "collapsed": false
   },
   "outputs": [
    {
     "data": {
      "text/html": [
       "<div>\n",
       "<table border=\"1\" class=\"dataframe\">\n",
       "  <thead>\n",
       "    <tr style=\"text-align: right;\">\n",
       "      <th></th>\n",
       "      <th>title</th>\n",
       "      <th>year</th>\n",
       "    </tr>\n",
       "  </thead>\n",
       "  <tbody>\n",
       "    <tr>\n",
       "      <th>5</th>\n",
       "      <td>Renfrew of the Royal Mounted</td>\n",
       "      <td>1937</td>\n",
       "    </tr>\n",
       "    <tr>\n",
       "      <th>13</th>\n",
       "      <td>On Probation</td>\n",
       "      <td>1935</td>\n",
       "    </tr>\n",
       "    <tr>\n",
       "      <th>68</th>\n",
       "      <td>Private Scandal</td>\n",
       "      <td>1934</td>\n",
       "    </tr>\n",
       "    <tr>\n",
       "      <th>85</th>\n",
       "      <td>Aosui Lingzhi</td>\n",
       "      <td>1938</td>\n",
       "    </tr>\n",
       "    <tr>\n",
       "      <th>146</th>\n",
       "      <td>Two's Company</td>\n",
       "      <td>1936</td>\n",
       "    </tr>\n",
       "  </tbody>\n",
       "</table>\n",
       "</div>"
      ],
      "text/plain": [
       "                            title  year\n",
       "5    Renfrew of the Royal Mounted  1937\n",
       "13                   On Probation  1935\n",
       "68                Private Scandal  1934\n",
       "85                  Aosui Lingzhi  1938\n",
       "146                 Two's Company  1936"
      ]
     },
     "execution_count": 25,
     "metadata": {},
     "output_type": "execute_result"
    }
   ],
   "source": [
    "titles[(titles.year>=1930) & (titles.year < 1940)].head()"
   ]
  },
  {
   "cell_type": "code",
   "execution_count": 26,
   "metadata": {
    "collapsed": false
   },
   "outputs": [
    {
     "ename": "AttributeError",
     "evalue": "'function' object has no attribute 'head'",
     "output_type": "error",
     "traceback": [
      "\u001b[0;31m---------------------------------------------------------------------------\u001b[0m",
      "\u001b[0;31mAttributeError\u001b[0m                            Traceback (most recent call last)",
      "\u001b[0;32m<ipython-input-26-2fd6f7f54680>\u001b[0m in \u001b[0;36m<module>\u001b[0;34m()\u001b[0m\n\u001b[0;32m----> 1\u001b[0;31m \u001b[0mtitles\u001b[0m\u001b[1;33m[\u001b[0m\u001b[1;33m(\u001b[0m\u001b[0mtitles\u001b[0m\u001b[1;33m.\u001b[0m\u001b[0myear\u001b[0m\u001b[1;33m>=\u001b[0m\u001b[1;36m1930\u001b[0m\u001b[1;33m)\u001b[0m \u001b[1;33m&\u001b[0m \u001b[1;33m(\u001b[0m\u001b[0mtitles\u001b[0m\u001b[1;33m.\u001b[0m\u001b[0myear\u001b[0m \u001b[1;33m<\u001b[0m \u001b[1;36m1940\u001b[0m\u001b[1;33m)\u001b[0m\u001b[1;33m]\u001b[0m\u001b[1;33m.\u001b[0m\u001b[0mtitle\u001b[0m\u001b[1;33m.\u001b[0m\u001b[0mvalue_counts\u001b[0m\u001b[1;33m.\u001b[0m\u001b[0mhead\u001b[0m\u001b[1;33m(\u001b[0m\u001b[1;36m3\u001b[0m\u001b[1;33m)\u001b[0m\u001b[1;33m\u001b[0m\u001b[0m\n\u001b[0m",
      "\u001b[0;31mAttributeError\u001b[0m: 'function' object has no attribute 'head'"
     ]
    }
   ],
   "source": [
    "titles[(titles.year>=1930) & (titles.year < 1940)].title.value_counts.head(3)"
   ]
  },
  {
   "cell_type": "code",
   "execution_count": 27,
   "metadata": {
    "collapsed": false
   },
   "outputs": [
    {
     "data": {
      "text/plain": [
       "The Three Musketeers     3\n",
       "The Life of the Party    3\n",
       "Temptation               3\n",
       "Name: title, dtype: int64"
      ]
     },
     "execution_count": 27,
     "metadata": {},
     "output_type": "execute_result"
    }
   ],
   "source": [
    "titles[(titles.year>=1930) & (titles.year < 1940)].title.value_counts().head(3)"
   ]
  },
  {
   "cell_type": "code",
   "execution_count": 28,
   "metadata": {
    "collapsed": false
   },
   "outputs": [
    {
     "data": {
      "text/plain": [
       "1937    1194\n",
       "1936    1139\n",
       "1938    1127\n",
       "Name: year, dtype: int64"
      ]
     },
     "execution_count": 28,
     "metadata": {},
     "output_type": "execute_result"
    }
   ],
   "source": [
    "\n",
    "titles[(titles.year>=1930) & (titles.year < 1940)].year.value_counts().head(3)"
   ]
  },
  {
   "cell_type": "code",
   "execution_count": null,
   "metadata": {
    "collapsed": true
   },
   "outputs": [],
   "source": []
  },
  {
   "cell_type": "code",
   "execution_count": null,
   "metadata": {
    "collapsed": true
   },
   "outputs": [],
   "source": []
  },
  {
   "cell_type": "markdown",
   "metadata": {
    "collapsed": true
   },
   "source": [
    "### Plot the number of films that have been released each decade over the history of cinema."
   ]
  },
  {
   "cell_type": "code",
   "execution_count": 29,
   "metadata": {
    "collapsed": false
   },
   "outputs": [
    {
     "data": {
      "text/plain": [
       "0    201\n",
       "1    192\n",
       "2    191\n",
       "3    201\n",
       "4    194\n",
       "Name: year, dtype: int64"
      ]
     },
     "execution_count": 29,
     "metadata": {},
     "output_type": "execute_result"
    }
   ],
   "source": [
    "t = titles.year//10\n",
    "t.head()"
   ]
  },
  {
   "cell_type": "code",
   "execution_count": 30,
   "metadata": {
    "collapsed": false
   },
   "outputs": [
    {
     "data": {
      "text/plain": [
       "0    2010\n",
       "1    1920\n",
       "2    1910\n",
       "3    2010\n",
       "4    1940\n",
       "Name: year, dtype: int64"
      ]
     },
     "execution_count": 30,
     "metadata": {},
     "output_type": "execute_result"
    }
   ],
   "source": [
    "t = titles.year//10\n",
    "t = t*10\n",
    "t.head()"
   ]
  },
  {
   "cell_type": "code",
   "execution_count": 31,
   "metadata": {
    "collapsed": false
   },
   "outputs": [
    {
     "ename": "AttributeError",
     "evalue": "'Series' object has no attribute 'year'",
     "output_type": "error",
     "traceback": [
      "\u001b[0;31m---------------------------------------------------------------------------\u001b[0m",
      "\u001b[0;31mAttributeError\u001b[0m                            Traceback (most recent call last)",
      "\u001b[0;32m<ipython-input-31-043410e3363f>\u001b[0m in \u001b[0;36m<module>\u001b[0;34m()\u001b[0m\n\u001b[1;32m      1\u001b[0m \u001b[0mt\u001b[0m \u001b[1;33m=\u001b[0m \u001b[0mtitles\u001b[0m\u001b[1;33m.\u001b[0m\u001b[0myear\u001b[0m\u001b[1;33m//\u001b[0m\u001b[1;36m10\u001b[0m\u001b[1;33m\u001b[0m\u001b[0m\n\u001b[1;32m      2\u001b[0m \u001b[0mt\u001b[0m \u001b[1;33m=\u001b[0m \u001b[0mt\u001b[0m\u001b[1;33m*\u001b[0m\u001b[1;36m10\u001b[0m\u001b[1;33m\u001b[0m\u001b[0m\n\u001b[0;32m----> 3\u001b[0;31m \u001b[0mt\u001b[0m\u001b[1;33m.\u001b[0m\u001b[0myear\u001b[0m\u001b[1;33m.\u001b[0m\u001b[0mvalue_counts\u001b[0m\u001b[1;33m(\u001b[0m\u001b[1;33m)\u001b[0m\u001b[1;33m\u001b[0m\u001b[0m\n\u001b[0m",
      "\u001b[0;32mC:\\Users\\Mathew\\Anaconda3\\lib\\site-packages\\pandas\\core\\generic.py\u001b[0m in \u001b[0;36m__getattr__\u001b[0;34m(self, name)\u001b[0m\n\u001b[1;32m   2670\u001b[0m             \u001b[1;32mif\u001b[0m \u001b[0mname\u001b[0m \u001b[1;32min\u001b[0m \u001b[0mself\u001b[0m\u001b[1;33m.\u001b[0m\u001b[0m_info_axis\u001b[0m\u001b[1;33m:\u001b[0m\u001b[1;33m\u001b[0m\u001b[0m\n\u001b[1;32m   2671\u001b[0m                 \u001b[1;32mreturn\u001b[0m \u001b[0mself\u001b[0m\u001b[1;33m[\u001b[0m\u001b[0mname\u001b[0m\u001b[1;33m]\u001b[0m\u001b[1;33m\u001b[0m\u001b[0m\n\u001b[0;32m-> 2672\u001b[0;31m             \u001b[1;32mreturn\u001b[0m \u001b[0mobject\u001b[0m\u001b[1;33m.\u001b[0m\u001b[0m__getattribute__\u001b[0m\u001b[1;33m(\u001b[0m\u001b[0mself\u001b[0m\u001b[1;33m,\u001b[0m \u001b[0mname\u001b[0m\u001b[1;33m)\u001b[0m\u001b[1;33m\u001b[0m\u001b[0m\n\u001b[0m\u001b[1;32m   2673\u001b[0m \u001b[1;33m\u001b[0m\u001b[0m\n\u001b[1;32m   2674\u001b[0m     \u001b[1;32mdef\u001b[0m \u001b[0m__setattr__\u001b[0m\u001b[1;33m(\u001b[0m\u001b[0mself\u001b[0m\u001b[1;33m,\u001b[0m \u001b[0mname\u001b[0m\u001b[1;33m,\u001b[0m \u001b[0mvalue\u001b[0m\u001b[1;33m)\u001b[0m\u001b[1;33m:\u001b[0m\u001b[1;33m\u001b[0m\u001b[0m\n",
      "\u001b[0;31mAttributeError\u001b[0m: 'Series' object has no attribute 'year'"
     ]
    }
   ],
   "source": [
    "t = titles.year//10\n",
    "t = t*10\n",
    "t.year.value_counts()"
   ]
  },
  {
   "cell_type": "code",
   "execution_count": 32,
   "metadata": {
    "collapsed": false
   },
   "outputs": [
    {
     "data": {
      "text/plain": [
       "2010    66703\n",
       "2000    38636\n",
       "1990    22189\n",
       "1980    20195\n",
       "1970    18646\n",
       "1960    17474\n",
       "1950    12656\n",
       "1930    10082\n",
       "1920     8783\n",
       "1940     8539\n",
       "1910     6498\n",
       "2020      180\n",
       "1900       37\n",
       "1890        3\n",
       "Name: year, dtype: int64"
      ]
     },
     "execution_count": 32,
     "metadata": {},
     "output_type": "execute_result"
    }
   ],
   "source": [
    "t = titles.year//10\n",
    "t = t*10\n",
    "t.value_counts()\n"
   ]
  },
  {
   "cell_type": "code",
   "execution_count": 33,
   "metadata": {
    "collapsed": false
   },
   "outputs": [
    {
     "data": {
      "text/plain": [
       "<matplotlib.axes._subplots.AxesSubplot at 0x1e84e353588>"
      ]
     },
     "execution_count": 33,
     "metadata": {},
     "output_type": "execute_result"
    },
    {
     "data": {
      "image/png": "[encoded data removed]",
      "text/plain": [
       "<matplotlib.figure.Figure at 0x1e84e27c198>"
      ]
     },
     "metadata": {},
     "output_type": "display_data"
    }
   ],
   "source": [
    "t = titles.year//10\n",
    "t = t*10\n",
    "t.value_counts().sort_index().plot()\n"
   ]
  },
  {
   "cell_type": "code",
   "execution_count": 34,
   "metadata": {
    "collapsed": false
   },
   "outputs": [
    {
     "data": {
      "text/plain": [
       "<matplotlib.axes._subplots.AxesSubplot at 0x1e84e9f1358>"
      ]
     },
     "execution_count": 34,
     "metadata": {},
     "output_type": "execute_result"
    },
    {
     "data": {
      "image/png": "[encoded data removed]",
      "text/plain": [
       "<matplotlib.figure.Figure at 0x1e84ea332e8>"
      ]
     },
     "metadata": {},
     "output_type": "display_data"
    }
   ],
   "source": [
    "\n",
    "t = titles.year//10\n",
    "t = t*10\n",
    "t.value_counts().sort_index().plot(kind='bar')"
   ]
  },
  {
   "cell_type": "code",
   "execution_count": null,
   "metadata": {
    "collapsed": true
   },
   "outputs": [],
   "source": [
    "\n"
   ]
  },
  {
   "cell_type": "code",
   "execution_count": null,
   "metadata": {
    "collapsed": true
   },
   "outputs": [],
   "source": []
  },
  {
   "cell_type": "markdown",
   "metadata": {
    "collapsed": true
   },
   "source": [
    "### Plot the number of \"Hamlet\" films made each decade."
   ]
  },
  {
   "cell_type": "code",
   "execution_count": 35,
   "metadata": {
    "collapsed": false
   },
   "outputs": [
    {
     "ename": "NameError",
     "evalue": "name 'tites' is not defined",
     "output_type": "error",
     "traceback": [
      "\u001b[0;31m---------------------------------------------------------------------------\u001b[0m",
      "\u001b[0;31mNameError\u001b[0m                                 Traceback (most recent call last)",
      "\u001b[0;32m<ipython-input-35-197bf0aaa4ec>\u001b[0m in \u001b[0;36m<module>\u001b[0;34m()\u001b[0m\n\u001b[0;32m----> 1\u001b[0;31m \u001b[0mt\u001b[0m \u001b[1;33m=\u001b[0m \u001b[0mtites\u001b[0m\u001b[1;33m[\u001b[0m\u001b[0mtitles\u001b[0m\u001b[1;33m.\u001b[0m\u001b[0mtitle\u001b[0m \u001b[1;33m==\u001b[0m \u001b[1;34m'Hamlet'\u001b[0m\u001b[1;33m]\u001b[0m\u001b[1;33m\u001b[0m\u001b[0m\n\u001b[0m\u001b[1;32m      2\u001b[0m \u001b[0mt\u001b[0m \u001b[1;33m=\u001b[0m \u001b[0mt\u001b[0m\u001b[1;33m.\u001b[0m\u001b[0myear\u001b[0m\u001b[1;33m//\u001b[0m\u001b[1;36m10\u001b[0m\u001b[1;33m\u001b[0m\u001b[0m\n\u001b[1;32m      3\u001b[0m \u001b[0mt\u001b[0m \u001b[1;33m=\u001b[0m \u001b[0mt\u001b[0m\u001b[1;33m*\u001b[0m\u001b[1;36m10\u001b[0m\u001b[1;33m\u001b[0m\u001b[0m\n\u001b[1;32m      4\u001b[0m \u001b[0mt\u001b[0m\u001b[1;33m.\u001b[0m\u001b[0mvalue_counts\u001b[0m\u001b[1;33m(\u001b[0m\u001b[1;33m)\u001b[0m\u001b[1;33m.\u001b[0m\u001b[0msort_index\u001b[0m\u001b[1;33m(\u001b[0m\u001b[1;33m)\u001b[0m\u001b[1;33m.\u001b[0m\u001b[0mplot\u001b[0m\u001b[1;33m(\u001b[0m\u001b[0mkind\u001b[0m\u001b[1;33m=\u001b[0m\u001b[1;34m'bar'\u001b[0m\u001b[1;33m)\u001b[0m\u001b[1;33m\u001b[0m\u001b[0m\n",
      "\u001b[0;31mNameError\u001b[0m: name 'tites' is not defined"
     ]
    }
   ],
   "source": [
    "t = tites[titles.title == 'Hamlet']\n",
    "t = t.year//10\n",
    "t = t*10\n",
    "t.value_counts().sort_index().plot(kind='bar')"
   ]
  },
  {
   "cell_type": "code",
   "execution_count": 36,
   "metadata": {
    "collapsed": false
   },
   "outputs": [
    {
     "data": {
      "text/plain": [
       "<matplotlib.axes._subplots.AxesSubplot at 0x1e84ea3b4e0>"
      ]
     },
     "execution_count": 36,
     "metadata": {},
     "output_type": "execute_result"
    },
    {
     "data": {
      "image/png": "[encoded data removed]",
      "text/plain": [
       "<matplotlib.figure.Figure at 0x1e84ea1d160>"
      ]
     },
     "metadata": {},
     "output_type": "display_data"
    }
   ],
   "source": [
    "t = titles[titles.title == 'Hamlet']\n",
    "t = t.year//10\n",
    "t = t*10\n",
    "t.value_counts().sort_index().plot(kind='bar')"
   ]
  },
  {
   "cell_type": "code",
   "execution_count": null,
   "metadata": {
    "collapsed": true
   },
   "outputs": [],
   "source": [
    "\n"
   ]
  },
  {
   "cell_type": "code",
   "execution_count": null,
   "metadata": {
    "collapsed": true
   },
   "outputs": [],
   "source": []
  },
  {
   "cell_type": "markdown",
   "metadata": {
    "collapsed": true
   },
   "source": [
    "### Plot the number of \"Rustler\" characters in each decade of the history of film."
   ]
  },
  {
   "cell_type": "code",
   "execution_count": 37,
   "metadata": {
    "collapsed": false
   },
   "outputs": [
    {
     "data": {
      "text/plain": [
       "<matplotlib.axes._subplots.AxesSubplot at 0x1e84eb02be0>"
      ]
     },
     "execution_count": 37,
     "metadata": {},
     "output_type": "execute_result"
    },
    {
     "data": {
      "image/png": "[encoded data removed]",
      "text/plain": [
       "<matplotlib.figure.Figure at 0x1e84eb57828>"
      ]
     },
     "metadata": {},
     "output_type": "display_data"
    }
   ],
   "source": [
    "t = cast[cast.character=='Rustler']\n",
    "t = t.year//10\n",
    "t = t*10\n",
    "t.value_counts().sort_index().plot(kind='bar')"
   ]
  },
  {
   "cell_type": "code",
   "execution_count": null,
   "metadata": {
    "collapsed": true
   },
   "outputs": [],
   "source": [
    "\n"
   ]
  },
  {
   "cell_type": "code",
   "execution_count": null,
   "metadata": {
    "collapsed": true
   },
   "outputs": [],
   "source": []
  },
  {
   "cell_type": "markdown",
   "metadata": {
    "collapsed": true
   },
   "source": [
    "### Plot the number of \"Hamlet\" characters each decade."
   ]
  },
  {
   "cell_type": "code",
   "execution_count": 38,
   "metadata": {
    "collapsed": false
   },
   "outputs": [
    {
     "ename": "TypeError",
     "evalue": "Empty 'DataFrame': no numeric data to plot",
     "output_type": "error",
     "traceback": [
      "\u001b[0;31m---------------------------------------------------------------------------\u001b[0m",
      "\u001b[0;31mTypeError\u001b[0m                                 Traceback (most recent call last)",
      "\u001b[0;32m<ipython-input-38-eee78ffc4b70>\u001b[0m in \u001b[0;36m<module>\u001b[0;34m()\u001b[0m\n\u001b[1;32m      2\u001b[0m \u001b[0mt\u001b[0m \u001b[1;33m=\u001b[0m \u001b[0mt\u001b[0m\u001b[1;33m.\u001b[0m\u001b[0myear\u001b[0m\u001b[1;33m//\u001b[0m\u001b[1;36m10\u001b[0m\u001b[1;33m\u001b[0m\u001b[0m\n\u001b[1;32m      3\u001b[0m \u001b[0mt\u001b[0m \u001b[1;33m=\u001b[0m \u001b[0mt\u001b[0m\u001b[1;33m*\u001b[0m\u001b[1;36m10\u001b[0m\u001b[1;33m\u001b[0m\u001b[0m\n\u001b[0;32m----> 4\u001b[0;31m \u001b[0mt\u001b[0m\u001b[1;33m.\u001b[0m\u001b[0mvalue_counts\u001b[0m\u001b[1;33m(\u001b[0m\u001b[1;33m)\u001b[0m\u001b[1;33m.\u001b[0m\u001b[0msort_index\u001b[0m\u001b[1;33m(\u001b[0m\u001b[1;33m)\u001b[0m\u001b[1;33m.\u001b[0m\u001b[0mplot\u001b[0m\u001b[1;33m(\u001b[0m\u001b[0mkind\u001b[0m\u001b[1;33m=\u001b[0m\u001b[1;34m'bar'\u001b[0m\u001b[1;33m)\u001b[0m\u001b[1;33m\u001b[0m\u001b[0m\n\u001b[0m",
      "\u001b[0;32mC:\\Users\\Mathew\\Anaconda3\\lib\\site-packages\\pandas\\tools\\plotting.py\u001b[0m in \u001b[0;36m__call__\u001b[0;34m(self, kind, ax, figsize, use_index, title, grid, legend, style, logx, logy, loglog, xticks, yticks, xlim, ylim, rot, fontsize, colormap, table, yerr, xerr, label, secondary_y, **kwds)\u001b[0m\n\u001b[1;32m   3564\u001b[0m                            \u001b[0mcolormap\u001b[0m\u001b[1;33m=\u001b[0m\u001b[0mcolormap\u001b[0m\u001b[1;33m,\u001b[0m \u001b[0mtable\u001b[0m\u001b[1;33m=\u001b[0m\u001b[0mtable\u001b[0m\u001b[1;33m,\u001b[0m \u001b[0myerr\u001b[0m\u001b[1;33m=\u001b[0m\u001b[0myerr\u001b[0m\u001b[1;33m,\u001b[0m\u001b[1;33m\u001b[0m\u001b[0m\n\u001b[1;32m   3565\u001b[0m                            \u001b[0mxerr\u001b[0m\u001b[1;33m=\u001b[0m\u001b[0mxerr\u001b[0m\u001b[1;33m,\u001b[0m \u001b[0mlabel\u001b[0m\u001b[1;33m=\u001b[0m\u001b[0mlabel\u001b[0m\u001b[1;33m,\u001b[0m \u001b[0msecondary_y\u001b[0m\u001b[1;33m=\u001b[0m\u001b[0msecondary_y\u001b[0m\u001b[1;33m,\u001b[0m\u001b[1;33m\u001b[0m\u001b[0m\n\u001b[0;32m-> 3566\u001b[0;31m                            **kwds)\n\u001b[0m\u001b[1;32m   3567\u001b[0m     \u001b[0m__call__\u001b[0m\u001b[1;33m.\u001b[0m\u001b[0m__doc__\u001b[0m \u001b[1;33m=\u001b[0m \u001b[0mplot_series\u001b[0m\u001b[1;33m.\u001b[0m\u001b[0m__doc__\u001b[0m\u001b[1;33m\u001b[0m\u001b[0m\n\u001b[1;32m   3568\u001b[0m \u001b[1;33m\u001b[0m\u001b[0m\n",
      "\u001b[0;32mC:\\Users\\Mathew\\Anaconda3\\lib\\site-packages\\pandas\\tools\\plotting.py\u001b[0m in \u001b[0;36mplot_series\u001b[0;34m(data, kind, ax, figsize, use_index, title, grid, legend, style, logx, logy, loglog, xticks, yticks, xlim, ylim, rot, fontsize, colormap, table, yerr, xerr, label, secondary_y, **kwds)\u001b[0m\n\u001b[1;32m   2643\u001b[0m                  \u001b[0myerr\u001b[0m\u001b[1;33m=\u001b[0m\u001b[0myerr\u001b[0m\u001b[1;33m,\u001b[0m \u001b[0mxerr\u001b[0m\u001b[1;33m=\u001b[0m\u001b[0mxerr\u001b[0m\u001b[1;33m,\u001b[0m\u001b[1;33m\u001b[0m\u001b[0m\n\u001b[1;32m   2644\u001b[0m                  \u001b[0mlabel\u001b[0m\u001b[1;33m=\u001b[0m\u001b[0mlabel\u001b[0m\u001b[1;33m,\u001b[0m \u001b[0msecondary_y\u001b[0m\u001b[1;33m=\u001b[0m\u001b[0msecondary_y\u001b[0m\u001b[1;33m,\u001b[0m\u001b[1;33m\u001b[0m\u001b[0m\n\u001b[0;32m-> 2645\u001b[0;31m                  **kwds)\n\u001b[0m\u001b[1;32m   2646\u001b[0m \u001b[1;33m\u001b[0m\u001b[0m\n\u001b[1;32m   2647\u001b[0m \u001b[1;33m\u001b[0m\u001b[0m\n",
      "\u001b[0;32mC:\\Users\\Mathew\\Anaconda3\\lib\\site-packages\\pandas\\tools\\plotting.py\u001b[0m in \u001b[0;36m_plot\u001b[0;34m(data, x, y, subplots, ax, kind, **kwds)\u001b[0m\n\u001b[1;32m   2439\u001b[0m         \u001b[0mplot_obj\u001b[0m \u001b[1;33m=\u001b[0m \u001b[0mklass\u001b[0m\u001b[1;33m(\u001b[0m\u001b[0mdata\u001b[0m\u001b[1;33m,\u001b[0m \u001b[0msubplots\u001b[0m\u001b[1;33m=\u001b[0m\u001b[0msubplots\u001b[0m\u001b[1;33m,\u001b[0m \u001b[0max\u001b[0m\u001b[1;33m=\u001b[0m\u001b[0max\u001b[0m\u001b[1;33m,\u001b[0m \u001b[0mkind\u001b[0m\u001b[1;33m=\u001b[0m\u001b[0mkind\u001b[0m\u001b[1;33m,\u001b[0m \u001b[1;33m**\u001b[0m\u001b[0mkwds\u001b[0m\u001b[1;33m)\u001b[0m\u001b[1;33m\u001b[0m\u001b[0m\n\u001b[1;32m   2440\u001b[0m \u001b[1;33m\u001b[0m\u001b[0m\n\u001b[0;32m-> 2441\u001b[0;31m     \u001b[0mplot_obj\u001b[0m\u001b[1;33m.\u001b[0m\u001b[0mgenerate\u001b[0m\u001b[1;33m(\u001b[0m\u001b[1;33m)\u001b[0m\u001b[1;33m\u001b[0m\u001b[0m\n\u001b[0m\u001b[1;32m   2442\u001b[0m     \u001b[0mplot_obj\u001b[0m\u001b[1;33m.\u001b[0m\u001b[0mdraw\u001b[0m\u001b[1;33m(\u001b[0m\u001b[1;33m)\u001b[0m\u001b[1;33m\u001b[0m\u001b[0m\n\u001b[1;32m   2443\u001b[0m     \u001b[1;32mreturn\u001b[0m \u001b[0mplot_obj\u001b[0m\u001b[1;33m.\u001b[0m\u001b[0mresult\u001b[0m\u001b[1;33m\u001b[0m\u001b[0m\n",
      "\u001b[0;32mC:\\Users\\Mathew\\Anaconda3\\lib\\site-packages\\pandas\\tools\\plotting.py\u001b[0m in \u001b[0;36mgenerate\u001b[0;34m(self)\u001b[0m\n\u001b[1;32m   1024\u001b[0m     \u001b[1;32mdef\u001b[0m \u001b[0mgenerate\u001b[0m\u001b[1;33m(\u001b[0m\u001b[0mself\u001b[0m\u001b[1;33m)\u001b[0m\u001b[1;33m:\u001b[0m\u001b[1;33m\u001b[0m\u001b[0m\n\u001b[1;32m   1025\u001b[0m         \u001b[0mself\u001b[0m\u001b[1;33m.\u001b[0m\u001b[0m_args_adjust\u001b[0m\u001b[1;33m(\u001b[0m\u001b[1;33m)\u001b[0m\u001b[1;33m\u001b[0m\u001b[0m\n\u001b[0;32m-> 1026\u001b[0;31m         \u001b[0mself\u001b[0m\u001b[1;33m.\u001b[0m\u001b[0m_compute_plot_data\u001b[0m\u001b[1;33m(\u001b[0m\u001b[1;33m)\u001b[0m\u001b[1;33m\u001b[0m\u001b[0m\n\u001b[0m\u001b[1;32m   1027\u001b[0m         \u001b[0mself\u001b[0m\u001b[1;33m.\u001b[0m\u001b[0m_setup_subplots\u001b[0m\u001b[1;33m(\u001b[0m\u001b[1;33m)\u001b[0m\u001b[1;33m\u001b[0m\u001b[0m\n\u001b[1;32m   1028\u001b[0m         \u001b[0mself\u001b[0m\u001b[1;33m.\u001b[0m\u001b[0m_make_plot\u001b[0m\u001b[1;33m(\u001b[0m\u001b[1;33m)\u001b[0m\u001b[1;33m\u001b[0m\u001b[0m\n",
      "\u001b[0;32mC:\\Users\\Mathew\\Anaconda3\\lib\\site-packages\\pandas\\tools\\plotting.py\u001b[0m in \u001b[0;36m_compute_plot_data\u001b[0;34m(self)\u001b[0m\n\u001b[1;32m   1133\u001b[0m         \u001b[1;32mif\u001b[0m \u001b[0mis_empty\u001b[0m\u001b[1;33m:\u001b[0m\u001b[1;33m\u001b[0m\u001b[0m\n\u001b[1;32m   1134\u001b[0m             raise TypeError('Empty {0!r}: no numeric data to '\n\u001b[0;32m-> 1135\u001b[0;31m                             'plot'.format(numeric_data.__class__.__name__))\n\u001b[0m\u001b[1;32m   1136\u001b[0m \u001b[1;33m\u001b[0m\u001b[0m\n\u001b[1;32m   1137\u001b[0m         \u001b[0mself\u001b[0m\u001b[1;33m.\u001b[0m\u001b[0mdata\u001b[0m \u001b[1;33m=\u001b[0m \u001b[0mnumeric_data\u001b[0m\u001b[1;33m\u001b[0m\u001b[0m\n",
      "\u001b[0;31mTypeError\u001b[0m: Empty 'DataFrame': no numeric data to plot"
     ]
    }
   ],
   "source": [
    "t = cast[cast.character=='Hanlet']\n",
    "t = t.year//10\n",
    "t = t*10\n",
    "t.value_counts().sort_index().plot(kind='bar')"
   ]
  },
  {
   "cell_type": "code",
   "execution_count": 39,
   "metadata": {
    "collapsed": false
   },
   "outputs": [
    {
     "data": {
      "text/plain": [
       "<matplotlib.axes._subplots.AxesSubplot at 0x1e84ed3e550>"
      ]
     },
     "execution_count": 39,
     "metadata": {},
     "output_type": "execute_result"
    },
    {
     "data": {
      "image/png": "[encoded data removed]",
      "text/plain": [
       "<matplotlib.figure.Figure at 0x1e84ed8d518>"
      ]
     },
     "metadata": {},
     "output_type": "display_data"
    }
   ],
   "source": [
    "t = cast[cast.character=='Hamlet']\n",
    "t = t.year//10\n",
    "t = t*10\n",
    "t.value_counts().sort_index().plot(kind='bar')"
   ]
  },
  {
   "cell_type": "code",
   "execution_count": null,
   "metadata": {
    "collapsed": true
   },
   "outputs": [],
   "source": []
  },
  {
   "cell_type": "code",
   "execution_count": null,
   "metadata": {
    "collapsed": true
   },
   "outputs": [],
   "source": []
  },
  {
   "cell_type": "markdown",
   "metadata": {
    "collapsed": true
   },
   "source": [
    "### What are the 11 most common character names in movie history?"
   ]
  },
  {
   "cell_type": "code",
   "execution_count": 40,
   "metadata": {
    "collapsed": true
   },
   "outputs": [],
   "source": [
    "c = cast.character.value_counts()"
   ]
  },
  {
   "cell_type": "code",
   "execution_count": 41,
   "metadata": {
    "collapsed": false
   },
   "outputs": [
    {
     "data": {
      "text/plain": [
       "Himself                             19473\n",
       "Dancer                               8858\n",
       "Extra                                8801\n",
       "Reporter                             7234\n",
       "Doctor                               7045\n",
       "Policeman                            6848\n",
       "Bartender                            6167\n",
       "Student                              5794\n",
       "Party Guest                          5663\n",
       "Townsman                             5575\n",
       "Minor Role                           5351\n",
       "Waiter                               5215\n",
       "Zombie                               5131\n",
       "Henchman                             4972\n",
       "Soldier                              4505\n",
       "Police Officer                       4340\n",
       "Nurse                                3890\n",
       "Bar Patron                           3829\n",
       "Detective                            3697\n",
       "Herself                              3205\n",
       "Cop                                  2991\n",
       "Priest                               2905\n",
       "Guard                                2882\n",
       "Barfly                               2853\n",
       "John                                 2682\n",
       "Waitress                             2607\n",
       "Paul                                 2582\n",
       "Judge                                2529\n",
       "Additional Voices                    2504\n",
       "Sam                                  2495\n",
       "                                    ...  \n",
       "Se?ora Valles                           1\n",
       "Lt. Dr. de Rigeur                       1\n",
       "Mama Michaud                            1\n",
       "Woman conducting survey 2               1\n",
       "Rafe Crompton                           1\n",
       "Hospital Switchboard Operator #2        1\n",
       "Juez Plaza                              1\n",
       "Crystal Man                             1\n",
       "'Brick' Gilligan                        1\n",
       "Fermosa Patron                          1\n",
       "Lieutenant Bernenstein                  1\n",
       "Krwawiec                                1\n",
       "Drunken Surgeon                         1\n",
       "Kaj as little                           1\n",
       "Paulo S?rgio - Cuca                     1\n",
       "Kitchen Staff 1                         1\n",
       "Helmut Halm                             1\n",
       "Cpl. Steadman                           1\n",
       "Boxer #1 (Guest star)                   1\n",
       "Allan Dawson                            1\n",
       "Salom the boyar                         1\n",
       "Nina's Nurse                            1\n",
       "Fiasco Sister                           1\n",
       "Lord Garcia                             1\n",
       "Pamela, Girl at Circus                  1\n",
       "Olivia de Havilland                     1\n",
       "Con Edison Man                          1\n",
       "Ouboet Thompson                         1\n",
       "Carrie Sands Madison                    1\n",
       "Stephen Waynes                          1\n",
       "Name: character, dtype: int64"
      ]
     },
     "execution_count": 41,
     "metadata": {},
     "output_type": "execute_result"
    }
   ],
   "source": [
    "c\n"
   ]
  },
  {
   "cell_type": "code",
   "execution_count": 42,
   "metadata": {
    "collapsed": false
   },
   "outputs": [
    {
     "data": {
      "text/plain": [
       "Himself        19473\n",
       "Dancer          8858\n",
       "Extra           8801\n",
       "Reporter        7234\n",
       "Doctor          7045\n",
       "Policeman       6848\n",
       "Bartender       6167\n",
       "Student         5794\n",
       "Party Guest     5663\n",
       "Townsman        5575\n",
       "Minor Role      5351\n",
       "Name: character, dtype: int64"
      ]
     },
     "execution_count": 42,
     "metadata": {},
     "output_type": "execute_result"
    }
   ],
   "source": [
    "c.head(11)"
   ]
  },
  {
   "cell_type": "code",
   "execution_count": null,
   "metadata": {
    "collapsed": true
   },
   "outputs": [],
   "source": []
  },
  {
   "cell_type": "code",
   "execution_count": null,
   "metadata": {
    "collapsed": true
   },
   "outputs": [],
   "source": []
  },
  {
   "cell_type": "markdown",
   "metadata": {
    "collapsed": true
   },
   "source": [
    "### Who are the 10 people most often credited as \"Herself\" in film history?"
   ]
  },
  {
   "cell_type": "code",
   "execution_count": 43,
   "metadata": {
    "collapsed": true
   },
   "outputs": [],
   "source": [
    "c = cast[cast.character=='Herself'].head()"
   ]
  },
  {
   "cell_type": "code",
   "execution_count": 44,
   "metadata": {
    "collapsed": false
   },
   "outputs": [
    {
     "data": {
      "text/html": [
       "<div>\n",
       "<table border=\"1\" class=\"dataframe\">\n",
       "  <thead>\n",
       "    <tr style=\"text-align: right;\">\n",
       "      <th></th>\n",
       "      <th>title</th>\n",
       "      <th>year</th>\n",
       "      <th>name</th>\n",
       "      <th>type</th>\n",
       "      <th>character</th>\n",
       "      <th>n</th>\n",
       "    </tr>\n",
       "  </thead>\n",
       "  <tbody>\n",
       "    <tr>\n",
       "      <th>114257</th>\n",
       "      <td>Alexander Jamieson</td>\n",
       "      <td>2016</td>\n",
       "      <td>Etta Baker</td>\n",
       "      <td>actor</td>\n",
       "      <td>Herself</td>\n",
       "      <td>NaN</td>\n",
       "    </tr>\n",
       "    <tr>\n",
       "      <th>192122</th>\n",
       "      <td>Le fils de Gascogne</td>\n",
       "      <td>1995</td>\n",
       "      <td>Ren? Biaggi</td>\n",
       "      <td>actor</td>\n",
       "      <td>Herself</td>\n",
       "      <td>22.0</td>\n",
       "    </tr>\n",
       "    <tr>\n",
       "      <th>204679</th>\n",
       "      <td>Forty Shades of Blue</td>\n",
       "      <td>2005</td>\n",
       "      <td>J. Blackfoot</td>\n",
       "      <td>actor</td>\n",
       "      <td>Herself</td>\n",
       "      <td>7.0</td>\n",
       "    </tr>\n",
       "    <tr>\n",
       "      <th>205012</th>\n",
       "      <td>Wienfilm 1896-1976</td>\n",
       "      <td>1976</td>\n",
       "      <td>Moucle Blackout</td>\n",
       "      <td>actor</td>\n",
       "      <td>Herself</td>\n",
       "      <td>NaN</td>\n",
       "    </tr>\n",
       "    <tr>\n",
       "      <th>222780</th>\n",
       "      <td>Not Another B Movie</td>\n",
       "      <td>2010</td>\n",
       "      <td>Babette Bombshell</td>\n",
       "      <td>actor</td>\n",
       "      <td>Herself</td>\n",
       "      <td>19.0</td>\n",
       "    </tr>\n",
       "  </tbody>\n",
       "</table>\n",
       "</div>"
      ],
      "text/plain": [
       "                       title  year               name   type character     n\n",
       "114257    Alexander Jamieson  2016         Etta Baker  actor   Herself   NaN\n",
       "192122   Le fils de Gascogne  1995        Ren? Biaggi  actor   Herself  22.0\n",
       "204679  Forty Shades of Blue  2005       J. Blackfoot  actor   Herself   7.0\n",
       "205012    Wienfilm 1896-1976  1976    Moucle Blackout  actor   Herself   NaN\n",
       "222780   Not Another B Movie  2010  Babette Bombshell  actor   Herself  19.0"
      ]
     },
     "execution_count": 44,
     "metadata": {},
     "output_type": "execute_result"
    }
   ],
   "source": [
    "\n",
    "c"
   ]
  },
  {
   "cell_type": "code",
   "execution_count": 45,
   "metadata": {
    "collapsed": false
   },
   "outputs": [
    {
     "data": {
      "text/plain": [
       "J. Blackfoot         1\n",
       "Etta Baker           1\n",
       "Babette Bombshell    1\n",
       "Moucle Blackout      1\n",
       "Ren? Biaggi          1\n",
       "Name: name, dtype: int64"
      ]
     },
     "execution_count": 45,
     "metadata": {},
     "output_type": "execute_result"
    }
   ],
   "source": [
    "c.name.value_counts().head(10)"
   ]
  },
  {
   "cell_type": "code",
   "execution_count": 46,
   "metadata": {
    "collapsed": false
   },
   "outputs": [
    {
     "data": {
      "text/plain": [
       "Joyce Brothers     9\n",
       "Hillary Clinton    6\n",
       "Kareena Kapoor     5\n",
       "Josephine Baker    4\n",
       "Bessie Love        4\n",
       "Name: name, dtype: int64"
      ]
     },
     "execution_count": 46,
     "metadata": {},
     "output_type": "execute_result"
    }
   ],
   "source": [
    "c = cast[cast.character=='Herself']\n",
    "c.name.value_counts().head()"
   ]
  },
  {
   "cell_type": "code",
   "execution_count": null,
   "metadata": {
    "collapsed": true
   },
   "outputs": [],
   "source": [
    "\n"
   ]
  },
  {
   "cell_type": "code",
   "execution_count": null,
   "metadata": {
    "collapsed": true
   },
   "outputs": [],
   "source": []
  },
  {
   "cell_type": "markdown",
   "metadata": {
    "collapsed": true
   },
   "source": [
    "### Who are the 10 people most often credited as \"Himself\" in film history?"
   ]
  },
  {
   "cell_type": "code",
   "execution_count": 47,
   "metadata": {
    "collapsed": true
   },
   "outputs": [],
   "source": [
    "c = cast[cast.character=='Himself'].name.value_counts().head(10)"
   ]
  },
  {
   "cell_type": "code",
   "execution_count": 48,
   "metadata": {
    "collapsed": false
   },
   "outputs": [
    {
     "data": {
      "text/plain": [
       "Adolf Hitler             99\n",
       "Richard Nixon            45\n",
       "Ronald Reagan            39\n",
       "John F. Kennedy          33\n",
       "Ron Jeremy               23\n",
       "George W. Bush           23\n",
       "Winston Churchill        23\n",
       "Benito Mussolini         22\n",
       "Franklin D. Roosevelt    20\n",
       "Bill Clinton             20\n",
       "Name: name, dtype: int64"
      ]
     },
     "execution_count": 48,
     "metadata": {},
     "output_type": "execute_result"
    }
   ],
   "source": [
    "\n",
    "c\n"
   ]
  },
  {
   "cell_type": "code",
   "execution_count": null,
   "metadata": {
    "collapsed": true
   },
   "outputs": [],
   "source": []
  },
  {
   "cell_type": "code",
   "execution_count": null,
   "metadata": {
    "collapsed": true
   },
   "outputs": [],
   "source": []
  },
  {
   "cell_type": "markdown",
   "metadata": {
    "collapsed": true
   },
   "source": [
    "### Which actors or actresses appeared in the most movies in the year 1945?"
   ]
  },
  {
   "cell_type": "code",
   "execution_count": 49,
   "metadata": {
    "collapsed": true
   },
   "outputs": [],
   "source": [
    "c = cast[cast.year==1945].head()"
   ]
  },
  {
   "cell_type": "code",
   "execution_count": 50,
   "metadata": {
    "collapsed": false
   },
   "outputs": [
    {
     "data": {
      "text/html": [
       "<div>\n",
       "<table border=\"1\" class=\"dataframe\">\n",
       "  <thead>\n",
       "    <tr style=\"text-align: right;\">\n",
       "      <th></th>\n",
       "      <th>title</th>\n",
       "      <th>year</th>\n",
       "      <th>name</th>\n",
       "      <th>type</th>\n",
       "      <th>character</th>\n",
       "      <th>n</th>\n",
       "    </tr>\n",
       "  </thead>\n",
       "  <tbody>\n",
       "    <tr>\n",
       "      <th>420</th>\n",
       "      <td>Ristikon varjossa</td>\n",
       "      <td>1945</td>\n",
       "      <td>Heikki Aaltoila</td>\n",
       "      <td>actor</td>\n",
       "      <td>Musician</td>\n",
       "      <td>NaN</td>\n",
       "    </tr>\n",
       "    <tr>\n",
       "      <th>834</th>\n",
       "      <td>Kolmastoista koputus</td>\n",
       "      <td>1945</td>\n",
       "      <td>Kaarlo Aavajoki</td>\n",
       "      <td>actor</td>\n",
       "      <td>Grisu</td>\n",
       "      <td>17.0</td>\n",
       "    </tr>\n",
       "    <tr>\n",
       "      <th>837</th>\n",
       "      <td>Valkoisen neilikan velho</td>\n",
       "      <td>1945</td>\n",
       "      <td>Kaarlo Aavajoki</td>\n",
       "      <td>actor</td>\n",
       "      <td>Romsu</td>\n",
       "      <td>10.0</td>\n",
       "    </tr>\n",
       "    <tr>\n",
       "      <th>1751</th>\n",
       "      <td>God Is My Co-Pilot</td>\n",
       "      <td>1945</td>\n",
       "      <td>Leo Abbey</td>\n",
       "      <td>actor</td>\n",
       "      <td>Ground Crewman</td>\n",
       "      <td>NaN</td>\n",
       "    </tr>\n",
       "    <tr>\n",
       "      <th>1884</th>\n",
       "      <td>Bud Abbott and Lou Costello in Hollywood</td>\n",
       "      <td>1945</td>\n",
       "      <td>Bud Abbott</td>\n",
       "      <td>actor</td>\n",
       "      <td>Buzz Kurtis</td>\n",
       "      <td>1.0</td>\n",
       "    </tr>\n",
       "  </tbody>\n",
       "</table>\n",
       "</div>"
      ],
      "text/plain": [
       "                                         title  year             name   type  \\\n",
       "420                          Ristikon varjossa  1945  Heikki Aaltoila  actor   \n",
       "834                       Kolmastoista koputus  1945  Kaarlo Aavajoki  actor   \n",
       "837                   Valkoisen neilikan velho  1945  Kaarlo Aavajoki  actor   \n",
       "1751                        God Is My Co-Pilot  1945        Leo Abbey  actor   \n",
       "1884  Bud Abbott and Lou Costello in Hollywood  1945       Bud Abbott  actor   \n",
       "\n",
       "           character     n  \n",
       "420         Musician   NaN  \n",
       "834            Grisu  17.0  \n",
       "837            Romsu  10.0  \n",
       "1751  Ground Crewman   NaN  \n",
       "1884     Buzz Kurtis   1.0  "
      ]
     },
     "execution_count": 50,
     "metadata": {},
     "output_type": "execute_result"
    }
   ],
   "source": [
    "c"
   ]
  },
  {
   "cell_type": "code",
   "execution_count": 51,
   "metadata": {
    "collapsed": false
   },
   "outputs": [
    {
     "data": {
      "text/plain": [
       "actor    13508\n",
       "Name: type, dtype: int64"
      ]
     },
     "execution_count": 51,
     "metadata": {},
     "output_type": "execute_result"
    }
   ],
   "source": [
    "c = cast[cast.year==1945].type.value_counts().head(1)\n",
    "c"
   ]
  },
  {
   "cell_type": "code",
   "execution_count": 52,
   "metadata": {
    "collapsed": true
   },
   "outputs": [],
   "source": [
    "c = cast[cast.year==1945].name.value_counts().head(1)"
   ]
  },
  {
   "cell_type": "code",
   "execution_count": 53,
   "metadata": {
    "collapsed": false
   },
   "outputs": [
    {
     "data": {
      "text/plain": [
       "Emmett Vogan    39\n",
       "Name: name, dtype: int64"
      ]
     },
     "execution_count": 53,
     "metadata": {},
     "output_type": "execute_result"
    }
   ],
   "source": [
    "c"
   ]
  },
  {
   "cell_type": "code",
   "execution_count": null,
   "metadata": {
    "collapsed": true
   },
   "outputs": [],
   "source": [
    "\n"
   ]
  },
  {
   "cell_type": "code",
   "execution_count": null,
   "metadata": {
    "collapsed": true
   },
   "outputs": [],
   "source": []
  },
  {
   "cell_type": "markdown",
   "metadata": {
    "collapsed": true
   },
   "source": [
    "### Which actors or actresses appeared in the most movies in the year 1985?"
   ]
  },
  {
   "cell_type": "code",
   "execution_count": null,
   "metadata": {
    "collapsed": true
   },
   "outputs": [],
   "source": []
  },
  {
   "cell_type": "code",
   "execution_count": null,
   "metadata": {
    "collapsed": true
   },
   "outputs": [],
   "source": []
  },
  {
   "cell_type": "markdown",
   "metadata": {
    "collapsed": true
   },
   "source": [
    "### Plot how many roles Mammootty has played in each year of his career."
   ]
  },
  {
   "cell_type": "code",
   "execution_count": 54,
   "metadata": {
    "collapsed": false
   },
   "outputs": [
    {
     "data": {
      "text/plain": [
       "1971     1\n",
       "1980     2\n",
       "1981     3\n",
       "1982     7\n",
       "1983    18\n",
       "1984    16\n",
       "1985    21\n",
       "1986    18\n",
       "1987     9\n",
       "1988     7\n",
       "1989    10\n",
       "1990    15\n",
       "1991     6\n",
       "1992     3\n",
       "1993     5\n",
       "1994     5\n",
       "1995     5\n",
       "1996     3\n",
       "1997     2\n",
       "1998     4\n",
       "1999     4\n",
       "2000     7\n",
       "2001     3\n",
       "2002     3\n",
       "2003     2\n",
       "2004     8\n",
       "2005     6\n",
       "2006     8\n",
       "2007     7\n",
       "2008     9\n",
       "2009    12\n",
       "2010     9\n",
       "2011     7\n",
       "2012     7\n",
       "2013     5\n",
       "2014     6\n",
       "2015     6\n",
       "2016     3\n",
       "2017     1\n",
       "Name: year, dtype: int64"
      ]
     },
     "execution_count": 54,
     "metadata": {},
     "output_type": "execute_result"
    }
   ],
   "source": [
    "c = cast[cast.name == 'Mammootty'].year.value_counts().sort_index()\n",
    "c"
   ]
  },
  {
   "cell_type": "code",
   "execution_count": 55,
   "metadata": {
    "collapsed": false
   },
   "outputs": [
    {
     "data": {
      "text/plain": [
       "<matplotlib.axes._subplots.AxesSubplot at 0x1e84ed80550>"
      ]
     },
     "execution_count": 55,
     "metadata": {},
     "output_type": "execute_result"
    },
    {
     "data": {
      "image/png": "[encoded data removed]",
      "text/plain": [
       "<matplotlib.figure.Figure at 0x1e86dcdecf8>"
      ]
     },
     "metadata": {},
     "output_type": "display_data"
    }
   ],
   "source": [
    "c.plot()\n"
   ]
  },
  {
   "cell_type": "code",
   "execution_count": null,
   "metadata": {
    "collapsed": true
   },
   "outputs": [],
   "source": [
    "\n"
   ]
  },
  {
   "cell_type": "code",
   "execution_count": null,
   "metadata": {
    "collapsed": true
   },
   "outputs": [],
   "source": []
  },
  {
   "cell_type": "markdown",
   "metadata": {
    "collapsed": true
   },
   "source": [
    "### What are the 10 most frequent roles that start with the phrase \"Patron in\"?"
   ]
  },
  {
   "cell_type": "code",
   "execution_count": null,
   "metadata": {
    "collapsed": true
   },
   "outputs": [],
   "source": []
  },
  {
   "cell_type": "code",
   "execution_count": null,
   "metadata": {
    "collapsed": true
   },
   "outputs": [],
   "source": []
  },
  {
   "cell_type": "markdown",
   "metadata": {
    "collapsed": true
   },
   "source": [
    "### What are the 10 most frequent roles that start with the word \"Science\"?"
   ]
  },
  {
   "cell_type": "code",
   "execution_count": null,
   "metadata": {
    "collapsed": true
   },
   "outputs": [],
   "source": []
  },
  {
   "cell_type": "code",
   "execution_count": null,
   "metadata": {
    "collapsed": true
   },
   "outputs": [],
   "source": []
  },
  {
   "cell_type": "markdown",
   "metadata": {
    "collapsed": true
   },
   "source": [
    "### Plot the n-values of the roles that Judi Dench has played over her career."
   ]
  },
  {
   "cell_type": "code",
   "execution_count": null,
   "metadata": {
    "collapsed": true
   },
   "outputs": [],
   "source": []
  },
  {
   "cell_type": "code",
   "execution_count": null,
   "metadata": {
    "collapsed": true
   },
   "outputs": [],
   "source": []
  },
  {
   "cell_type": "markdown",
   "metadata": {
    "collapsed": true
   },
   "source": [
    "### Plot the n-values of Cary Grant's roles through his career."
   ]
  },
  {
   "cell_type": "code",
   "execution_count": null,
   "metadata": {
    "collapsed": true
   },
   "outputs": [],
   "source": []
  },
  {
   "cell_type": "code",
   "execution_count": null,
   "metadata": {
    "collapsed": true
   },
   "outputs": [],
   "source": []
  },
  {
   "cell_type": "markdown",
   "metadata": {
    "collapsed": true
   },
   "source": [
    "### Plot the n-value of the roles that Sidney Poitier has acted over the years."
   ]
  },
  {
   "cell_type": "code",
   "execution_count": null,
   "metadata": {
    "collapsed": true
   },
   "outputs": [],
   "source": []
  },
  {
   "cell_type": "code",
   "execution_count": null,
   "metadata": {
    "collapsed": true
   },
   "outputs": [],
   "source": []
  },
  {
   "cell_type": "markdown",
   "metadata": {
    "collapsed": true
   },
   "source": [
    "### How many leading (n=1) roles were available to actors, and how many to actresses, in the 1950s?"
   ]
  },
  {
   "cell_type": "code",
   "execution_count": null,
   "metadata": {
    "collapsed": true
   },
   "outputs": [],
   "source": []
  },
  {
   "cell_type": "code",
   "execution_count": null,
   "metadata": {
    "collapsed": true
   },
   "outputs": [],
   "source": []
  },
  {
   "cell_type": "markdown",
   "metadata": {
    "collapsed": true
   },
   "source": [
    "### How many supporting (n=2) roles were available to actors, and how many to actresses, in the 1950s?"
   ]
  },
  {
   "cell_type": "code",
   "execution_count": null,
   "metadata": {
    "collapsed": true
   },
   "outputs": [],
   "source": []
  },
  {
   "cell_type": "code",
   "execution_count": null,
   "metadata": {
    "collapsed": true
   },
   "outputs": [],
   "source": []
  },
  {
   "cell_type": "code",
   "execution_count": null,
   "metadata": {
    "collapsed": true
   },
   "outputs": [],
   "source": []
  },
  {
   "cell_type": "code",
   "execution_count": null,
   "metadata": {
    "collapsed": true
   },
   "outputs": [],
   "source": []
  },
  {
   "cell_type": "code",
   "execution_count": 57,
   "metadata": {
    "collapsed": false
   },
   "outputs": [
    {
     "name": "stdout",
     "output_type": "stream",
     "text": [
      "Wall time: 575 ms\n"
     ]
    },
    {
     "data": {
      "text/html": [
       "<div>\n",
       "<table border=\"1\" class=\"dataframe\">\n",
       "  <thead>\n",
       "    <tr style=\"text-align: right;\">\n",
       "      <th></th>\n",
       "      <th>title</th>\n",
       "      <th>year</th>\n",
       "      <th>name</th>\n",
       "      <th>type</th>\n",
       "      <th>character</th>\n",
       "      <th>n</th>\n",
       "    </tr>\n",
       "  </thead>\n",
       "  <tbody>\n",
       "    <tr>\n",
       "      <th>250297</th>\n",
       "      <td>Sleuth</td>\n",
       "      <td>2007</td>\n",
       "      <td>Kenneth Branagh</td>\n",
       "      <td>actor</td>\n",
       "      <td>Other Man on T.V.</td>\n",
       "      <td>NaN</td>\n",
       "    </tr>\n",
       "    <tr>\n",
       "      <th>314691</th>\n",
       "      <td>Sleuth</td>\n",
       "      <td>1972</td>\n",
       "      <td>Michael Caine</td>\n",
       "      <td>actor</td>\n",
       "      <td>Milo Tindle</td>\n",
       "      <td>2.0</td>\n",
       "    </tr>\n",
       "    <tr>\n",
       "      <th>314692</th>\n",
       "      <td>Sleuth</td>\n",
       "      <td>2007</td>\n",
       "      <td>Michael Caine</td>\n",
       "      <td>actor</td>\n",
       "      <td>Andrew</td>\n",
       "      <td>1.0</td>\n",
       "    </tr>\n",
       "    <tr>\n",
       "      <th>360365</th>\n",
       "      <td>Sleuth</td>\n",
       "      <td>1972</td>\n",
       "      <td>Alec Cawthorne</td>\n",
       "      <td>actor</td>\n",
       "      <td>Inspector Doppler</td>\n",
       "      <td>3.0</td>\n",
       "    </tr>\n",
       "    <tr>\n",
       "      <th>360366</th>\n",
       "      <td>Sleuth</td>\n",
       "      <td>2007</td>\n",
       "      <td>Alec (II) Cawthorne</td>\n",
       "      <td>actor</td>\n",
       "      <td>Inspector Doppler</td>\n",
       "      <td>NaN</td>\n",
       "    </tr>\n",
       "    <tr>\n",
       "      <th>1246855</th>\n",
       "      <td>Sleuth</td>\n",
       "      <td>2007</td>\n",
       "      <td>Jude Law</td>\n",
       "      <td>actor</td>\n",
       "      <td>Milo</td>\n",
       "      <td>2.0</td>\n",
       "    </tr>\n",
       "    <tr>\n",
       "      <th>1396572</th>\n",
       "      <td>Sleuth</td>\n",
       "      <td>1972</td>\n",
       "      <td>Teddy Martin</td>\n",
       "      <td>actor</td>\n",
       "      <td>Police Constable Higgs</td>\n",
       "      <td>6.0</td>\n",
       "    </tr>\n",
       "    <tr>\n",
       "      <th>1412647</th>\n",
       "      <td>Sleuth</td>\n",
       "      <td>1972</td>\n",
       "      <td>John (II) Matthews</td>\n",
       "      <td>actor</td>\n",
       "      <td>Detective Sergeant Tarrant</td>\n",
       "      <td>4.0</td>\n",
       "    </tr>\n",
       "    <tr>\n",
       "      <th>1644328</th>\n",
       "      <td>Sleuth</td>\n",
       "      <td>1972</td>\n",
       "      <td>Laurence Olivier</td>\n",
       "      <td>actor</td>\n",
       "      <td>Andrew Wyke</td>\n",
       "      <td>1.0</td>\n",
       "    </tr>\n",
       "    <tr>\n",
       "      <th>1741124</th>\n",
       "      <td>Sleuth</td>\n",
       "      <td>2007</td>\n",
       "      <td>Harold Pinter</td>\n",
       "      <td>actor</td>\n",
       "      <td>Man on T.V.</td>\n",
       "      <td>3.0</td>\n",
       "    </tr>\n",
       "    <tr>\n",
       "      <th>2619277</th>\n",
       "      <td>Sleuth</td>\n",
       "      <td>2007</td>\n",
       "      <td>Eve (II) Channing</td>\n",
       "      <td>actress</td>\n",
       "      <td>Marguerite Wyke</td>\n",
       "      <td>NaN</td>\n",
       "    </tr>\n",
       "    <tr>\n",
       "      <th>2619278</th>\n",
       "      <td>Sleuth</td>\n",
       "      <td>1972</td>\n",
       "      <td>Eve (III) Channing</td>\n",
       "      <td>actress</td>\n",
       "      <td>Marguerite Wyke</td>\n",
       "      <td>5.0</td>\n",
       "    </tr>\n",
       "  </tbody>\n",
       "</table>\n",
       "</div>"
      ],
      "text/plain": [
       "          title  year                 name     type  \\\n",
       "250297   Sleuth  2007      Kenneth Branagh    actor   \n",
       "314691   Sleuth  1972        Michael Caine    actor   \n",
       "314692   Sleuth  2007        Michael Caine    actor   \n",
       "360365   Sleuth  1972       Alec Cawthorne    actor   \n",
       "360366   Sleuth  2007  Alec (II) Cawthorne    actor   \n",
       "1246855  Sleuth  2007             Jude Law    actor   \n",
       "1396572  Sleuth  1972         Teddy Martin    actor   \n",
       "1412647  Sleuth  1972   John (II) Matthews    actor   \n",
       "1644328  Sleuth  1972     Laurence Olivier    actor   \n",
       "1741124  Sleuth  2007        Harold Pinter    actor   \n",
       "2619277  Sleuth  2007    Eve (II) Channing  actress   \n",
       "2619278  Sleuth  1972   Eve (III) Channing  actress   \n",
       "\n",
       "                          character    n  \n",
       "250297            Other Man on T.V.  NaN  \n",
       "314691                  Milo Tindle  2.0  \n",
       "314692                       Andrew  1.0  \n",
       "360365            Inspector Doppler  3.0  \n",
       "360366            Inspector Doppler  NaN  \n",
       "1246855                        Milo  2.0  \n",
       "1396572      Police Constable Higgs  6.0  \n",
       "1412647  Detective Sergeant Tarrant  4.0  \n",
       "1644328                 Andrew Wyke  1.0  \n",
       "1741124                 Man on T.V.  3.0  \n",
       "2619277             Marguerite Wyke  NaN  \n",
       "2619278             Marguerite Wyke  5.0  "
      ]
     },
     "execution_count": 57,
     "metadata": {},
     "output_type": "execute_result"
    }
   ],
   "source": [
    "%%time\n",
    "cast[cast.title=='Sleuth']"
   ]
  },
  {
   "cell_type": "code",
   "execution_count": 58,
   "metadata": {
    "collapsed": false
   },
   "outputs": [
    {
     "data": {
      "text/html": [
       "<div>\n",
       "<table border=\"1\" class=\"dataframe\">\n",
       "  <thead>\n",
       "    <tr style=\"text-align: right;\">\n",
       "      <th></th>\n",
       "      <th>year</th>\n",
       "      <th>name</th>\n",
       "      <th>type</th>\n",
       "      <th>character</th>\n",
       "      <th>n</th>\n",
       "    </tr>\n",
       "    <tr>\n",
       "      <th>title</th>\n",
       "      <th></th>\n",
       "      <th></th>\n",
       "      <th></th>\n",
       "      <th></th>\n",
       "      <th></th>\n",
       "    </tr>\n",
       "  </thead>\n",
       "  <tbody>\n",
       "    <tr>\n",
       "      <th>Closet Monster</th>\n",
       "      <td>2015</td>\n",
       "      <td>Buffy #1</td>\n",
       "      <td>actor</td>\n",
       "      <td>Buffy 4</td>\n",
       "      <td>NaN</td>\n",
       "    </tr>\n",
       "    <tr>\n",
       "      <th>Suuri illusioni</th>\n",
       "      <td>1985</td>\n",
       "      <td>Homo $</td>\n",
       "      <td>actor</td>\n",
       "      <td>Guests</td>\n",
       "      <td>22.0</td>\n",
       "    </tr>\n",
       "    <tr>\n",
       "      <th>Battle of the Sexes</th>\n",
       "      <td>2017</td>\n",
       "      <td>$hutter</td>\n",
       "      <td>actor</td>\n",
       "      <td>Bobby Riggs Fan</td>\n",
       "      <td>10.0</td>\n",
       "    </tr>\n",
       "    <tr>\n",
       "      <th>Secret in Their Eyes</th>\n",
       "      <td>2015</td>\n",
       "      <td>$hutter</td>\n",
       "      <td>actor</td>\n",
       "      <td>2002 Dodger Fan</td>\n",
       "      <td>NaN</td>\n",
       "    </tr>\n",
       "    <tr>\n",
       "      <th>Steve Jobs</th>\n",
       "      <td>2015</td>\n",
       "      <td>$hutter</td>\n",
       "      <td>actor</td>\n",
       "      <td>1988 Opera House Patron</td>\n",
       "      <td>NaN</td>\n",
       "    </tr>\n",
       "    <tr>\n",
       "      <th>Straight Outta Compton</th>\n",
       "      <td>2015</td>\n",
       "      <td>$hutter</td>\n",
       "      <td>actor</td>\n",
       "      <td>Club Patron</td>\n",
       "      <td>NaN</td>\n",
       "    </tr>\n",
       "    <tr>\n",
       "      <th>Straight Outta Compton</th>\n",
       "      <td>2015</td>\n",
       "      <td>$hutter</td>\n",
       "      <td>actor</td>\n",
       "      <td>Dopeman</td>\n",
       "      <td>NaN</td>\n",
       "    </tr>\n",
       "    <tr>\n",
       "      <th>For Thy Love 2</th>\n",
       "      <td>2009</td>\n",
       "      <td>Bee Moe $lim</td>\n",
       "      <td>actor</td>\n",
       "      <td>Thug 1</td>\n",
       "      <td>NaN</td>\n",
       "    </tr>\n",
       "    <tr>\n",
       "      <th>Lapis, Ballpen at Diploma, a True to Life Journey</th>\n",
       "      <td>2014</td>\n",
       "      <td>Jori ' Danilo' Jurado Jr.</td>\n",
       "      <td>actor</td>\n",
       "      <td>Jaime (young)</td>\n",
       "      <td>9.0</td>\n",
       "    </tr>\n",
       "    <tr>\n",
       "      <th>Desire (III)</th>\n",
       "      <td>2014</td>\n",
       "      <td>Syaiful 'Ariffin</td>\n",
       "      <td>actor</td>\n",
       "      <td>Actor Playing Eteocles from 'Antigone'</td>\n",
       "      <td>NaN</td>\n",
       "    </tr>\n",
       "    <tr>\n",
       "      <th>When the Man Went South</th>\n",
       "      <td>2014</td>\n",
       "      <td>Taipaleti 'Atu'ake</td>\n",
       "      <td>actor</td>\n",
       "      <td>Two Palms - Ua'i Paame</td>\n",
       "      <td>8.0</td>\n",
       "    </tr>\n",
       "    <tr>\n",
       "      <th>Little Angel (Angelita)</th>\n",
       "      <td>2015</td>\n",
       "      <td>Michael 'babeepower' Viera</td>\n",
       "      <td>actor</td>\n",
       "      <td>Chico</td>\n",
       "      <td>9.0</td>\n",
       "    </tr>\n",
       "    <tr>\n",
       "      <th>Mixing Nia</th>\n",
       "      <td>1998</td>\n",
       "      <td>Michael 'babeepower' Viera</td>\n",
       "      <td>actor</td>\n",
       "      <td>Rapper</td>\n",
       "      <td>NaN</td>\n",
       "    </tr>\n",
       "    <tr>\n",
       "      <th>The Replacements</th>\n",
       "      <td>2000</td>\n",
       "      <td>Steven 'Bear'Boyd</td>\n",
       "      <td>actor</td>\n",
       "      <td>Defensive Tackle - Washington Sentinels</td>\n",
       "      <td>NaN</td>\n",
       "    </tr>\n",
       "    <tr>\n",
       "      <th>All Out Dysfunktion!</th>\n",
       "      <td>2016</td>\n",
       "      <td>Kirlew 'bliss' Vilbon</td>\n",
       "      <td>actor</td>\n",
       "      <td>Bliss</td>\n",
       "      <td>NaN</td>\n",
       "    </tr>\n",
       "    <tr>\n",
       "      <th>Gook</th>\n",
       "      <td>2017</td>\n",
       "      <td>Kirlew 'bliss' Vilbon</td>\n",
       "      <td>actor</td>\n",
       "      <td>Bliss</td>\n",
       "      <td>NaN</td>\n",
       "    </tr>\n",
       "    <tr>\n",
       "      <th>My Song for You</th>\n",
       "      <td>2010</td>\n",
       "      <td>George 'Bootsy' Thomas</td>\n",
       "      <td>actor</td>\n",
       "      <td>Cooley's Customer</td>\n",
       "      <td>16.0</td>\n",
       "    </tr>\n",
       "    <tr>\n",
       "      <th>My Song for You</th>\n",
       "      <td>2010</td>\n",
       "      <td>George 'Bootsy' Thomas</td>\n",
       "      <td>actor</td>\n",
       "      <td>Celebration Guest</td>\n",
       "      <td>16.0</td>\n",
       "    </tr>\n",
       "    <tr>\n",
       "      <th>Hustle Beach</th>\n",
       "      <td>2017</td>\n",
       "      <td>Pete 'Boretta' Torres</td>\n",
       "      <td>actor</td>\n",
       "      <td>Tony</td>\n",
       "      <td>NaN</td>\n",
       "    </tr>\n",
       "    <tr>\n",
       "      <th>Mariano Mison... NBI</th>\n",
       "      <td>1997</td>\n",
       "      <td>Joseph 'Byron' Sese</td>\n",
       "      <td>actor</td>\n",
       "      <td>Putik's Son</td>\n",
       "      <td>31.0</td>\n",
       "    </tr>\n",
       "    <tr>\n",
       "      <th>Natas es Satan</th>\n",
       "      <td>1977</td>\n",
       "      <td>Ramon 'Cartucho' Pena</td>\n",
       "      <td>actor</td>\n",
       "      <td>Nigth Club Owner</td>\n",
       "      <td>NaN</td>\n",
       "    </tr>\n",
       "    <tr>\n",
       "      <th>B-Girl</th>\n",
       "      <td>2009</td>\n",
       "      <td>Jesse 'Casper' Brown</td>\n",
       "      <td>actor</td>\n",
       "      <td>Battle Judge</td>\n",
       "      <td>25.0</td>\n",
       "    </tr>\n",
       "    <tr>\n",
       "      <th>Battle of the Year</th>\n",
       "      <td>2013</td>\n",
       "      <td>Jesse 'Casper' Brown</td>\n",
       "      <td>actor</td>\n",
       "      <td>Rebel</td>\n",
       "      <td>9.0</td>\n",
       "    </tr>\n",
       "    <tr>\n",
       "      <th>Honey 2</th>\n",
       "      <td>2011</td>\n",
       "      <td>Jesse 'Casper' Brown</td>\n",
       "      <td>actor</td>\n",
       "      <td>Freestyle Dancer</td>\n",
       "      <td>73.0</td>\n",
       "    </tr>\n",
       "    <tr>\n",
       "      <th>Kickin' It Old Skool</th>\n",
       "      <td>2007</td>\n",
       "      <td>Jesse 'Casper' Brown</td>\n",
       "      <td>actor</td>\n",
       "      <td>Cole</td>\n",
       "      <td>10.0</td>\n",
       "    </tr>\n",
       "    <tr>\n",
       "      <th>Step Up All In</th>\n",
       "      <td>2014</td>\n",
       "      <td>Jesse 'Casper' Brown</td>\n",
       "      <td>actor</td>\n",
       "      <td>Grim Knight Dancer</td>\n",
       "      <td>61.0</td>\n",
       "    </tr>\n",
       "    <tr>\n",
       "      <th>The LXD: The Secrets of the Ra</th>\n",
       "      <td>2011</td>\n",
       "      <td>Jesse 'Casper' Brown</td>\n",
       "      <td>actor</td>\n",
       "      <td>Fangz</td>\n",
       "      <td>NaN</td>\n",
       "    </tr>\n",
       "    <tr>\n",
       "      <th>Todo x Sara</th>\n",
       "      <td>2014</td>\n",
       "      <td>Gil 'Colibri'Viera</td>\n",
       "      <td>actor</td>\n",
       "      <td>Llavero</td>\n",
       "      <td>NaN</td>\n",
       "    </tr>\n",
       "    <tr>\n",
       "      <th>Barrio Gangsters</th>\n",
       "      <td>2009</td>\n",
       "      <td>Marcelino 'Dibujo' Torres</td>\n",
       "      <td>actor</td>\n",
       "      <td>Dibujo</td>\n",
       "      <td>NaN</td>\n",
       "    </tr>\n",
       "    <tr>\n",
       "      <th>Cornmeal, Gunpowder, Ham Hocks and Guitar Strings</th>\n",
       "      <td>2015</td>\n",
       "      <td>Donnie 'Dicky' Clemson</td>\n",
       "      <td>actor</td>\n",
       "      <td>Jeb Kinney</td>\n",
       "      <td>NaN</td>\n",
       "    </tr>\n",
       "    <tr>\n",
       "      <th>...</th>\n",
       "      <td>...</td>\n",
       "      <td>...</td>\n",
       "      <td>...</td>\n",
       "      <td>...</td>\n",
       "      <td>...</td>\n",
       "    </tr>\n",
       "    <tr>\n",
       "      <th>Saathiya</th>\n",
       "      <td>2002</td>\n",
       "      <td>Madhuri (VIII)</td>\n",
       "      <td>actress</td>\n",
       "      <td>Lady at railway platform</td>\n",
       "      <td>40.0</td>\n",
       "    </tr>\n",
       "    <tr>\n",
       "      <th>Sonthakkaran</th>\n",
       "      <td>1989</td>\n",
       "      <td>Madhuri (X)</td>\n",
       "      <td>actress</td>\n",
       "      <td>Lakshmi C. Dorai</td>\n",
       "      <td>2.0</td>\n",
       "    </tr>\n",
       "    <tr>\n",
       "      <th>Samsaram Athu Minsaram</th>\n",
       "      <td>1986</td>\n",
       "      <td>Madhuri (XI)</td>\n",
       "      <td>actress</td>\n",
       "      <td>Vasantha</td>\n",
       "      <td>NaN</td>\n",
       "    </tr>\n",
       "    <tr>\n",
       "      <th>Boeing Boeing</th>\n",
       "      <td>1985</td>\n",
       "      <td>Madhuri (XV)</td>\n",
       "      <td>actress</td>\n",
       "      <td>Padma Subramaniam</td>\n",
       "      <td>NaN</td>\n",
       "    </tr>\n",
       "    <tr>\n",
       "      <th>Jaan Pechaan</th>\n",
       "      <td>1991</td>\n",
       "      <td>Meera Madhuri</td>\n",
       "      <td>actress</td>\n",
       "      <td>Pinky</td>\n",
       "      <td>NaN</td>\n",
       "    </tr>\n",
       "    <tr>\n",
       "      <th>Jai Maa Karwa Chauth</th>\n",
       "      <td>1994</td>\n",
       "      <td>Meera Madhuri</td>\n",
       "      <td>actress</td>\n",
       "      <td>Gauri</td>\n",
       "      <td>NaN</td>\n",
       "    </tr>\n",
       "    <tr>\n",
       "      <th>Kala Coat</th>\n",
       "      <td>1993</td>\n",
       "      <td>Meera Madhuri</td>\n",
       "      <td>actress</td>\n",
       "      <td>Seema Khurana</td>\n",
       "      <td>NaN</td>\n",
       "    </tr>\n",
       "    <tr>\n",
       "      <th>Maan Maryada</th>\n",
       "      <td>1984</td>\n",
       "      <td>Meera Madhuri</td>\n",
       "      <td>actress</td>\n",
       "      <td>Reshmabai</td>\n",
       "      <td>NaN</td>\n",
       "    </tr>\n",
       "    <tr>\n",
       "      <th>Koothara</th>\n",
       "      <td>2014</td>\n",
       "      <td>Madhurima</td>\n",
       "      <td>actress</td>\n",
       "      <td>Shaista</td>\n",
       "      <td>NaN</td>\n",
       "    </tr>\n",
       "    <tr>\n",
       "      <th>Aandhiyan</th>\n",
       "      <td>1990</td>\n",
       "      <td>Madhushree</td>\n",
       "      <td>actress</td>\n",
       "      <td>Kiran</td>\n",
       "      <td>3.0</td>\n",
       "    </tr>\n",
       "    <tr>\n",
       "      <th>Family No.1</th>\n",
       "      <td>2011</td>\n",
       "      <td>Madhusmita</td>\n",
       "      <td>actress</td>\n",
       "      <td>Meghna</td>\n",
       "      <td>NaN</td>\n",
       "    </tr>\n",
       "    <tr>\n",
       "      <th>Nari Nuhen Tu Narayani</th>\n",
       "      <td>2007</td>\n",
       "      <td>Madhusmita</td>\n",
       "      <td>actress</td>\n",
       "      <td>Jauthi's wife</td>\n",
       "      <td>19.0</td>\n",
       "    </tr>\n",
       "    <tr>\n",
       "      <th>Suhaga Sindura</th>\n",
       "      <td>1996</td>\n",
       "      <td>Madhusmita</td>\n",
       "      <td>actress</td>\n",
       "      <td>Rita</td>\n",
       "      <td>NaN</td>\n",
       "    </tr>\n",
       "    <tr>\n",
       "      <th>Vidhyaarthi: The Power of Students</th>\n",
       "      <td>2006</td>\n",
       "      <td>Baby Richa Madhusudan</td>\n",
       "      <td>actress</td>\n",
       "      <td>Student</td>\n",
       "      <td>NaN</td>\n",
       "    </tr>\n",
       "    <tr>\n",
       "      <th>Uncle Nino</th>\n",
       "      <td>2003</td>\n",
       "      <td>Carley Marcelle Madi</td>\n",
       "      <td>actress</td>\n",
       "      <td>The Crush Girl</td>\n",
       "      <td>NaN</td>\n",
       "    </tr>\n",
       "    <tr>\n",
       "      <th>Candinho</th>\n",
       "      <td>1954</td>\n",
       "      <td>Labiby Madi</td>\n",
       "      <td>actress</td>\n",
       "      <td>Hermione</td>\n",
       "      <td>9.0</td>\n",
       "    </tr>\n",
       "    <tr>\n",
       "      <th>Sea Shadow</th>\n",
       "      <td>2011</td>\n",
       "      <td>Neven Madi</td>\n",
       "      <td>actress</td>\n",
       "      <td>Kaltham</td>\n",
       "      <td>2.0</td>\n",
       "    </tr>\n",
       "    <tr>\n",
       "      <th>Thawb al-Shams</th>\n",
       "      <td>2010</td>\n",
       "      <td>Neven Madi</td>\n",
       "      <td>actress</td>\n",
       "      <td>Selma</td>\n",
       "      <td>NaN</td>\n",
       "    </tr>\n",
       "    <tr>\n",
       "      <th>Bujang lapok</th>\n",
       "      <td>1957</td>\n",
       "      <td>Rahayu Madi</td>\n",
       "      <td>actress</td>\n",
       "      <td>Ayu, Adik Zaiton (Zaiton's younger sister)</td>\n",
       "      <td>18.0</td>\n",
       "    </tr>\n",
       "    <tr>\n",
       "      <th>Off Book</th>\n",
       "      <td>2016</td>\n",
       "      <td>Macey Madias</td>\n",
       "      <td>actress</td>\n",
       "      <td>Angelica</td>\n",
       "      <td>3.0</td>\n",
       "    </tr>\n",
       "    <tr>\n",
       "      <th>108 Stitches</th>\n",
       "      <td>2014</td>\n",
       "      <td>Rebecca Madick</td>\n",
       "      <td>actress</td>\n",
       "      <td>Student</td>\n",
       "      <td>NaN</td>\n",
       "    </tr>\n",
       "    <tr>\n",
       "      <th>Shazam and the Lost Path</th>\n",
       "      <td>2013</td>\n",
       "      <td>Windy Madiedo</td>\n",
       "      <td>actress</td>\n",
       "      <td>Playsemall Fan</td>\n",
       "      <td>20.0</td>\n",
       "    </tr>\n",
       "    <tr>\n",
       "      <th>A Time for Dancing</th>\n",
       "      <td>2002</td>\n",
       "      <td>Amy Madigan</td>\n",
       "      <td>actress</td>\n",
       "      <td>Jackie</td>\n",
       "      <td>8.0</td>\n",
       "    </tr>\n",
       "    <tr>\n",
       "      <th>Admissions</th>\n",
       "      <td>2004</td>\n",
       "      <td>Amy Madigan</td>\n",
       "      <td>actress</td>\n",
       "      <td>Martha Brighton</td>\n",
       "      <td>2.0</td>\n",
       "    </tr>\n",
       "    <tr>\n",
       "      <th>Alamo Bay</th>\n",
       "      <td>1985</td>\n",
       "      <td>Amy Madigan</td>\n",
       "      <td>actress</td>\n",
       "      <td>Glory</td>\n",
       "      <td>1.0</td>\n",
       "    </tr>\n",
       "    <tr>\n",
       "      <th>Female Perversions</th>\n",
       "      <td>1996</td>\n",
       "      <td>Amy Madigan</td>\n",
       "      <td>actress</td>\n",
       "      <td>Maddie Stephens</td>\n",
       "      <td>2.0</td>\n",
       "    </tr>\n",
       "    <tr>\n",
       "      <th>Field of Dreams</th>\n",
       "      <td>1989</td>\n",
       "      <td>Amy Madigan</td>\n",
       "      <td>actress</td>\n",
       "      <td>Annie Kinsella</td>\n",
       "      <td>2.0</td>\n",
       "    </tr>\n",
       "    <tr>\n",
       "      <th>Frontera</th>\n",
       "      <td>2014</td>\n",
       "      <td>Amy Madigan</td>\n",
       "      <td>actress</td>\n",
       "      <td>Olivia</td>\n",
       "      <td>4.0</td>\n",
       "    </tr>\n",
       "    <tr>\n",
       "      <th>Future Weather</th>\n",
       "      <td>2012</td>\n",
       "      <td>Amy Madigan</td>\n",
       "      <td>actress</td>\n",
       "      <td>Greta</td>\n",
       "      <td>3.0</td>\n",
       "    </tr>\n",
       "    <tr>\n",
       "      <th>Gary's Walk</th>\n",
       "      <td>2009</td>\n",
       "      <td>Amy Madigan</td>\n",
       "      <td>actress</td>\n",
       "      <td>Gloria</td>\n",
       "      <td>NaN</td>\n",
       "    </tr>\n",
       "  </tbody>\n",
       "</table>\n",
       "<p>3088767 rows × 5 columns</p>\n",
       "</div>"
      ],
      "text/plain": [
       "                                                   year  \\\n",
       "title                                                     \n",
       "Closet Monster                                     2015   \n",
       "Suuri illusioni                                    1985   \n",
       "Battle of the Sexes                                2017   \n",
       "Secret in Their Eyes                               2015   \n",
       "Steve Jobs                                         2015   \n",
       "Straight Outta Compton                             2015   \n",
       "Straight Outta Compton                             2015   \n",
       "For Thy Love 2                                     2009   \n",
       "Lapis, Ballpen at Diploma, a True to Life Journey  2014   \n",
       "Desire (III)                                       2014   \n",
       "When the Man Went South                            2014   \n",
       "Little Angel (Angelita)                            2015   \n",
       "Mixing Nia                                         1998   \n",
       "The Replacements                                   2000   \n",
       "All Out Dysfunktion!                               2016   \n",
       "Gook                                               2017   \n",
       "My Song for You                                    2010   \n",
       "My Song for You                                    2010   \n",
       "Hustle Beach                                       2017   \n",
       "Mariano Mison... NBI                               1997   \n",
       "Natas es Satan                                     1977   \n",
       "B-Girl                                             2009   \n",
       "Battle of the Year                                 2013   \n",
       "Honey 2                                            2011   \n",
       "Kickin' It Old Skool                               2007   \n",
       "Step Up All In                                     2014   \n",
       "The LXD: The Secrets of the Ra                     2011   \n",
       "Todo x Sara                                        2014   \n",
       "Barrio Gangsters                                   2009   \n",
       "Cornmeal, Gunpowder, Ham Hocks and Guitar Strings  2015   \n",
       "...                                                 ...   \n",
       "Saathiya                                           2002   \n",
       "Sonthakkaran                                       1989   \n",
       "Samsaram Athu Minsaram                             1986   \n",
       "Boeing Boeing                                      1985   \n",
       "Jaan Pechaan                                       1991   \n",
       "Jai Maa Karwa Chauth                               1994   \n",
       "Kala Coat                                          1993   \n",
       "Maan Maryada                                       1984   \n",
       "Koothara                                           2014   \n",
       "Aandhiyan                                          1990   \n",
       "Family No.1                                        2011   \n",
       "Nari Nuhen Tu Narayani                             2007   \n",
       "Suhaga Sindura                                     1996   \n",
       "Vidhyaarthi: The Power of Students                 2006   \n",
       "Uncle Nino                                         2003   \n",
       "Candinho                                           1954   \n",
       "Sea Shadow                                         2011   \n",
       "Thawb al-Shams                                     2010   \n",
       "Bujang lapok                                       1957   \n",
       "Off Book                                           2016   \n",
       "108 Stitches                                       2014   \n",
       "Shazam and the Lost Path                           2013   \n",
       "A Time for Dancing                                 2002   \n",
       "Admissions                                         2004   \n",
       "Alamo Bay                                          1985   \n",
       "Female Perversions                                 1996   \n",
       "Field of Dreams                                    1989   \n",
       "Frontera                                           2014   \n",
       "Future Weather                                     2012   \n",
       "Gary's Walk                                        2009   \n",
       "\n",
       "                                                                         name  \\\n",
       "title                                                                           \n",
       "Closet Monster                                                       Buffy #1   \n",
       "Suuri illusioni                                                        Homo $   \n",
       "Battle of the Sexes                                                   $hutter   \n",
       "Secret in Their Eyes                                                  $hutter   \n",
       "Steve Jobs                                                            $hutter   \n",
       "Straight Outta Compton                                                $hutter   \n",
       "Straight Outta Compton                                                $hutter   \n",
       "For Thy Love 2                                                   Bee Moe $lim   \n",
       "Lapis, Ballpen at Diploma, a True to Life Journey   Jori ' Danilo' Jurado Jr.   \n",
       "Desire (III)                                                 Syaiful 'Ariffin   \n",
       "When the Man Went South                                    Taipaleti 'Atu'ake   \n",
       "Little Angel (Angelita)                            Michael 'babeepower' Viera   \n",
       "Mixing Nia                                         Michael 'babeepower' Viera   \n",
       "The Replacements                                            Steven 'Bear'Boyd   \n",
       "All Out Dysfunktion!                                    Kirlew 'bliss' Vilbon   \n",
       "Gook                                                    Kirlew 'bliss' Vilbon   \n",
       "My Song for You                                        George 'Bootsy' Thomas   \n",
       "My Song for You                                        George 'Bootsy' Thomas   \n",
       "Hustle Beach                                            Pete 'Boretta' Torres   \n",
       "Mariano Mison... NBI                                      Joseph 'Byron' Sese   \n",
       "Natas es Satan                                          Ramon 'Cartucho' Pena   \n",
       "B-Girl                                                   Jesse 'Casper' Brown   \n",
       "Battle of the Year                                       Jesse 'Casper' Brown   \n",
       "Honey 2                                                  Jesse 'Casper' Brown   \n",
       "Kickin' It Old Skool                                     Jesse 'Casper' Brown   \n",
       "Step Up All In                                           Jesse 'Casper' Brown   \n",
       "The LXD: The Secrets of the Ra                           Jesse 'Casper' Brown   \n",
       "Todo x Sara                                                Gil 'Colibri'Viera   \n",
       "Barrio Gangsters                                    Marcelino 'Dibujo' Torres   \n",
       "Cornmeal, Gunpowder, Ham Hocks and Guitar Strings      Donnie 'Dicky' Clemson   \n",
       "...                                                                       ...   \n",
       "Saathiya                                                       Madhuri (VIII)   \n",
       "Sonthakkaran                                                      Madhuri (X)   \n",
       "Samsaram Athu Minsaram                                           Madhuri (XI)   \n",
       "Boeing Boeing                                                    Madhuri (XV)   \n",
       "Jaan Pechaan                                                    Meera Madhuri   \n",
       "Jai Maa Karwa Chauth                                            Meera Madhuri   \n",
       "Kala Coat                                                       Meera Madhuri   \n",
       "Maan Maryada                                                    Meera Madhuri   \n",
       "Koothara                                                            Madhurima   \n",
       "Aandhiyan                                                          Madhushree   \n",
       "Family No.1                                                        Madhusmita   \n",
       "Nari Nuhen Tu Narayani                                             Madhusmita   \n",
       "Suhaga Sindura                                                     Madhusmita   \n",
       "Vidhyaarthi: The Power of Students                      Baby Richa Madhusudan   \n",
       "Uncle Nino                                               Carley Marcelle Madi   \n",
       "Candinho                                                          Labiby Madi   \n",
       "Sea Shadow                                                         Neven Madi   \n",
       "Thawb al-Shams                                                     Neven Madi   \n",
       "Bujang lapok                                                      Rahayu Madi   \n",
       "Off Book                                                         Macey Madias   \n",
       "108 Stitches                                                   Rebecca Madick   \n",
       "Shazam and the Lost Path                                        Windy Madiedo   \n",
       "A Time for Dancing                                                Amy Madigan   \n",
       "Admissions                                                        Amy Madigan   \n",
       "Alamo Bay                                                         Amy Madigan   \n",
       "Female Perversions                                                Amy Madigan   \n",
       "Field of Dreams                                                   Amy Madigan   \n",
       "Frontera                                                          Amy Madigan   \n",
       "Future Weather                                                    Amy Madigan   \n",
       "Gary's Walk                                                       Amy Madigan   \n",
       "\n",
       "                                                      type  \\\n",
       "title                                                        \n",
       "Closet Monster                                       actor   \n",
       "Suuri illusioni                                      actor   \n",
       "Battle of the Sexes                                  actor   \n",
       "Secret in Their Eyes                                 actor   \n",
       "Steve Jobs                                           actor   \n",
       "Straight Outta Compton                               actor   \n",
       "Straight Outta Compton                               actor   \n",
       "For Thy Love 2                                       actor   \n",
       "Lapis, Ballpen at Diploma, a True to Life Journey    actor   \n",
       "Desire (III)                                         actor   \n",
       "When the Man Went South                              actor   \n",
       "Little Angel (Angelita)                              actor   \n",
       "Mixing Nia                                           actor   \n",
       "The Replacements                                     actor   \n",
       "All Out Dysfunktion!                                 actor   \n",
       "Gook                                                 actor   \n",
       "My Song for You                                      actor   \n",
       "My Song for You                                      actor   \n",
       "Hustle Beach                                         actor   \n",
       "Mariano Mison... NBI                                 actor   \n",
       "Natas es Satan                                       actor   \n",
       "B-Girl                                               actor   \n",
       "Battle of the Year                                   actor   \n",
       "Honey 2                                              actor   \n",
       "Kickin' It Old Skool                                 actor   \n",
       "Step Up All In                                       actor   \n",
       "The LXD: The Secrets of the Ra                       actor   \n",
       "Todo x Sara                                          actor   \n",
       "Barrio Gangsters                                     actor   \n",
       "Cornmeal, Gunpowder, Ham Hocks and Guitar Strings    actor   \n",
       "...                                                    ...   \n",
       "Saathiya                                           actress   \n",
       "Sonthakkaran                                       actress   \n",
       "Samsaram Athu Minsaram                             actress   \n",
       "Boeing Boeing                                      actress   \n",
       "Jaan Pechaan                                       actress   \n",
       "Jai Maa Karwa Chauth                               actress   \n",
       "Kala Coat                                          actress   \n",
       "Maan Maryada                                       actress   \n",
       "Koothara                                           actress   \n",
       "Aandhiyan                                          actress   \n",
       "Family No.1                                        actress   \n",
       "Nari Nuhen Tu Narayani                             actress   \n",
       "Suhaga Sindura                                     actress   \n",
       "Vidhyaarthi: The Power of Students                 actress   \n",
       "Uncle Nino                                         actress   \n",
       "Candinho                                           actress   \n",
       "Sea Shadow                                         actress   \n",
       "Thawb al-Shams                                     actress   \n",
       "Bujang lapok                                       actress   \n",
       "Off Book                                           actress   \n",
       "108 Stitches                                       actress   \n",
       "Shazam and the Lost Path                           actress   \n",
       "A Time for Dancing                                 actress   \n",
       "Admissions                                         actress   \n",
       "Alamo Bay                                          actress   \n",
       "Female Perversions                                 actress   \n",
       "Field of Dreams                                    actress   \n",
       "Frontera                                           actress   \n",
       "Future Weather                                     actress   \n",
       "Gary's Walk                                        actress   \n",
       "\n",
       "                                                                                    character  \\\n",
       "title                                                                                           \n",
       "Closet Monster                                                                        Buffy 4   \n",
       "Suuri illusioni                                                                        Guests   \n",
       "Battle of the Sexes                                                           Bobby Riggs Fan   \n",
       "Secret in Their Eyes                                                          2002 Dodger Fan   \n",
       "Steve Jobs                                                            1988 Opera House Patron   \n",
       "Straight Outta Compton                                                            Club Patron   \n",
       "Straight Outta Compton                                                                Dopeman   \n",
       "For Thy Love 2                                                                         Thug 1   \n",
       "Lapis, Ballpen at Diploma, a True to Life Journey                               Jaime (young)   \n",
       "Desire (III)                                           Actor Playing Eteocles from 'Antigone'   \n",
       "When the Man Went South                                                Two Palms - Ua'i Paame   \n",
       "Little Angel (Angelita)                                                                 Chico   \n",
       "Mixing Nia                                                                             Rapper   \n",
       "The Replacements                                      Defensive Tackle - Washington Sentinels   \n",
       "All Out Dysfunktion!                                                                    Bliss   \n",
       "Gook                                                                                    Bliss   \n",
       "My Song for You                                                             Cooley's Customer   \n",
       "My Song for You                                                             Celebration Guest   \n",
       "Hustle Beach                                                                             Tony   \n",
       "Mariano Mison... NBI                                                              Putik's Son   \n",
       "Natas es Satan                                                               Nigth Club Owner   \n",
       "B-Girl                                                                           Battle Judge   \n",
       "Battle of the Year                                                                      Rebel   \n",
       "Honey 2                                                                      Freestyle Dancer   \n",
       "Kickin' It Old Skool                                                                     Cole   \n",
       "Step Up All In                                                             Grim Knight Dancer   \n",
       "The LXD: The Secrets of the Ra                                                          Fangz   \n",
       "Todo x Sara                                                                           Llavero   \n",
       "Barrio Gangsters                                                                       Dibujo   \n",
       "Cornmeal, Gunpowder, Ham Hocks and Guitar Strings                                  Jeb Kinney   \n",
       "...                                                                                       ...   \n",
       "Saathiya                                                             Lady at railway platform   \n",
       "Sonthakkaran                                                                 Lakshmi C. Dorai   \n",
       "Samsaram Athu Minsaram                                                               Vasantha   \n",
       "Boeing Boeing                                                               Padma Subramaniam   \n",
       "Jaan Pechaan                                                                            Pinky   \n",
       "Jai Maa Karwa Chauth                                                                    Gauri   \n",
       "Kala Coat                                                                       Seema Khurana   \n",
       "Maan Maryada                                                                        Reshmabai   \n",
       "Koothara                                                                              Shaista   \n",
       "Aandhiyan                                                                               Kiran   \n",
       "Family No.1                                                                            Meghna   \n",
       "Nari Nuhen Tu Narayani                                                          Jauthi's wife   \n",
       "Suhaga Sindura                                                                           Rita   \n",
       "Vidhyaarthi: The Power of Students                                                    Student   \n",
       "Uncle Nino                                                                     The Crush Girl   \n",
       "Candinho                                                                             Hermione   \n",
       "Sea Shadow                                                                            Kaltham   \n",
       "Thawb al-Shams                                                                          Selma   \n",
       "Bujang lapok                                       Ayu, Adik Zaiton (Zaiton's younger sister)   \n",
       "Off Book                                                                             Angelica   \n",
       "108 Stitches                                                                          Student   \n",
       "Shazam and the Lost Path                                                       Playsemall Fan   \n",
       "A Time for Dancing                                                                     Jackie   \n",
       "Admissions                                                                    Martha Brighton   \n",
       "Alamo Bay                                                                               Glory   \n",
       "Female Perversions                                                            Maddie Stephens   \n",
       "Field of Dreams                                                                Annie Kinsella   \n",
       "Frontera                                                                               Olivia   \n",
       "Future Weather                                                                          Greta   \n",
       "Gary's Walk                                                                            Gloria   \n",
       "\n",
       "                                                      n  \n",
       "title                                                    \n",
       "Closet Monster                                      NaN  \n",
       "Suuri illusioni                                    22.0  \n",
       "Battle of the Sexes                                10.0  \n",
       "Secret in Their Eyes                                NaN  \n",
       "Steve Jobs                                          NaN  \n",
       "Straight Outta Compton                              NaN  \n",
       "Straight Outta Compton                              NaN  \n",
       "For Thy Love 2                                      NaN  \n",
       "Lapis, Ballpen at Diploma, a True to Life Journey   9.0  \n",
       "Desire (III)                                        NaN  \n",
       "When the Man Went South                             8.0  \n",
       "Little Angel (Angelita)                             9.0  \n",
       "Mixing Nia                                          NaN  \n",
       "The Replacements                                    NaN  \n",
       "All Out Dysfunktion!                                NaN  \n",
       "Gook                                                NaN  \n",
       "My Song for You                                    16.0  \n",
       "My Song for You                                    16.0  \n",
       "Hustle Beach                                        NaN  \n",
       "Mariano Mison... NBI                               31.0  \n",
       "Natas es Satan                                      NaN  \n",
       "B-Girl                                             25.0  \n",
       "Battle of the Year                                  9.0  \n",
       "Honey 2                                            73.0  \n",
       "Kickin' It Old Skool                               10.0  \n",
       "Step Up All In                                     61.0  \n",
       "The LXD: The Secrets of the Ra                      NaN  \n",
       "Todo x Sara                                         NaN  \n",
       "Barrio Gangsters                                    NaN  \n",
       "Cornmeal, Gunpowder, Ham Hocks and Guitar Strings   NaN  \n",
       "...                                                 ...  \n",
       "Saathiya                                           40.0  \n",
       "Sonthakkaran                                        2.0  \n",
       "Samsaram Athu Minsaram                              NaN  \n",
       "Boeing Boeing                                       NaN  \n",
       "Jaan Pechaan                                        NaN  \n",
       "Jai Maa Karwa Chauth                                NaN  \n",
       "Kala Coat                                           NaN  \n",
       "Maan Maryada                                        NaN  \n",
       "Koothara                                            NaN  \n",
       "Aandhiyan                                           3.0  \n",
       "Family No.1                                         NaN  \n",
       "Nari Nuhen Tu Narayani                             19.0  \n",
       "Suhaga Sindura                                      NaN  \n",
       "Vidhyaarthi: The Power of Students                  NaN  \n",
       "Uncle Nino                                          NaN  \n",
       "Candinho                                            9.0  \n",
       "Sea Shadow                                          2.0  \n",
       "Thawb al-Shams                                      NaN  \n",
       "Bujang lapok                                       18.0  \n",
       "Off Book                                            3.0  \n",
       "108 Stitches                                        NaN  \n",
       "Shazam and the Lost Path                           20.0  \n",
       "A Time for Dancing                                  8.0  \n",
       "Admissions                                          2.0  \n",
       "Alamo Bay                                           1.0  \n",
       "Female Perversions                                  2.0  \n",
       "Field of Dreams                                     2.0  \n",
       "Frontera                                            4.0  \n",
       "Future Weather                                      3.0  \n",
       "Gary's Walk                                         NaN  \n",
       "\n",
       "[3088767 rows x 5 columns]"
      ]
     },
     "execution_count": 58,
     "metadata": {},
     "output_type": "execute_result"
    }
   ],
   "source": [
    "c=cast.set_index(['title'])\n",
    "c"
   ]
  },
  {
   "cell_type": "code",
   "execution_count": 59,
   "metadata": {
    "collapsed": false
   },
   "outputs": [
    {
     "data": {
      "text/plain": [
       "<pandas.core.indexing._LocIndexer at 0x1e84f168b00>"
      ]
     },
     "execution_count": 59,
     "metadata": {},
     "output_type": "execute_result"
    }
   ],
   "source": [
    "c.loc('Sleuth')"
   ]
  },
  {
   "cell_type": "code",
   "execution_count": 60,
   "metadata": {
    "collapsed": false
   },
   "outputs": [
    {
     "data": {
      "text/html": [
       "<div>\n",
       "<table border=\"1\" class=\"dataframe\">\n",
       "  <thead>\n",
       "    <tr style=\"text-align: right;\">\n",
       "      <th></th>\n",
       "      <th>year</th>\n",
       "      <th>name</th>\n",
       "      <th>type</th>\n",
       "      <th>character</th>\n",
       "      <th>n</th>\n",
       "    </tr>\n",
       "    <tr>\n",
       "      <th>title</th>\n",
       "      <th></th>\n",
       "      <th></th>\n",
       "      <th></th>\n",
       "      <th></th>\n",
       "      <th></th>\n",
       "    </tr>\n",
       "  </thead>\n",
       "  <tbody>\n",
       "    <tr>\n",
       "      <th>Sleuth</th>\n",
       "      <td>2007</td>\n",
       "      <td>Kenneth Branagh</td>\n",
       "      <td>actor</td>\n",
       "      <td>Other Man on T.V.</td>\n",
       "      <td>NaN</td>\n",
       "    </tr>\n",
       "    <tr>\n",
       "      <th>Sleuth</th>\n",
       "      <td>1972</td>\n",
       "      <td>Michael Caine</td>\n",
       "      <td>actor</td>\n",
       "      <td>Milo Tindle</td>\n",
       "      <td>2.0</td>\n",
       "    </tr>\n",
       "    <tr>\n",
       "      <th>Sleuth</th>\n",
       "      <td>2007</td>\n",
       "      <td>Michael Caine</td>\n",
       "      <td>actor</td>\n",
       "      <td>Andrew</td>\n",
       "      <td>1.0</td>\n",
       "    </tr>\n",
       "    <tr>\n",
       "      <th>Sleuth</th>\n",
       "      <td>1972</td>\n",
       "      <td>Alec Cawthorne</td>\n",
       "      <td>actor</td>\n",
       "      <td>Inspector Doppler</td>\n",
       "      <td>3.0</td>\n",
       "    </tr>\n",
       "    <tr>\n",
       "      <th>Sleuth</th>\n",
       "      <td>2007</td>\n",
       "      <td>Alec (II) Cawthorne</td>\n",
       "      <td>actor</td>\n",
       "      <td>Inspector Doppler</td>\n",
       "      <td>NaN</td>\n",
       "    </tr>\n",
       "    <tr>\n",
       "      <th>Sleuth</th>\n",
       "      <td>2007</td>\n",
       "      <td>Jude Law</td>\n",
       "      <td>actor</td>\n",
       "      <td>Milo</td>\n",
       "      <td>2.0</td>\n",
       "    </tr>\n",
       "    <tr>\n",
       "      <th>Sleuth</th>\n",
       "      <td>1972</td>\n",
       "      <td>Teddy Martin</td>\n",
       "      <td>actor</td>\n",
       "      <td>Police Constable Higgs</td>\n",
       "      <td>6.0</td>\n",
       "    </tr>\n",
       "    <tr>\n",
       "      <th>Sleuth</th>\n",
       "      <td>1972</td>\n",
       "      <td>John (II) Matthews</td>\n",
       "      <td>actor</td>\n",
       "      <td>Detective Sergeant Tarrant</td>\n",
       "      <td>4.0</td>\n",
       "    </tr>\n",
       "    <tr>\n",
       "      <th>Sleuth</th>\n",
       "      <td>1972</td>\n",
       "      <td>Laurence Olivier</td>\n",
       "      <td>actor</td>\n",
       "      <td>Andrew Wyke</td>\n",
       "      <td>1.0</td>\n",
       "    </tr>\n",
       "    <tr>\n",
       "      <th>Sleuth</th>\n",
       "      <td>2007</td>\n",
       "      <td>Harold Pinter</td>\n",
       "      <td>actor</td>\n",
       "      <td>Man on T.V.</td>\n",
       "      <td>3.0</td>\n",
       "    </tr>\n",
       "    <tr>\n",
       "      <th>Sleuth</th>\n",
       "      <td>2007</td>\n",
       "      <td>Eve (II) Channing</td>\n",
       "      <td>actress</td>\n",
       "      <td>Marguerite Wyke</td>\n",
       "      <td>NaN</td>\n",
       "    </tr>\n",
       "    <tr>\n",
       "      <th>Sleuth</th>\n",
       "      <td>1972</td>\n",
       "      <td>Eve (III) Channing</td>\n",
       "      <td>actress</td>\n",
       "      <td>Marguerite Wyke</td>\n",
       "      <td>5.0</td>\n",
       "    </tr>\n",
       "  </tbody>\n",
       "</table>\n",
       "</div>"
      ],
      "text/plain": [
       "        year                 name     type                   character    n\n",
       "title                                                                      \n",
       "Sleuth  2007      Kenneth Branagh    actor           Other Man on T.V.  NaN\n",
       "Sleuth  1972        Michael Caine    actor                 Milo Tindle  2.0\n",
       "Sleuth  2007        Michael Caine    actor                      Andrew  1.0\n",
       "Sleuth  1972       Alec Cawthorne    actor           Inspector Doppler  3.0\n",
       "Sleuth  2007  Alec (II) Cawthorne    actor           Inspector Doppler  NaN\n",
       "Sleuth  2007             Jude Law    actor                        Milo  2.0\n",
       "Sleuth  1972         Teddy Martin    actor      Police Constable Higgs  6.0\n",
       "Sleuth  1972   John (II) Matthews    actor  Detective Sergeant Tarrant  4.0\n",
       "Sleuth  1972     Laurence Olivier    actor                 Andrew Wyke  1.0\n",
       "Sleuth  2007        Harold Pinter    actor                 Man on T.V.  3.0\n",
       "Sleuth  2007    Eve (II) Channing  actress             Marguerite Wyke  NaN\n",
       "Sleuth  1972   Eve (III) Channing  actress             Marguerite Wyke  5.0"
      ]
     },
     "execution_count": 60,
     "metadata": {},
     "output_type": "execute_result"
    }
   ],
   "source": [
    "c.loc['Sleuth']"
   ]
  },
  {
   "cell_type": "code",
   "execution_count": 64,
   "metadata": {
    "collapsed": false
   },
   "outputs": [
    {
     "data": {
      "text/html": [
       "<div>\n",
       "<table border=\"1\" class=\"dataframe\">\n",
       "  <thead>\n",
       "    <tr style=\"text-align: right;\">\n",
       "      <th></th>\n",
       "      <th>year</th>\n",
       "      <th>name</th>\n",
       "      <th>type</th>\n",
       "      <th>character</th>\n",
       "      <th>n</th>\n",
       "    </tr>\n",
       "    <tr>\n",
       "      <th>title</th>\n",
       "      <th></th>\n",
       "      <th></th>\n",
       "      <th></th>\n",
       "      <th></th>\n",
       "      <th></th>\n",
       "    </tr>\n",
       "  </thead>\n",
       "  <tbody>\n",
       "    <tr>\n",
       "      <th>#1 Serial Killer</th>\n",
       "      <td>2013</td>\n",
       "      <td>Patrick Chien</td>\n",
       "      <td>actor</td>\n",
       "      <td>Cleaver Victim</td>\n",
       "      <td>22.0</td>\n",
       "    </tr>\n",
       "    <tr>\n",
       "      <th>#1 Serial Killer</th>\n",
       "      <td>2013</td>\n",
       "      <td>Cindera Che</td>\n",
       "      <td>actress</td>\n",
       "      <td>Mrs. Tsai</td>\n",
       "      <td>10.0</td>\n",
       "    </tr>\n",
       "    <tr>\n",
       "      <th>#1 Serial Killer</th>\n",
       "      <td>2013</td>\n",
       "      <td>Kenzie Dalton</td>\n",
       "      <td>actress</td>\n",
       "      <td>Amber Sterling</td>\n",
       "      <td>5.0</td>\n",
       "    </tr>\n",
       "    <tr>\n",
       "      <th>#1 Serial Killer</th>\n",
       "      <td>2013</td>\n",
       "      <td>Jesse Wang</td>\n",
       "      <td>actor</td>\n",
       "      <td>Mr. Tsai</td>\n",
       "      <td>11.0</td>\n",
       "    </tr>\n",
       "    <tr>\n",
       "      <th>#1 Serial Killer</th>\n",
       "      <td>2013</td>\n",
       "      <td>Parry Shen</td>\n",
       "      <td>actor</td>\n",
       "      <td>Murder Victim</td>\n",
       "      <td>NaN</td>\n",
       "    </tr>\n",
       "    <tr>\n",
       "      <th>#1 Serial Killer</th>\n",
       "      <td>2013</td>\n",
       "      <td>Robert Cicchini</td>\n",
       "      <td>actor</td>\n",
       "      <td>Detective Phillips</td>\n",
       "      <td>9.0</td>\n",
       "    </tr>\n",
       "    <tr>\n",
       "      <th>#1 Serial Killer</th>\n",
       "      <td>2013</td>\n",
       "      <td>Jason Tobin</td>\n",
       "      <td>actor</td>\n",
       "      <td>Eddy Tsai</td>\n",
       "      <td>1.0</td>\n",
       "    </tr>\n",
       "    <tr>\n",
       "      <th>#1 Serial Killer</th>\n",
       "      <td>2013</td>\n",
       "      <td>Brian Takahashi</td>\n",
       "      <td>actor</td>\n",
       "      <td>Stabbing Victim</td>\n",
       "      <td>20.0</td>\n",
       "    </tr>\n",
       "    <tr>\n",
       "      <th>#1 Serial Killer</th>\n",
       "      <td>2013</td>\n",
       "      <td>Jinxia Ma</td>\n",
       "      <td>actress</td>\n",
       "      <td>Chinese Teacher</td>\n",
       "      <td>24.0</td>\n",
       "    </tr>\n",
       "    <tr>\n",
       "      <th>#1 Serial Killer</th>\n",
       "      <td>2013</td>\n",
       "      <td>Thomas McCurdy</td>\n",
       "      <td>actor</td>\n",
       "      <td>Golf Club Victim</td>\n",
       "      <td>23.0</td>\n",
       "    </tr>\n",
       "    <tr>\n",
       "      <th>#1 Serial Killer</th>\n",
       "      <td>2013</td>\n",
       "      <td>Matthias Chrans</td>\n",
       "      <td>actor</td>\n",
       "      <td>Brian Bennett</td>\n",
       "      <td>13.0</td>\n",
       "    </tr>\n",
       "    <tr>\n",
       "      <th>#1 Serial Killer</th>\n",
       "      <td>2013</td>\n",
       "      <td>Rane Jameson</td>\n",
       "      <td>actor</td>\n",
       "      <td>Micah Betancourt</td>\n",
       "      <td>6.0</td>\n",
       "    </tr>\n",
       "    <tr>\n",
       "      <th>#1 Serial Killer</th>\n",
       "      <td>2013</td>\n",
       "      <td>Ellen (II) Ho</td>\n",
       "      <td>actress</td>\n",
       "      <td>Tiffany Wong</td>\n",
       "      <td>15.0</td>\n",
       "    </tr>\n",
       "    <tr>\n",
       "      <th>#1 Serial Killer</th>\n",
       "      <td>2013</td>\n",
       "      <td>Kylee Cochran</td>\n",
       "      <td>actress</td>\n",
       "      <td>Jennifer Griffin</td>\n",
       "      <td>NaN</td>\n",
       "    </tr>\n",
       "    <tr>\n",
       "      <th>#1 Serial Killer</th>\n",
       "      <td>2013</td>\n",
       "      <td>Michael Alton</td>\n",
       "      <td>actor</td>\n",
       "      <td>Detective Roberts</td>\n",
       "      <td>17.0</td>\n",
       "    </tr>\n",
       "    <tr>\n",
       "      <th>#1 Serial Killer</th>\n",
       "      <td>2013</td>\n",
       "      <td>Thomas Isao Morinaka</td>\n",
       "      <td>actor</td>\n",
       "      <td>Policeman #1</td>\n",
       "      <td>19.0</td>\n",
       "    </tr>\n",
       "    <tr>\n",
       "      <th>#1 Serial Killer</th>\n",
       "      <td>2013</td>\n",
       "      <td>Tzi Ma</td>\n",
       "      <td>actor</td>\n",
       "      <td>Mr. Chang</td>\n",
       "      <td>3.0</td>\n",
       "    </tr>\n",
       "    <tr>\n",
       "      <th>#1 Serial Killer</th>\n",
       "      <td>2013</td>\n",
       "      <td>Zachary (X) Brown</td>\n",
       "      <td>actor</td>\n",
       "      <td>Africian American Teen</td>\n",
       "      <td>18.0</td>\n",
       "    </tr>\n",
       "    <tr>\n",
       "      <th>#1 Serial Killer</th>\n",
       "      <td>2013</td>\n",
       "      <td>Eric (II) St. John</td>\n",
       "      <td>actor</td>\n",
       "      <td>Officer Williams</td>\n",
       "      <td>NaN</td>\n",
       "    </tr>\n",
       "    <tr>\n",
       "      <th>#1 Serial Killer</th>\n",
       "      <td>2013</td>\n",
       "      <td>Christie Gaynor</td>\n",
       "      <td>actress</td>\n",
       "      <td>Detective Anderson</td>\n",
       "      <td>8.0</td>\n",
       "    </tr>\n",
       "    <tr>\n",
       "      <th>#1 Serial Killer</th>\n",
       "      <td>2013</td>\n",
       "      <td>Yvis Cannavale</td>\n",
       "      <td>actor</td>\n",
       "      <td>Homeless Man</td>\n",
       "      <td>25.0</td>\n",
       "    </tr>\n",
       "    <tr>\n",
       "      <th>#1 Serial Killer</th>\n",
       "      <td>2013</td>\n",
       "      <td>Shoshana Bush</td>\n",
       "      <td>actress</td>\n",
       "      <td>Tricia Arnold</td>\n",
       "      <td>4.0</td>\n",
       "    </tr>\n",
       "    <tr>\n",
       "      <th>#1 Serial Killer</th>\n",
       "      <td>2013</td>\n",
       "      <td>Kasie Callaway</td>\n",
       "      <td>actress</td>\n",
       "      <td>Cathherine</td>\n",
       "      <td>16.0</td>\n",
       "    </tr>\n",
       "    <tr>\n",
       "      <th>#1 Serial Killer</th>\n",
       "      <td>2013</td>\n",
       "      <td>Aaron Aoki</td>\n",
       "      <td>actor</td>\n",
       "      <td>Plastic Bag Victim</td>\n",
       "      <td>21.0</td>\n",
       "    </tr>\n",
       "    <tr>\n",
       "      <th>#1 Serial Killer</th>\n",
       "      <td>2013</td>\n",
       "      <td>Timothy Tau</td>\n",
       "      <td>actor</td>\n",
       "      <td>Police Officer</td>\n",
       "      <td>NaN</td>\n",
       "    </tr>\n",
       "    <tr>\n",
       "      <th>#1 Serial Killer</th>\n",
       "      <td>2013</td>\n",
       "      <td>Romina Bovolini</td>\n",
       "      <td>actress</td>\n",
       "      <td>Lisa Simpson</td>\n",
       "      <td>14.0</td>\n",
       "    </tr>\n",
       "    <tr>\n",
       "      <th>#1 Serial Killer</th>\n",
       "      <td>2013</td>\n",
       "      <td>Scott Eriksson</td>\n",
       "      <td>actor</td>\n",
       "      <td>Party Guest</td>\n",
       "      <td>NaN</td>\n",
       "    </tr>\n",
       "    <tr>\n",
       "      <th>#1 Serial Killer</th>\n",
       "      <td>2013</td>\n",
       "      <td>Tiley Chao</td>\n",
       "      <td>actress</td>\n",
       "      <td>Mrs. Chang</td>\n",
       "      <td>12.0</td>\n",
       "    </tr>\n",
       "    <tr>\n",
       "      <th>#5</th>\n",
       "      <td>2013</td>\n",
       "      <td>Ricky Bardy</td>\n",
       "      <td>actor</td>\n",
       "      <td>Ricky Bardy</td>\n",
       "      <td>NaN</td>\n",
       "    </tr>\n",
       "    <tr>\n",
       "      <th>#5</th>\n",
       "      <td>2013</td>\n",
       "      <td>Justin Bardy</td>\n",
       "      <td>actor</td>\n",
       "      <td>X</td>\n",
       "      <td>NaN</td>\n",
       "    </tr>\n",
       "    <tr>\n",
       "      <th>...</th>\n",
       "      <td>...</td>\n",
       "      <td>...</td>\n",
       "      <td>...</td>\n",
       "      <td>...</td>\n",
       "      <td>...</td>\n",
       "    </tr>\n",
       "    <tr>\n",
       "      <th>xXx: State of the Union</th>\n",
       "      <td>2005</td>\n",
       "      <td>Ned Schmidtke</td>\n",
       "      <td>actor</td>\n",
       "      <td>General Jack Pettibone</td>\n",
       "      <td>15.0</td>\n",
       "    </tr>\n",
       "    <tr>\n",
       "      <th>xXx: State of the Union</th>\n",
       "      <td>2005</td>\n",
       "      <td>Henry Jaderlund</td>\n",
       "      <td>actor</td>\n",
       "      <td>Ambassador</td>\n",
       "      <td>NaN</td>\n",
       "    </tr>\n",
       "    <tr>\n",
       "      <th>xXx: State of the Union</th>\n",
       "      <td>2005</td>\n",
       "      <td>Danielle Lazarus</td>\n",
       "      <td>actress</td>\n",
       "      <td>Secret Service Agent</td>\n",
       "      <td>NaN</td>\n",
       "    </tr>\n",
       "    <tr>\n",
       "      <th>xXx: State of the Union</th>\n",
       "      <td>2005</td>\n",
       "      <td>Yoshi Ando</td>\n",
       "      <td>actor</td>\n",
       "      <td>Zeke's Thief</td>\n",
       "      <td>NaN</td>\n",
       "    </tr>\n",
       "    <tr>\n",
       "      <th>xXx: State of the Union</th>\n",
       "      <td>2005</td>\n",
       "      <td>Toby Bronson</td>\n",
       "      <td>actor</td>\n",
       "      <td>Tank Commander</td>\n",
       "      <td>NaN</td>\n",
       "    </tr>\n",
       "    <tr>\n",
       "      <th>xXx: State of the Union</th>\n",
       "      <td>2005</td>\n",
       "      <td>Sunny Mabrey</td>\n",
       "      <td>actress</td>\n",
       "      <td>Charlie Mayweather</td>\n",
       "      <td>8.0</td>\n",
       "    </tr>\n",
       "    <tr>\n",
       "      <th>xXx: State of the Union</th>\n",
       "      <td>2005</td>\n",
       "      <td>Dave Kennedy</td>\n",
       "      <td>actor</td>\n",
       "      <td>Funeral Commander</td>\n",
       "      <td>34.0</td>\n",
       "    </tr>\n",
       "    <tr>\n",
       "      <th>xXx: State of the Union</th>\n",
       "      <td>2005</td>\n",
       "      <td>Sylvan De LaFeuille</td>\n",
       "      <td>actor</td>\n",
       "      <td>SWAT</td>\n",
       "      <td>NaN</td>\n",
       "    </tr>\n",
       "    <tr>\n",
       "      <th>xXx: State of the Union</th>\n",
       "      <td>2005</td>\n",
       "      <td>Eli Harris</td>\n",
       "      <td>actor</td>\n",
       "      <td>SWAT</td>\n",
       "      <td>NaN</td>\n",
       "    </tr>\n",
       "    <tr>\n",
       "      <th>xXx: State of the Union</th>\n",
       "      <td>2005</td>\n",
       "      <td>Robert Alonzo</td>\n",
       "      <td>actor</td>\n",
       "      <td>Guard</td>\n",
       "      <td>NaN</td>\n",
       "    </tr>\n",
       "    <tr>\n",
       "      <th>xXx: State of the Union</th>\n",
       "      <td>2005</td>\n",
       "      <td>Todd Louiso</td>\n",
       "      <td>actor</td>\n",
       "      <td>Dickie Ambrose</td>\n",
       "      <td>NaN</td>\n",
       "    </tr>\n",
       "    <tr>\n",
       "      <th>xXx: State of the Union</th>\n",
       "      <td>2005</td>\n",
       "      <td>Willem Dafoe</td>\n",
       "      <td>actor</td>\n",
       "      <td>General George Deckert</td>\n",
       "      <td>1.0</td>\n",
       "    </tr>\n",
       "    <tr>\n",
       "      <th>xXx: State of the Union</th>\n",
       "      <td>2005</td>\n",
       "      <td>Krystal Browning</td>\n",
       "      <td>actress</td>\n",
       "      <td>Undercover Agent</td>\n",
       "      <td>NaN</td>\n",
       "    </tr>\n",
       "    <tr>\n",
       "      <th>xXx: State of the Union</th>\n",
       "      <td>2005</td>\n",
       "      <td>James (VII) Lewis</td>\n",
       "      <td>actor</td>\n",
       "      <td>World Leader</td>\n",
       "      <td>NaN</td>\n",
       "    </tr>\n",
       "    <tr>\n",
       "      <th>xXx: State of the Union</th>\n",
       "      <td>2005</td>\n",
       "      <td>Bryan Holly</td>\n",
       "      <td>actor</td>\n",
       "      <td>NSA Agent</td>\n",
       "      <td>NaN</td>\n",
       "    </tr>\n",
       "    <tr>\n",
       "      <th>xXx: State of the Union</th>\n",
       "      <td>2005</td>\n",
       "      <td>Darrell Geer</td>\n",
       "      <td>actor</td>\n",
       "      <td>Soldier</td>\n",
       "      <td>NaN</td>\n",
       "    </tr>\n",
       "    <tr>\n",
       "      <th>xXx: State of the Union</th>\n",
       "      <td>2005</td>\n",
       "      <td>Larry Feurzeig</td>\n",
       "      <td>actor</td>\n",
       "      <td>Marine</td>\n",
       "      <td>NaN</td>\n",
       "    </tr>\n",
       "    <tr>\n",
       "      <th>xXx: State of the Union</th>\n",
       "      <td>2005</td>\n",
       "      <td>Glen (II) Walker</td>\n",
       "      <td>actor</td>\n",
       "      <td>Newscaster</td>\n",
       "      <td>25.0</td>\n",
       "    </tr>\n",
       "    <tr>\n",
       "      <th>xXx: State of the Union</th>\n",
       "      <td>2005</td>\n",
       "      <td>Robert Straley</td>\n",
       "      <td>actor</td>\n",
       "      <td>Waiter</td>\n",
       "      <td>NaN</td>\n",
       "    </tr>\n",
       "    <tr>\n",
       "      <th>y</th>\n",
       "      <td>2016</td>\n",
       "      <td>Jins Baskar</td>\n",
       "      <td>actor</td>\n",
       "      <td>Target</td>\n",
       "      <td>NaN</td>\n",
       "    </tr>\n",
       "    <tr>\n",
       "      <th>y</th>\n",
       "      <td>2016</td>\n",
       "      <td>Yehia Kader</td>\n",
       "      <td>actor</td>\n",
       "      <td>Mohan</td>\n",
       "      <td>NaN</td>\n",
       "    </tr>\n",
       "    <tr>\n",
       "      <th>y</th>\n",
       "      <td>2016</td>\n",
       "      <td>Rahul (VII) Nair</td>\n",
       "      <td>actor</td>\n",
       "      <td>Binoy</td>\n",
       "      <td>NaN</td>\n",
       "    </tr>\n",
       "    <tr>\n",
       "      <th>y</th>\n",
       "      <td>2016</td>\n",
       "      <td>Anand Manmadhan</td>\n",
       "      <td>actor</td>\n",
       "      <td>Subair</td>\n",
       "      <td>NaN</td>\n",
       "    </tr>\n",
       "    <tr>\n",
       "      <th>y</th>\n",
       "      <td>2016</td>\n",
       "      <td>Don Mathew</td>\n",
       "      <td>actor</td>\n",
       "      <td>News Reporter</td>\n",
       "      <td>NaN</td>\n",
       "    </tr>\n",
       "    <tr>\n",
       "      <th>y</th>\n",
       "      <td>2016</td>\n",
       "      <td>Dheeraj Denny</td>\n",
       "      <td>actor</td>\n",
       "      <td>Arun</td>\n",
       "      <td>NaN</td>\n",
       "    </tr>\n",
       "    <tr>\n",
       "      <th>y</th>\n",
       "      <td>2016</td>\n",
       "      <td>Anoop Ramesh</td>\n",
       "      <td>actor</td>\n",
       "      <td>Pop</td>\n",
       "      <td>NaN</td>\n",
       "    </tr>\n",
       "    <tr>\n",
       "      <th>y</th>\n",
       "      <td>2016</td>\n",
       "      <td>Lydia (XXIII)</td>\n",
       "      <td>actress</td>\n",
       "      <td>News Reporter</td>\n",
       "      <td>NaN</td>\n",
       "    </tr>\n",
       "    <tr>\n",
       "      <th>y</th>\n",
       "      <td>2016</td>\n",
       "      <td>Santhosh Varghese</td>\n",
       "      <td>actor</td>\n",
       "      <td>Police Officer</td>\n",
       "      <td>NaN</td>\n",
       "    </tr>\n",
       "    <tr>\n",
       "      <th>y</th>\n",
       "      <td>2016</td>\n",
       "      <td>Alencier Ley Lopez</td>\n",
       "      <td>actor</td>\n",
       "      <td>Police Officer</td>\n",
       "      <td>NaN</td>\n",
       "    </tr>\n",
       "    <tr>\n",
       "      <th>y</th>\n",
       "      <td>2016</td>\n",
       "      <td>Abhiram Suresh Unnithan</td>\n",
       "      <td>actor</td>\n",
       "      <td>Shaiju</td>\n",
       "      <td>NaN</td>\n",
       "    </tr>\n",
       "  </tbody>\n",
       "</table>\n",
       "<p>3088767 rows × 5 columns</p>\n",
       "</div>"
      ],
      "text/plain": [
       "                         year                     name     type  \\\n",
       "title                                                             \n",
       "#1 Serial Killer         2013            Patrick Chien    actor   \n",
       "#1 Serial Killer         2013              Cindera Che  actress   \n",
       "#1 Serial Killer         2013            Kenzie Dalton  actress   \n",
       "#1 Serial Killer         2013               Jesse Wang    actor   \n",
       "#1 Serial Killer         2013               Parry Shen    actor   \n",
       "#1 Serial Killer         2013          Robert Cicchini    actor   \n",
       "#1 Serial Killer         2013              Jason Tobin    actor   \n",
       "#1 Serial Killer         2013          Brian Takahashi    actor   \n",
       "#1 Serial Killer         2013                Jinxia Ma  actress   \n",
       "#1 Serial Killer         2013           Thomas McCurdy    actor   \n",
       "#1 Serial Killer         2013          Matthias Chrans    actor   \n",
       "#1 Serial Killer         2013             Rane Jameson    actor   \n",
       "#1 Serial Killer         2013            Ellen (II) Ho  actress   \n",
       "#1 Serial Killer         2013            Kylee Cochran  actress   \n",
       "#1 Serial Killer         2013            Michael Alton    actor   \n",
       "#1 Serial Killer         2013     Thomas Isao Morinaka    actor   \n",
       "#1 Serial Killer         2013                   Tzi Ma    actor   \n",
       "#1 Serial Killer         2013        Zachary (X) Brown    actor   \n",
       "#1 Serial Killer         2013       Eric (II) St. John    actor   \n",
       "#1 Serial Killer         2013          Christie Gaynor  actress   \n",
       "#1 Serial Killer         2013           Yvis Cannavale    actor   \n",
       "#1 Serial Killer         2013            Shoshana Bush  actress   \n",
       "#1 Serial Killer         2013           Kasie Callaway  actress   \n",
       "#1 Serial Killer         2013               Aaron Aoki    actor   \n",
       "#1 Serial Killer         2013              Timothy Tau    actor   \n",
       "#1 Serial Killer         2013          Romina Bovolini  actress   \n",
       "#1 Serial Killer         2013           Scott Eriksson    actor   \n",
       "#1 Serial Killer         2013               Tiley Chao  actress   \n",
       "#5                       2013              Ricky Bardy    actor   \n",
       "#5                       2013             Justin Bardy    actor   \n",
       "...                       ...                      ...      ...   \n",
       "xXx: State of the Union  2005            Ned Schmidtke    actor   \n",
       "xXx: State of the Union  2005          Henry Jaderlund    actor   \n",
       "xXx: State of the Union  2005         Danielle Lazarus  actress   \n",
       "xXx: State of the Union  2005               Yoshi Ando    actor   \n",
       "xXx: State of the Union  2005             Toby Bronson    actor   \n",
       "xXx: State of the Union  2005             Sunny Mabrey  actress   \n",
       "xXx: State of the Union  2005             Dave Kennedy    actor   \n",
       "xXx: State of the Union  2005      Sylvan De LaFeuille    actor   \n",
       "xXx: State of the Union  2005               Eli Harris    actor   \n",
       "xXx: State of the Union  2005            Robert Alonzo    actor   \n",
       "xXx: State of the Union  2005              Todd Louiso    actor   \n",
       "xXx: State of the Union  2005             Willem Dafoe    actor   \n",
       "xXx: State of the Union  2005         Krystal Browning  actress   \n",
       "xXx: State of the Union  2005        James (VII) Lewis    actor   \n",
       "xXx: State of the Union  2005              Bryan Holly    actor   \n",
       "xXx: State of the Union  2005             Darrell Geer    actor   \n",
       "xXx: State of the Union  2005           Larry Feurzeig    actor   \n",
       "xXx: State of the Union  2005         Glen (II) Walker    actor   \n",
       "xXx: State of the Union  2005           Robert Straley    actor   \n",
       "y                        2016              Jins Baskar    actor   \n",
       "y                        2016              Yehia Kader    actor   \n",
       "y                        2016         Rahul (VII) Nair    actor   \n",
       "y                        2016          Anand Manmadhan    actor   \n",
       "y                        2016               Don Mathew    actor   \n",
       "y                        2016            Dheeraj Denny    actor   \n",
       "y                        2016             Anoop Ramesh    actor   \n",
       "y                        2016            Lydia (XXIII)  actress   \n",
       "y                        2016        Santhosh Varghese    actor   \n",
       "y                        2016       Alencier Ley Lopez    actor   \n",
       "y                        2016  Abhiram Suresh Unnithan    actor   \n",
       "\n",
       "                                      character     n  \n",
       "title                                                  \n",
       "#1 Serial Killer                 Cleaver Victim  22.0  \n",
       "#1 Serial Killer                      Mrs. Tsai  10.0  \n",
       "#1 Serial Killer                 Amber Sterling   5.0  \n",
       "#1 Serial Killer                       Mr. Tsai  11.0  \n",
       "#1 Serial Killer                  Murder Victim   NaN  \n",
       "#1 Serial Killer             Detective Phillips   9.0  \n",
       "#1 Serial Killer                      Eddy Tsai   1.0  \n",
       "#1 Serial Killer                Stabbing Victim  20.0  \n",
       "#1 Serial Killer                Chinese Teacher  24.0  \n",
       "#1 Serial Killer               Golf Club Victim  23.0  \n",
       "#1 Serial Killer                  Brian Bennett  13.0  \n",
       "#1 Serial Killer               Micah Betancourt   6.0  \n",
       "#1 Serial Killer                   Tiffany Wong  15.0  \n",
       "#1 Serial Killer               Jennifer Griffin   NaN  \n",
       "#1 Serial Killer              Detective Roberts  17.0  \n",
       "#1 Serial Killer                   Policeman #1  19.0  \n",
       "#1 Serial Killer                      Mr. Chang   3.0  \n",
       "#1 Serial Killer         Africian American Teen  18.0  \n",
       "#1 Serial Killer               Officer Williams   NaN  \n",
       "#1 Serial Killer             Detective Anderson   8.0  \n",
       "#1 Serial Killer                   Homeless Man  25.0  \n",
       "#1 Serial Killer                  Tricia Arnold   4.0  \n",
       "#1 Serial Killer                     Cathherine  16.0  \n",
       "#1 Serial Killer             Plastic Bag Victim  21.0  \n",
       "#1 Serial Killer                 Police Officer   NaN  \n",
       "#1 Serial Killer                   Lisa Simpson  14.0  \n",
       "#1 Serial Killer                    Party Guest   NaN  \n",
       "#1 Serial Killer                     Mrs. Chang  12.0  \n",
       "#5                                  Ricky Bardy   NaN  \n",
       "#5                                            X   NaN  \n",
       "...                                         ...   ...  \n",
       "xXx: State of the Union  General Jack Pettibone  15.0  \n",
       "xXx: State of the Union              Ambassador   NaN  \n",
       "xXx: State of the Union    Secret Service Agent   NaN  \n",
       "xXx: State of the Union            Zeke's Thief   NaN  \n",
       "xXx: State of the Union          Tank Commander   NaN  \n",
       "xXx: State of the Union      Charlie Mayweather   8.0  \n",
       "xXx: State of the Union       Funeral Commander  34.0  \n",
       "xXx: State of the Union                    SWAT   NaN  \n",
       "xXx: State of the Union                    SWAT   NaN  \n",
       "xXx: State of the Union                   Guard   NaN  \n",
       "xXx: State of the Union          Dickie Ambrose   NaN  \n",
       "xXx: State of the Union  General George Deckert   1.0  \n",
       "xXx: State of the Union        Undercover Agent   NaN  \n",
       "xXx: State of the Union            World Leader   NaN  \n",
       "xXx: State of the Union               NSA Agent   NaN  \n",
       "xXx: State of the Union                 Soldier   NaN  \n",
       "xXx: State of the Union                  Marine   NaN  \n",
       "xXx: State of the Union              Newscaster  25.0  \n",
       "xXx: State of the Union                  Waiter   NaN  \n",
       "y                                        Target   NaN  \n",
       "y                                         Mohan   NaN  \n",
       "y                                         Binoy   NaN  \n",
       "y                                        Subair   NaN  \n",
       "y                                 News Reporter   NaN  \n",
       "y                                          Arun   NaN  \n",
       "y                                           Pop   NaN  \n",
       "y                                 News Reporter   NaN  \n",
       "y                                Police Officer   NaN  \n",
       "y                                Police Officer   NaN  \n",
       "y                                        Shaiju   NaN  \n",
       "\n",
       "[3088767 rows x 5 columns]"
      ]
     },
     "execution_count": 64,
     "metadata": {},
     "output_type": "execute_result"
    }
   ],
   "source": [
    "c = cast.set_index(['title']).sort_index()\n",
    "c.loc['Sleuth']\n",
    "c"
   ]
  },
  {
   "cell_type": "code",
   "execution_count": 67,
   "metadata": {
    "collapsed": false
   },
   "outputs": [
    {
     "data": {
      "text/html": [
       "<div>\n",
       "<table border=\"1\" class=\"dataframe\">\n",
       "  <thead>\n",
       "    <tr style=\"text-align: right;\">\n",
       "      <th></th>\n",
       "      <th>year</th>\n",
       "      <th>name</th>\n",
       "      <th>type</th>\n",
       "      <th>character</th>\n",
       "      <th>n</th>\n",
       "    </tr>\n",
       "    <tr>\n",
       "      <th>title</th>\n",
       "      <th></th>\n",
       "      <th></th>\n",
       "      <th></th>\n",
       "      <th></th>\n",
       "      <th></th>\n",
       "    </tr>\n",
       "  </thead>\n",
       "  <tbody>\n",
       "    <tr>\n",
       "      <th>Sleuth</th>\n",
       "      <td>2007</td>\n",
       "      <td>Harold Pinter</td>\n",
       "      <td>actor</td>\n",
       "      <td>Man on T.V.</td>\n",
       "      <td>3.0</td>\n",
       "    </tr>\n",
       "    <tr>\n",
       "      <th>Sleuth</th>\n",
       "      <td>1972</td>\n",
       "      <td>Laurence Olivier</td>\n",
       "      <td>actor</td>\n",
       "      <td>Andrew Wyke</td>\n",
       "      <td>1.0</td>\n",
       "    </tr>\n",
       "    <tr>\n",
       "      <th>Sleuth</th>\n",
       "      <td>1972</td>\n",
       "      <td>Teddy Martin</td>\n",
       "      <td>actor</td>\n",
       "      <td>Police Constable Higgs</td>\n",
       "      <td>6.0</td>\n",
       "    </tr>\n",
       "    <tr>\n",
       "      <th>Sleuth</th>\n",
       "      <td>2007</td>\n",
       "      <td>Michael Caine</td>\n",
       "      <td>actor</td>\n",
       "      <td>Andrew</td>\n",
       "      <td>1.0</td>\n",
       "    </tr>\n",
       "    <tr>\n",
       "      <th>Sleuth</th>\n",
       "      <td>1972</td>\n",
       "      <td>Alec Cawthorne</td>\n",
       "      <td>actor</td>\n",
       "      <td>Inspector Doppler</td>\n",
       "      <td>3.0</td>\n",
       "    </tr>\n",
       "    <tr>\n",
       "      <th>Sleuth</th>\n",
       "      <td>2007</td>\n",
       "      <td>Jude Law</td>\n",
       "      <td>actor</td>\n",
       "      <td>Milo</td>\n",
       "      <td>2.0</td>\n",
       "    </tr>\n",
       "    <tr>\n",
       "      <th>Sleuth</th>\n",
       "      <td>2007</td>\n",
       "      <td>Eve (II) Channing</td>\n",
       "      <td>actress</td>\n",
       "      <td>Marguerite Wyke</td>\n",
       "      <td>NaN</td>\n",
       "    </tr>\n",
       "    <tr>\n",
       "      <th>Sleuth</th>\n",
       "      <td>2007</td>\n",
       "      <td>Kenneth Branagh</td>\n",
       "      <td>actor</td>\n",
       "      <td>Other Man on T.V.</td>\n",
       "      <td>NaN</td>\n",
       "    </tr>\n",
       "    <tr>\n",
       "      <th>Sleuth</th>\n",
       "      <td>1972</td>\n",
       "      <td>Michael Caine</td>\n",
       "      <td>actor</td>\n",
       "      <td>Milo Tindle</td>\n",
       "      <td>2.0</td>\n",
       "    </tr>\n",
       "    <tr>\n",
       "      <th>Sleuth</th>\n",
       "      <td>1972</td>\n",
       "      <td>John (II) Matthews</td>\n",
       "      <td>actor</td>\n",
       "      <td>Detective Sergeant Tarrant</td>\n",
       "      <td>4.0</td>\n",
       "    </tr>\n",
       "    <tr>\n",
       "      <th>Sleuth</th>\n",
       "      <td>2007</td>\n",
       "      <td>Alec (II) Cawthorne</td>\n",
       "      <td>actor</td>\n",
       "      <td>Inspector Doppler</td>\n",
       "      <td>NaN</td>\n",
       "    </tr>\n",
       "    <tr>\n",
       "      <th>Sleuth</th>\n",
       "      <td>1972</td>\n",
       "      <td>Eve (III) Channing</td>\n",
       "      <td>actress</td>\n",
       "      <td>Marguerite Wyke</td>\n",
       "      <td>5.0</td>\n",
       "    </tr>\n",
       "  </tbody>\n",
       "</table>\n",
       "</div>"
      ],
      "text/plain": [
       "        year                 name     type                   character    n\n",
       "title                                                                      \n",
       "Sleuth  2007        Harold Pinter    actor                 Man on T.V.  3.0\n",
       "Sleuth  1972     Laurence Olivier    actor                 Andrew Wyke  1.0\n",
       "Sleuth  1972         Teddy Martin    actor      Police Constable Higgs  6.0\n",
       "Sleuth  2007        Michael Caine    actor                      Andrew  1.0\n",
       "Sleuth  1972       Alec Cawthorne    actor           Inspector Doppler  3.0\n",
       "Sleuth  2007             Jude Law    actor                        Milo  2.0\n",
       "Sleuth  2007    Eve (II) Channing  actress             Marguerite Wyke  NaN\n",
       "Sleuth  2007      Kenneth Branagh    actor           Other Man on T.V.  NaN\n",
       "Sleuth  1972        Michael Caine    actor                 Milo Tindle  2.0\n",
       "Sleuth  1972   John (II) Matthews    actor  Detective Sergeant Tarrant  4.0\n",
       "Sleuth  2007  Alec (II) Cawthorne    actor           Inspector Doppler  NaN\n",
       "Sleuth  1972   Eve (III) Channing  actress             Marguerite Wyke  5.0"
      ]
     },
     "execution_count": 67,
     "metadata": {},
     "output_type": "execute_result"
    }
   ],
   "source": [
    "t =c.loc['Sleuth']\n",
    "t"
   ]
  },
  {
   "cell_type": "code",
   "execution_count": 68,
   "metadata": {
    "collapsed": false
   },
   "outputs": [
    {
     "ename": "KeyError",
     "evalue": "'Title'",
     "output_type": "error",
     "traceback": [
      "\u001b[0;31m---------------------------------------------------------------------------\u001b[0m",
      "\u001b[0;31mKeyError\u001b[0m                                  Traceback (most recent call last)",
      "\u001b[0;32mC:\\Users\\Mathew\\Anaconda3\\lib\\site-packages\\pandas\\indexes\\base.py\u001b[0m in \u001b[0;36mget_loc\u001b[0;34m(self, key, method, tolerance)\u001b[0m\n\u001b[1;32m   1944\u001b[0m             \u001b[1;32mtry\u001b[0m\u001b[1;33m:\u001b[0m\u001b[1;33m\u001b[0m\u001b[0m\n\u001b[0;32m-> 1945\u001b[0;31m                 \u001b[1;32mreturn\u001b[0m \u001b[0mself\u001b[0m\u001b[1;33m.\u001b[0m\u001b[0m_engine\u001b[0m\u001b[1;33m.\u001b[0m\u001b[0mget_loc\u001b[0m\u001b[1;33m(\u001b[0m\u001b[0mkey\u001b[0m\u001b[1;33m)\u001b[0m\u001b[1;33m\u001b[0m\u001b[0m\n\u001b[0m\u001b[1;32m   1946\u001b[0m             \u001b[1;32mexcept\u001b[0m \u001b[0mKeyError\u001b[0m\u001b[1;33m:\u001b[0m\u001b[1;33m\u001b[0m\u001b[0m\n",
      "\u001b[0;32mpandas\\index.pyx\u001b[0m in \u001b[0;36mpandas.index.IndexEngine.get_loc (pandas\\index.c:4154)\u001b[0;34m()\u001b[0m\n",
      "\u001b[0;32mpandas\\index.pyx\u001b[0m in \u001b[0;36mpandas.index.IndexEngine.get_loc (pandas\\index.c:4018)\u001b[0;34m()\u001b[0m\n",
      "\u001b[0;32mpandas\\hashtable.pyx\u001b[0m in \u001b[0;36mpandas.hashtable.PyObjectHashTable.get_item (pandas\\hashtable.c:12368)\u001b[0;34m()\u001b[0m\n",
      "\u001b[0;32mpandas\\hashtable.pyx\u001b[0m in \u001b[0;36mpandas.hashtable.PyObjectHashTable.get_item (pandas\\hashtable.c:12322)\u001b[0;34m()\u001b[0m\n",
      "\u001b[0;31mKeyError\u001b[0m: 'Title'",
      "\nDuring handling of the above exception, another exception occurred:\n",
      "\u001b[0;31mKeyError\u001b[0m                                  Traceback (most recent call last)",
      "\u001b[0;32m<ipython-input-68-f56f0369c114>\u001b[0m in \u001b[0;36m<module>\u001b[0;34m()\u001b[0m\n\u001b[1;32m      1\u001b[0m \u001b[0mc\u001b[0m \u001b[1;33m=\u001b[0m\u001b[0mcast\u001b[0m\u001b[1;33m\u001b[0m\u001b[0m\n\u001b[1;32m      2\u001b[0m \u001b[0mc\u001b[0m \u001b[1;33m=\u001b[0m \u001b[0mc\u001b[0m\u001b[1;33m[\u001b[0m\u001b[0mc\u001b[0m\u001b[1;33m.\u001b[0m\u001b[0mname\u001b[0m \u001b[1;33m==\u001b[0m \u001b[1;34m'George Clooney'\u001b[0m\u001b[1;33m]\u001b[0m\u001b[1;33m\u001b[0m\u001b[0m\n\u001b[0;32m----> 3\u001b[0;31m \u001b[0mc\u001b[0m\u001b[1;33m.\u001b[0m\u001b[0mgroupby\u001b[0m\u001b[1;33m(\u001b[0m\u001b[1;33m[\u001b[0m\u001b[1;34m'Title'\u001b[0m\u001b[1;33m,\u001b[0m\u001b[1;34m'year'\u001b[0m\u001b[1;33m,\u001b[0m\u001b[1;34m'character'\u001b[0m\u001b[1;33m]\u001b[0m\u001b[1;33m)\u001b[0m\u001b[1;33m.\u001b[0m\u001b[0msize\u001b[0m\u001b[1;33m(\u001b[0m\u001b[1;33m)\u001b[0m\u001b[1;33m\u001b[0m\u001b[0m\n\u001b[0m",
      "\u001b[0;32mC:\\Users\\Mathew\\Anaconda3\\lib\\site-packages\\pandas\\core\\generic.py\u001b[0m in \u001b[0;36mgroupby\u001b[0;34m(self, by, axis, level, as_index, sort, group_keys, squeeze, **kwargs)\u001b[0m\n\u001b[1;32m   3776\u001b[0m         return groupby(self, by=by, axis=axis, level=level, as_index=as_index,\n\u001b[1;32m   3777\u001b[0m                        \u001b[0msort\u001b[0m\u001b[1;33m=\u001b[0m\u001b[0msort\u001b[0m\u001b[1;33m,\u001b[0m \u001b[0mgroup_keys\u001b[0m\u001b[1;33m=\u001b[0m\u001b[0mgroup_keys\u001b[0m\u001b[1;33m,\u001b[0m \u001b[0msqueeze\u001b[0m\u001b[1;33m=\u001b[0m\u001b[0msqueeze\u001b[0m\u001b[1;33m,\u001b[0m\u001b[1;33m\u001b[0m\u001b[0m\n\u001b[0;32m-> 3778\u001b[0;31m                        **kwargs)\n\u001b[0m\u001b[1;32m   3779\u001b[0m \u001b[1;33m\u001b[0m\u001b[0m\n\u001b[1;32m   3780\u001b[0m     \u001b[1;32mdef\u001b[0m \u001b[0masfreq\u001b[0m\u001b[1;33m(\u001b[0m\u001b[0mself\u001b[0m\u001b[1;33m,\u001b[0m \u001b[0mfreq\u001b[0m\u001b[1;33m,\u001b[0m \u001b[0mmethod\u001b[0m\u001b[1;33m=\u001b[0m\u001b[1;32mNone\u001b[0m\u001b[1;33m,\u001b[0m \u001b[0mhow\u001b[0m\u001b[1;33m=\u001b[0m\u001b[1;32mNone\u001b[0m\u001b[1;33m,\u001b[0m \u001b[0mnormalize\u001b[0m\u001b[1;33m=\u001b[0m\u001b[1;32mFalse\u001b[0m\u001b[1;33m)\u001b[0m\u001b[1;33m:\u001b[0m\u001b[1;33m\u001b[0m\u001b[0m\n",
      "\u001b[0;32mC:\\Users\\Mathew\\Anaconda3\\lib\\site-packages\\pandas\\core\\groupby.py\u001b[0m in \u001b[0;36mgroupby\u001b[0;34m(obj, by, **kwds)\u001b[0m\n\u001b[1;32m   1425\u001b[0m         \u001b[1;32mraise\u001b[0m \u001b[0mTypeError\u001b[0m\u001b[1;33m(\u001b[0m\u001b[1;34m'invalid type: %s'\u001b[0m \u001b[1;33m%\u001b[0m \u001b[0mtype\u001b[0m\u001b[1;33m(\u001b[0m\u001b[0mobj\u001b[0m\u001b[1;33m)\u001b[0m\u001b[1;33m)\u001b[0m\u001b[1;33m\u001b[0m\u001b[0m\n\u001b[1;32m   1426\u001b[0m \u001b[1;33m\u001b[0m\u001b[0m\n\u001b[0;32m-> 1427\u001b[0;31m     \u001b[1;32mreturn\u001b[0m \u001b[0mklass\u001b[0m\u001b[1;33m(\u001b[0m\u001b[0mobj\u001b[0m\u001b[1;33m,\u001b[0m \u001b[0mby\u001b[0m\u001b[1;33m,\u001b[0m \u001b[1;33m**\u001b[0m\u001b[0mkwds\u001b[0m\u001b[1;33m)\u001b[0m\u001b[1;33m\u001b[0m\u001b[0m\n\u001b[0m\u001b[1;32m   1428\u001b[0m \u001b[1;33m\u001b[0m\u001b[0m\n\u001b[1;32m   1429\u001b[0m \u001b[1;33m\u001b[0m\u001b[0m\n",
      "\u001b[0;32mC:\\Users\\Mathew\\Anaconda3\\lib\\site-packages\\pandas\\core\\groupby.py\u001b[0m in \u001b[0;36m__init__\u001b[0;34m(self, obj, keys, axis, level, grouper, exclusions, selection, as_index, sort, group_keys, squeeze, **kwargs)\u001b[0m\n\u001b[1;32m    352\u001b[0m                                                     \u001b[0mlevel\u001b[0m\u001b[1;33m=\u001b[0m\u001b[0mlevel\u001b[0m\u001b[1;33m,\u001b[0m\u001b[1;33m\u001b[0m\u001b[0m\n\u001b[1;32m    353\u001b[0m                                                     \u001b[0msort\u001b[0m\u001b[1;33m=\u001b[0m\u001b[0msort\u001b[0m\u001b[1;33m,\u001b[0m\u001b[1;33m\u001b[0m\u001b[0m\n\u001b[0;32m--> 354\u001b[0;31m                                                     mutated=self.mutated)\n\u001b[0m\u001b[1;32m    355\u001b[0m \u001b[1;33m\u001b[0m\u001b[0m\n\u001b[1;32m    356\u001b[0m         \u001b[0mself\u001b[0m\u001b[1;33m.\u001b[0m\u001b[0mobj\u001b[0m \u001b[1;33m=\u001b[0m \u001b[0mobj\u001b[0m\u001b[1;33m\u001b[0m\u001b[0m\n",
      "\u001b[0;32mC:\\Users\\Mathew\\Anaconda3\\lib\\site-packages\\pandas\\core\\groupby.py\u001b[0m in \u001b[0;36m_get_grouper\u001b[0;34m(obj, key, axis, level, sort, mutated)\u001b[0m\n\u001b[1;32m   2381\u001b[0m \u001b[1;33m\u001b[0m\u001b[0m\n\u001b[1;32m   2382\u001b[0m         \u001b[1;32melif\u001b[0m \u001b[0mis_in_axis\u001b[0m\u001b[1;33m(\u001b[0m\u001b[0mgpr\u001b[0m\u001b[1;33m)\u001b[0m\u001b[1;33m:\u001b[0m  \u001b[1;31m# df.groupby('name')\u001b[0m\u001b[1;33m\u001b[0m\u001b[0m\n\u001b[0;32m-> 2383\u001b[0;31m             \u001b[0min_axis\u001b[0m\u001b[1;33m,\u001b[0m \u001b[0mname\u001b[0m\u001b[1;33m,\u001b[0m \u001b[0mgpr\u001b[0m \u001b[1;33m=\u001b[0m \u001b[1;32mTrue\u001b[0m\u001b[1;33m,\u001b[0m \u001b[0mgpr\u001b[0m\u001b[1;33m,\u001b[0m \u001b[0mobj\u001b[0m\u001b[1;33m[\u001b[0m\u001b[0mgpr\u001b[0m\u001b[1;33m]\u001b[0m\u001b[1;33m\u001b[0m\u001b[0m\n\u001b[0m\u001b[1;32m   2384\u001b[0m             \u001b[0mexclusions\u001b[0m\u001b[1;33m.\u001b[0m\u001b[0mappend\u001b[0m\u001b[1;33m(\u001b[0m\u001b[0mname\u001b[0m\u001b[1;33m)\u001b[0m\u001b[1;33m\u001b[0m\u001b[0m\n\u001b[1;32m   2385\u001b[0m \u001b[1;33m\u001b[0m\u001b[0m\n",
      "\u001b[0;32mC:\\Users\\Mathew\\Anaconda3\\lib\\site-packages\\pandas\\core\\frame.py\u001b[0m in \u001b[0;36m__getitem__\u001b[0;34m(self, key)\u001b[0m\n\u001b[1;32m   1995\u001b[0m             \u001b[1;32mreturn\u001b[0m \u001b[0mself\u001b[0m\u001b[1;33m.\u001b[0m\u001b[0m_getitem_multilevel\u001b[0m\u001b[1;33m(\u001b[0m\u001b[0mkey\u001b[0m\u001b[1;33m)\u001b[0m\u001b[1;33m\u001b[0m\u001b[0m\n\u001b[1;32m   1996\u001b[0m         \u001b[1;32melse\u001b[0m\u001b[1;33m:\u001b[0m\u001b[1;33m\u001b[0m\u001b[0m\n\u001b[0;32m-> 1997\u001b[0;31m             \u001b[1;32mreturn\u001b[0m \u001b[0mself\u001b[0m\u001b[1;33m.\u001b[0m\u001b[0m_getitem_column\u001b[0m\u001b[1;33m(\u001b[0m\u001b[0mkey\u001b[0m\u001b[1;33m)\u001b[0m\u001b[1;33m\u001b[0m\u001b[0m\n\u001b[0m\u001b[1;32m   1998\u001b[0m \u001b[1;33m\u001b[0m\u001b[0m\n\u001b[1;32m   1999\u001b[0m     \u001b[1;32mdef\u001b[0m \u001b[0m_getitem_column\u001b[0m\u001b[1;33m(\u001b[0m\u001b[0mself\u001b[0m\u001b[1;33m,\u001b[0m \u001b[0mkey\u001b[0m\u001b[1;33m)\u001b[0m\u001b[1;33m:\u001b[0m\u001b[1;33m\u001b[0m\u001b[0m\n",
      "\u001b[0;32mC:\\Users\\Mathew\\Anaconda3\\lib\\site-packages\\pandas\\core\\frame.py\u001b[0m in \u001b[0;36m_getitem_column\u001b[0;34m(self, key)\u001b[0m\n\u001b[1;32m   2002\u001b[0m         \u001b[1;31m# get column\u001b[0m\u001b[1;33m\u001b[0m\u001b[1;33m\u001b[0m\u001b[0m\n\u001b[1;32m   2003\u001b[0m         \u001b[1;32mif\u001b[0m \u001b[0mself\u001b[0m\u001b[1;33m.\u001b[0m\u001b[0mcolumns\u001b[0m\u001b[1;33m.\u001b[0m\u001b[0mis_unique\u001b[0m\u001b[1;33m:\u001b[0m\u001b[1;33m\u001b[0m\u001b[0m\n\u001b[0;32m-> 2004\u001b[0;31m             \u001b[1;32mreturn\u001b[0m \u001b[0mself\u001b[0m\u001b[1;33m.\u001b[0m\u001b[0m_get_item_cache\u001b[0m\u001b[1;33m(\u001b[0m\u001b[0mkey\u001b[0m\u001b[1;33m)\u001b[0m\u001b[1;33m\u001b[0m\u001b[0m\n\u001b[0m\u001b[1;32m   2005\u001b[0m \u001b[1;33m\u001b[0m\u001b[0m\n\u001b[1;32m   2006\u001b[0m         \u001b[1;31m# duplicate columns & possible reduce dimensionality\u001b[0m\u001b[1;33m\u001b[0m\u001b[1;33m\u001b[0m\u001b[0m\n",
      "\u001b[0;32mC:\\Users\\Mathew\\Anaconda3\\lib\\site-packages\\pandas\\core\\generic.py\u001b[0m in \u001b[0;36m_get_item_cache\u001b[0;34m(self, item)\u001b[0m\n\u001b[1;32m   1348\u001b[0m         \u001b[0mres\u001b[0m \u001b[1;33m=\u001b[0m \u001b[0mcache\u001b[0m\u001b[1;33m.\u001b[0m\u001b[0mget\u001b[0m\u001b[1;33m(\u001b[0m\u001b[0mitem\u001b[0m\u001b[1;33m)\u001b[0m\u001b[1;33m\u001b[0m\u001b[0m\n\u001b[1;32m   1349\u001b[0m         \u001b[1;32mif\u001b[0m \u001b[0mres\u001b[0m \u001b[1;32mis\u001b[0m \u001b[1;32mNone\u001b[0m\u001b[1;33m:\u001b[0m\u001b[1;33m\u001b[0m\u001b[0m\n\u001b[0;32m-> 1350\u001b[0;31m             \u001b[0mvalues\u001b[0m \u001b[1;33m=\u001b[0m \u001b[0mself\u001b[0m\u001b[1;33m.\u001b[0m\u001b[0m_data\u001b[0m\u001b[1;33m.\u001b[0m\u001b[0mget\u001b[0m\u001b[1;33m(\u001b[0m\u001b[0mitem\u001b[0m\u001b[1;33m)\u001b[0m\u001b[1;33m\u001b[0m\u001b[0m\n\u001b[0m\u001b[1;32m   1351\u001b[0m             \u001b[0mres\u001b[0m \u001b[1;33m=\u001b[0m \u001b[0mself\u001b[0m\u001b[1;33m.\u001b[0m\u001b[0m_box_item_values\u001b[0m\u001b[1;33m(\u001b[0m\u001b[0mitem\u001b[0m\u001b[1;33m,\u001b[0m \u001b[0mvalues\u001b[0m\u001b[1;33m)\u001b[0m\u001b[1;33m\u001b[0m\u001b[0m\n\u001b[1;32m   1352\u001b[0m             \u001b[0mcache\u001b[0m\u001b[1;33m[\u001b[0m\u001b[0mitem\u001b[0m\u001b[1;33m]\u001b[0m \u001b[1;33m=\u001b[0m \u001b[0mres\u001b[0m\u001b[1;33m\u001b[0m\u001b[0m\n",
      "\u001b[0;32mC:\\Users\\Mathew\\Anaconda3\\lib\\site-packages\\pandas\\core\\internals.py\u001b[0m in \u001b[0;36mget\u001b[0;34m(self, item, fastpath)\u001b[0m\n\u001b[1;32m   3288\u001b[0m \u001b[1;33m\u001b[0m\u001b[0m\n\u001b[1;32m   3289\u001b[0m             \u001b[1;32mif\u001b[0m \u001b[1;32mnot\u001b[0m \u001b[0misnull\u001b[0m\u001b[1;33m(\u001b[0m\u001b[0mitem\u001b[0m\u001b[1;33m)\u001b[0m\u001b[1;33m:\u001b[0m\u001b[1;33m\u001b[0m\u001b[0m\n\u001b[0;32m-> 3290\u001b[0;31m                 \u001b[0mloc\u001b[0m \u001b[1;33m=\u001b[0m \u001b[0mself\u001b[0m\u001b[1;33m.\u001b[0m\u001b[0mitems\u001b[0m\u001b[1;33m.\u001b[0m\u001b[0mget_loc\u001b[0m\u001b[1;33m(\u001b[0m\u001b[0mitem\u001b[0m\u001b[1;33m)\u001b[0m\u001b[1;33m\u001b[0m\u001b[0m\n\u001b[0m\u001b[1;32m   3291\u001b[0m             \u001b[1;32melse\u001b[0m\u001b[1;33m:\u001b[0m\u001b[1;33m\u001b[0m\u001b[0m\n\u001b[1;32m   3292\u001b[0m                 \u001b[0mindexer\u001b[0m \u001b[1;33m=\u001b[0m \u001b[0mnp\u001b[0m\u001b[1;33m.\u001b[0m\u001b[0marange\u001b[0m\u001b[1;33m(\u001b[0m\u001b[0mlen\u001b[0m\u001b[1;33m(\u001b[0m\u001b[0mself\u001b[0m\u001b[1;33m.\u001b[0m\u001b[0mitems\u001b[0m\u001b[1;33m)\u001b[0m\u001b[1;33m)\u001b[0m\u001b[1;33m[\u001b[0m\u001b[0misnull\u001b[0m\u001b[1;33m(\u001b[0m\u001b[0mself\u001b[0m\u001b[1;33m.\u001b[0m\u001b[0mitems\u001b[0m\u001b[1;33m)\u001b[0m\u001b[1;33m]\u001b[0m\u001b[1;33m\u001b[0m\u001b[0m\n",
      "\u001b[0;32mC:\\Users\\Mathew\\Anaconda3\\lib\\site-packages\\pandas\\indexes\\base.py\u001b[0m in \u001b[0;36mget_loc\u001b[0;34m(self, key, method, tolerance)\u001b[0m\n\u001b[1;32m   1945\u001b[0m                 \u001b[1;32mreturn\u001b[0m \u001b[0mself\u001b[0m\u001b[1;33m.\u001b[0m\u001b[0m_engine\u001b[0m\u001b[1;33m.\u001b[0m\u001b[0mget_loc\u001b[0m\u001b[1;33m(\u001b[0m\u001b[0mkey\u001b[0m\u001b[1;33m)\u001b[0m\u001b[1;33m\u001b[0m\u001b[0m\n\u001b[1;32m   1946\u001b[0m             \u001b[1;32mexcept\u001b[0m \u001b[0mKeyError\u001b[0m\u001b[1;33m:\u001b[0m\u001b[1;33m\u001b[0m\u001b[0m\n\u001b[0;32m-> 1947\u001b[0;31m                 \u001b[1;32mreturn\u001b[0m \u001b[0mself\u001b[0m\u001b[1;33m.\u001b[0m\u001b[0m_engine\u001b[0m\u001b[1;33m.\u001b[0m\u001b[0mget_loc\u001b[0m\u001b[1;33m(\u001b[0m\u001b[0mself\u001b[0m\u001b[1;33m.\u001b[0m\u001b[0m_maybe_cast_indexer\u001b[0m\u001b[1;33m(\u001b[0m\u001b[0mkey\u001b[0m\u001b[1;33m)\u001b[0m\u001b[1;33m)\u001b[0m\u001b[1;33m\u001b[0m\u001b[0m\n\u001b[0m\u001b[1;32m   1948\u001b[0m \u001b[1;33m\u001b[0m\u001b[0m\n\u001b[1;32m   1949\u001b[0m         \u001b[0mindexer\u001b[0m \u001b[1;33m=\u001b[0m \u001b[0mself\u001b[0m\u001b[1;33m.\u001b[0m\u001b[0mget_indexer\u001b[0m\u001b[1;33m(\u001b[0m\u001b[1;33m[\u001b[0m\u001b[0mkey\u001b[0m\u001b[1;33m]\u001b[0m\u001b[1;33m,\u001b[0m \u001b[0mmethod\u001b[0m\u001b[1;33m=\u001b[0m\u001b[0mmethod\u001b[0m\u001b[1;33m,\u001b[0m \u001b[0mtolerance\u001b[0m\u001b[1;33m=\u001b[0m\u001b[0mtolerance\u001b[0m\u001b[1;33m)\u001b[0m\u001b[1;33m\u001b[0m\u001b[0m\n",
      "\u001b[0;32mpandas\\index.pyx\u001b[0m in \u001b[0;36mpandas.index.IndexEngine.get_loc (pandas\\index.c:4154)\u001b[0;34m()\u001b[0m\n",
      "\u001b[0;32mpandas\\index.pyx\u001b[0m in \u001b[0;36mpandas.index.IndexEngine.get_loc (pandas\\index.c:4018)\u001b[0;34m()\u001b[0m\n",
      "\u001b[0;32mpandas\\hashtable.pyx\u001b[0m in \u001b[0;36mpandas.hashtable.PyObjectHashTable.get_item (pandas\\hashtable.c:12368)\u001b[0;34m()\u001b[0m\n",
      "\u001b[0;32mpandas\\hashtable.pyx\u001b[0m in \u001b[0;36mpandas.hashtable.PyObjectHashTable.get_item (pandas\\hashtable.c:12322)\u001b[0;34m()\u001b[0m\n",
      "\u001b[0;31mKeyError\u001b[0m: 'Title'"
     ]
    }
   ],
   "source": [
    "c =cast\n",
    "c = c[c.name == 'George Clooney']\n",
    "c.groupby(['Title','year','character']).size()"
   ]
  },
  {
   "cell_type": "code",
   "execution_count": 69,
   "metadata": {
    "collapsed": false
   },
   "outputs": [
    {
     "data": {
      "text/html": [
       "<div>\n",
       "<table border=\"1\" class=\"dataframe\">\n",
       "  <thead>\n",
       "    <tr style=\"text-align: right;\">\n",
       "      <th></th>\n",
       "      <th>title</th>\n",
       "      <th>year</th>\n",
       "      <th>name</th>\n",
       "      <th>type</th>\n",
       "      <th>character</th>\n",
       "      <th>n</th>\n",
       "    </tr>\n",
       "  </thead>\n",
       "  <tbody>\n",
       "    <tr>\n",
       "      <th>419772</th>\n",
       "      <td>A Very Murray Christmas</td>\n",
       "      <td>2015</td>\n",
       "      <td>George Clooney</td>\n",
       "      <td>actor</td>\n",
       "      <td>George Clooney</td>\n",
       "      <td>4.0</td>\n",
       "    </tr>\n",
       "    <tr>\n",
       "      <th>419773</th>\n",
       "      <td>Batman &amp; Robin</td>\n",
       "      <td>1997</td>\n",
       "      <td>George Clooney</td>\n",
       "      <td>actor</td>\n",
       "      <td>Batman</td>\n",
       "      <td>2.0</td>\n",
       "    </tr>\n",
       "    <tr>\n",
       "      <th>419774</th>\n",
       "      <td>Batman &amp; Robin</td>\n",
       "      <td>1997</td>\n",
       "      <td>George Clooney</td>\n",
       "      <td>actor</td>\n",
       "      <td>Bruce Wayne</td>\n",
       "      <td>2.0</td>\n",
       "    </tr>\n",
       "    <tr>\n",
       "      <th>419775</th>\n",
       "      <td>Burn After Reading</td>\n",
       "      <td>2008</td>\n",
       "      <td>George Clooney</td>\n",
       "      <td>actor</td>\n",
       "      <td>Harry Pfarrer</td>\n",
       "      <td>1.0</td>\n",
       "    </tr>\n",
       "    <tr>\n",
       "      <th>419776</th>\n",
       "      <td>Confessions of a Dangerous Mind</td>\n",
       "      <td>2002</td>\n",
       "      <td>George Clooney</td>\n",
       "      <td>actor</td>\n",
       "      <td>Jim Byrd</td>\n",
       "      <td>17.0</td>\n",
       "    </tr>\n",
       "    <tr>\n",
       "      <th>419777</th>\n",
       "      <td>Curdled</td>\n",
       "      <td>1996</td>\n",
       "      <td>George Clooney</td>\n",
       "      <td>actor</td>\n",
       "      <td>Seth Gecko</td>\n",
       "      <td>NaN</td>\n",
       "    </tr>\n",
       "    <tr>\n",
       "      <th>419778</th>\n",
       "      <td>Fantastic Mr. Fox</td>\n",
       "      <td>2009</td>\n",
       "      <td>George Clooney</td>\n",
       "      <td>actor</td>\n",
       "      <td>Mr. Fox</td>\n",
       "      <td>1.0</td>\n",
       "    </tr>\n",
       "    <tr>\n",
       "      <th>419779</th>\n",
       "      <td>From Dusk Till Dawn</td>\n",
       "      <td>1996</td>\n",
       "      <td>George Clooney</td>\n",
       "      <td>actor</td>\n",
       "      <td>Seth Gecko</td>\n",
       "      <td>1.0</td>\n",
       "    </tr>\n",
       "    <tr>\n",
       "      <th>419780</th>\n",
       "      <td>Good Night, and Good Luck.</td>\n",
       "      <td>2005</td>\n",
       "      <td>George Clooney</td>\n",
       "      <td>actor</td>\n",
       "      <td>Fred Friendly</td>\n",
       "      <td>15.0</td>\n",
       "    </tr>\n",
       "    <tr>\n",
       "      <th>419781</th>\n",
       "      <td>Gravity</td>\n",
       "      <td>2013</td>\n",
       "      <td>George Clooney</td>\n",
       "      <td>actor</td>\n",
       "      <td>Matt Kowalski</td>\n",
       "      <td>2.0</td>\n",
       "    </tr>\n",
       "    <tr>\n",
       "      <th>419782</th>\n",
       "      <td>Hail, Caesar!</td>\n",
       "      <td>2016</td>\n",
       "      <td>George Clooney</td>\n",
       "      <td>actor</td>\n",
       "      <td>Baird Whitlock</td>\n",
       "      <td>2.0</td>\n",
       "    </tr>\n",
       "    <tr>\n",
       "      <th>419783</th>\n",
       "      <td>Intolerable Cruelty</td>\n",
       "      <td>2003</td>\n",
       "      <td>George Clooney</td>\n",
       "      <td>actor</td>\n",
       "      <td>Miles</td>\n",
       "      <td>1.0</td>\n",
       "    </tr>\n",
       "    <tr>\n",
       "      <th>419784</th>\n",
       "      <td>Leatherheads</td>\n",
       "      <td>2008</td>\n",
       "      <td>George Clooney</td>\n",
       "      <td>actor</td>\n",
       "      <td>Dodge Connelly</td>\n",
       "      <td>5.0</td>\n",
       "    </tr>\n",
       "    <tr>\n",
       "      <th>419785</th>\n",
       "      <td>Michael Clayton</td>\n",
       "      <td>2007</td>\n",
       "      <td>George Clooney</td>\n",
       "      <td>actor</td>\n",
       "      <td>Michael Clayton</td>\n",
       "      <td>6.0</td>\n",
       "    </tr>\n",
       "    <tr>\n",
       "      <th>419786</th>\n",
       "      <td>Money Monster</td>\n",
       "      <td>2016</td>\n",
       "      <td>George Clooney</td>\n",
       "      <td>actor</td>\n",
       "      <td>Lee Gates</td>\n",
       "      <td>1.0</td>\n",
       "    </tr>\n",
       "    <tr>\n",
       "      <th>419787</th>\n",
       "      <td>Morning Glory</td>\n",
       "      <td>2010</td>\n",
       "      <td>George Clooney</td>\n",
       "      <td>actor</td>\n",
       "      <td>Himself</td>\n",
       "      <td>NaN</td>\n",
       "    </tr>\n",
       "    <tr>\n",
       "      <th>419788</th>\n",
       "      <td>O Brother, Where Art Thou?</td>\n",
       "      <td>2000</td>\n",
       "      <td>George Clooney</td>\n",
       "      <td>actor</td>\n",
       "      <td>Everett</td>\n",
       "      <td>1.0</td>\n",
       "    </tr>\n",
       "    <tr>\n",
       "      <th>419789</th>\n",
       "      <td>Ocean's Eleven</td>\n",
       "      <td>2001</td>\n",
       "      <td>George Clooney</td>\n",
       "      <td>actor</td>\n",
       "      <td>Danny Ocean</td>\n",
       "      <td>1.0</td>\n",
       "    </tr>\n",
       "    <tr>\n",
       "      <th>419790</th>\n",
       "      <td>Ocean's Thirteen</td>\n",
       "      <td>2007</td>\n",
       "      <td>George Clooney</td>\n",
       "      <td>actor</td>\n",
       "      <td>Danny Ocean</td>\n",
       "      <td>1.0</td>\n",
       "    </tr>\n",
       "    <tr>\n",
       "      <th>419791</th>\n",
       "      <td>Ocean's Twelve</td>\n",
       "      <td>2004</td>\n",
       "      <td>George Clooney</td>\n",
       "      <td>actor</td>\n",
       "      <td>Danny Ocean</td>\n",
       "      <td>3.0</td>\n",
       "    </tr>\n",
       "    <tr>\n",
       "      <th>419792</th>\n",
       "      <td>One Fine Day</td>\n",
       "      <td>1996</td>\n",
       "      <td>George Clooney</td>\n",
       "      <td>actor</td>\n",
       "      <td>Jack Taylor</td>\n",
       "      <td>2.0</td>\n",
       "    </tr>\n",
       "    <tr>\n",
       "      <th>419793</th>\n",
       "      <td>Out of Sight</td>\n",
       "      <td>1998</td>\n",
       "      <td>George Clooney</td>\n",
       "      <td>actor</td>\n",
       "      <td>Jack Foley</td>\n",
       "      <td>1.0</td>\n",
       "    </tr>\n",
       "    <tr>\n",
       "      <th>419794</th>\n",
       "      <td>Return of the Killer Tomatoes!</td>\n",
       "      <td>1988</td>\n",
       "      <td>George Clooney</td>\n",
       "      <td>actor</td>\n",
       "      <td>Matt Stevens</td>\n",
       "      <td>2.0</td>\n",
       "    </tr>\n",
       "    <tr>\n",
       "      <th>419795</th>\n",
       "      <td>Return to Horror High</td>\n",
       "      <td>1987</td>\n",
       "      <td>George Clooney</td>\n",
       "      <td>actor</td>\n",
       "      <td>Oliver</td>\n",
       "      <td>15.0</td>\n",
       "    </tr>\n",
       "    <tr>\n",
       "      <th>419796</th>\n",
       "      <td>Solaris</td>\n",
       "      <td>2002</td>\n",
       "      <td>George Clooney</td>\n",
       "      <td>actor</td>\n",
       "      <td>Chris Kelvin</td>\n",
       "      <td>1.0</td>\n",
       "    </tr>\n",
       "    <tr>\n",
       "      <th>419797</th>\n",
       "      <td>South Park: Bigger, Longer &amp; Uncut</td>\n",
       "      <td>1999</td>\n",
       "      <td>George Clooney</td>\n",
       "      <td>actor</td>\n",
       "      <td>Dr. Gouache</td>\n",
       "      <td>11.0</td>\n",
       "    </tr>\n",
       "    <tr>\n",
       "      <th>419798</th>\n",
       "      <td>Spy Kids</td>\n",
       "      <td>2001</td>\n",
       "      <td>George Clooney</td>\n",
       "      <td>actor</td>\n",
       "      <td>Devlin</td>\n",
       "      <td>36.0</td>\n",
       "    </tr>\n",
       "    <tr>\n",
       "      <th>419799</th>\n",
       "      <td>Spy Kids 3-D: Game Over</td>\n",
       "      <td>2003</td>\n",
       "      <td>George Clooney</td>\n",
       "      <td>actor</td>\n",
       "      <td>Devlin</td>\n",
       "      <td>22.0</td>\n",
       "    </tr>\n",
       "    <tr>\n",
       "      <th>419800</th>\n",
       "      <td>Syriana</td>\n",
       "      <td>2005</td>\n",
       "      <td>George Clooney</td>\n",
       "      <td>actor</td>\n",
       "      <td>Bob Barnes</td>\n",
       "      <td>2.0</td>\n",
       "    </tr>\n",
       "    <tr>\n",
       "      <th>419801</th>\n",
       "      <td>The American</td>\n",
       "      <td>2010</td>\n",
       "      <td>George Clooney</td>\n",
       "      <td>actor</td>\n",
       "      <td>Jack</td>\n",
       "      <td>1.0</td>\n",
       "    </tr>\n",
       "    <tr>\n",
       "      <th>419802</th>\n",
       "      <td>The American</td>\n",
       "      <td>2010</td>\n",
       "      <td>George Clooney</td>\n",
       "      <td>actor</td>\n",
       "      <td>Edward</td>\n",
       "      <td>1.0</td>\n",
       "    </tr>\n",
       "    <tr>\n",
       "      <th>419803</th>\n",
       "      <td>The Book That Wrote Itself</td>\n",
       "      <td>1999</td>\n",
       "      <td>George Clooney</td>\n",
       "      <td>actor</td>\n",
       "      <td>Himself</td>\n",
       "      <td>NaN</td>\n",
       "    </tr>\n",
       "    <tr>\n",
       "      <th>419804</th>\n",
       "      <td>The Descendants</td>\n",
       "      <td>2011</td>\n",
       "      <td>George Clooney</td>\n",
       "      <td>actor</td>\n",
       "      <td>Matt King</td>\n",
       "      <td>1.0</td>\n",
       "    </tr>\n",
       "    <tr>\n",
       "      <th>419805</th>\n",
       "      <td>The Good German</td>\n",
       "      <td>2006</td>\n",
       "      <td>George Clooney</td>\n",
       "      <td>actor</td>\n",
       "      <td>Jake Geismer</td>\n",
       "      <td>1.0</td>\n",
       "    </tr>\n",
       "    <tr>\n",
       "      <th>419806</th>\n",
       "      <td>The Harvest</td>\n",
       "      <td>1992</td>\n",
       "      <td>George Clooney</td>\n",
       "      <td>actor</td>\n",
       "      <td>Lip Syncing Transvestite</td>\n",
       "      <td>23.0</td>\n",
       "    </tr>\n",
       "    <tr>\n",
       "      <th>419807</th>\n",
       "      <td>The Ides of March</td>\n",
       "      <td>2011</td>\n",
       "      <td>George Clooney</td>\n",
       "      <td>actor</td>\n",
       "      <td>Governor Mike Morris</td>\n",
       "      <td>2.0</td>\n",
       "    </tr>\n",
       "    <tr>\n",
       "      <th>419808</th>\n",
       "      <td>The Limey</td>\n",
       "      <td>1999</td>\n",
       "      <td>George Clooney</td>\n",
       "      <td>actor</td>\n",
       "      <td>Himself</td>\n",
       "      <td>NaN</td>\n",
       "    </tr>\n",
       "    <tr>\n",
       "      <th>419809</th>\n",
       "      <td>The Men Who Stare at Goats</td>\n",
       "      <td>2009</td>\n",
       "      <td>George Clooney</td>\n",
       "      <td>actor</td>\n",
       "      <td>Lyn Cassady</td>\n",
       "      <td>1.0</td>\n",
       "    </tr>\n",
       "    <tr>\n",
       "      <th>419810</th>\n",
       "      <td>The Monuments Men</td>\n",
       "      <td>2014</td>\n",
       "      <td>George Clooney</td>\n",
       "      <td>actor</td>\n",
       "      <td>Frank Stokes</td>\n",
       "      <td>1.0</td>\n",
       "    </tr>\n",
       "    <tr>\n",
       "      <th>419811</th>\n",
       "      <td>The Peacemaker</td>\n",
       "      <td>1997</td>\n",
       "      <td>George Clooney</td>\n",
       "      <td>actor</td>\n",
       "      <td>Lt. Col. Thomas Devoe</td>\n",
       "      <td>1.0</td>\n",
       "    </tr>\n",
       "    <tr>\n",
       "      <th>419812</th>\n",
       "      <td>The Perfect Storm</td>\n",
       "      <td>2000</td>\n",
       "      <td>George Clooney</td>\n",
       "      <td>actor</td>\n",
       "      <td>Billy Tyne</td>\n",
       "      <td>1.0</td>\n",
       "    </tr>\n",
       "    <tr>\n",
       "      <th>419813</th>\n",
       "      <td>The Thin Red Line</td>\n",
       "      <td>1998</td>\n",
       "      <td>George Clooney</td>\n",
       "      <td>actor</td>\n",
       "      <td>Capt. Charles Bosche</td>\n",
       "      <td>14.0</td>\n",
       "    </tr>\n",
       "    <tr>\n",
       "      <th>419814</th>\n",
       "      <td>Three Kings</td>\n",
       "      <td>1999</td>\n",
       "      <td>George Clooney</td>\n",
       "      <td>actor</td>\n",
       "      <td>Archie Gates</td>\n",
       "      <td>1.0</td>\n",
       "    </tr>\n",
       "    <tr>\n",
       "      <th>419815</th>\n",
       "      <td>Tomorrowland</td>\n",
       "      <td>2015</td>\n",
       "      <td>George Clooney</td>\n",
       "      <td>actor</td>\n",
       "      <td>Frank Walker</td>\n",
       "      <td>1.0</td>\n",
       "    </tr>\n",
       "    <tr>\n",
       "      <th>419816</th>\n",
       "      <td>Unbecoming Age</td>\n",
       "      <td>1992</td>\n",
       "      <td>George Clooney</td>\n",
       "      <td>actor</td>\n",
       "      <td>Mac</td>\n",
       "      <td>5.0</td>\n",
       "    </tr>\n",
       "    <tr>\n",
       "      <th>419817</th>\n",
       "      <td>Up in the Air</td>\n",
       "      <td>2009</td>\n",
       "      <td>George Clooney</td>\n",
       "      <td>actor</td>\n",
       "      <td>Ryan Bingham</td>\n",
       "      <td>1.0</td>\n",
       "    </tr>\n",
       "    <tr>\n",
       "      <th>419818</th>\n",
       "      <td>Welcome to Collinwood</td>\n",
       "      <td>2002</td>\n",
       "      <td>George Clooney</td>\n",
       "      <td>actor</td>\n",
       "      <td>Jerzy</td>\n",
       "      <td>15.0</td>\n",
       "    </tr>\n",
       "  </tbody>\n",
       "</table>\n",
       "</div>"
      ],
      "text/plain": [
       "                                     title  year            name   type  \\\n",
       "419772             A Very Murray Christmas  2015  George Clooney  actor   \n",
       "419773                      Batman & Robin  1997  George Clooney  actor   \n",
       "419774                      Batman & Robin  1997  George Clooney  actor   \n",
       "419775                  Burn After Reading  2008  George Clooney  actor   \n",
       "419776     Confessions of a Dangerous Mind  2002  George Clooney  actor   \n",
       "419777                             Curdled  1996  George Clooney  actor   \n",
       "419778                   Fantastic Mr. Fox  2009  George Clooney  actor   \n",
       "419779                 From Dusk Till Dawn  1996  George Clooney  actor   \n",
       "419780          Good Night, and Good Luck.  2005  George Clooney  actor   \n",
       "419781                             Gravity  2013  George Clooney  actor   \n",
       "419782                       Hail, Caesar!  2016  George Clooney  actor   \n",
       "419783                 Intolerable Cruelty  2003  George Clooney  actor   \n",
       "419784                        Leatherheads  2008  George Clooney  actor   \n",
       "419785                     Michael Clayton  2007  George Clooney  actor   \n",
       "419786                       Money Monster  2016  George Clooney  actor   \n",
       "419787                       Morning Glory  2010  George Clooney  actor   \n",
       "419788          O Brother, Where Art Thou?  2000  George Clooney  actor   \n",
       "419789                      Ocean's Eleven  2001  George Clooney  actor   \n",
       "419790                    Ocean's Thirteen  2007  George Clooney  actor   \n",
       "419791                      Ocean's Twelve  2004  George Clooney  actor   \n",
       "419792                        One Fine Day  1996  George Clooney  actor   \n",
       "419793                        Out of Sight  1998  George Clooney  actor   \n",
       "419794      Return of the Killer Tomatoes!  1988  George Clooney  actor   \n",
       "419795               Return to Horror High  1987  George Clooney  actor   \n",
       "419796                             Solaris  2002  George Clooney  actor   \n",
       "419797  South Park: Bigger, Longer & Uncut  1999  George Clooney  actor   \n",
       "419798                            Spy Kids  2001  George Clooney  actor   \n",
       "419799             Spy Kids 3-D: Game Over  2003  George Clooney  actor   \n",
       "419800                             Syriana  2005  George Clooney  actor   \n",
       "419801                        The American  2010  George Clooney  actor   \n",
       "419802                        The American  2010  George Clooney  actor   \n",
       "419803          The Book That Wrote Itself  1999  George Clooney  actor   \n",
       "419804                     The Descendants  2011  George Clooney  actor   \n",
       "419805                     The Good German  2006  George Clooney  actor   \n",
       "419806                         The Harvest  1992  George Clooney  actor   \n",
       "419807                   The Ides of March  2011  George Clooney  actor   \n",
       "419808                           The Limey  1999  George Clooney  actor   \n",
       "419809          The Men Who Stare at Goats  2009  George Clooney  actor   \n",
       "419810                   The Monuments Men  2014  George Clooney  actor   \n",
       "419811                      The Peacemaker  1997  George Clooney  actor   \n",
       "419812                   The Perfect Storm  2000  George Clooney  actor   \n",
       "419813                   The Thin Red Line  1998  George Clooney  actor   \n",
       "419814                         Three Kings  1999  George Clooney  actor   \n",
       "419815                        Tomorrowland  2015  George Clooney  actor   \n",
       "419816                      Unbecoming Age  1992  George Clooney  actor   \n",
       "419817                       Up in the Air  2009  George Clooney  actor   \n",
       "419818               Welcome to Collinwood  2002  George Clooney  actor   \n",
       "\n",
       "                       character     n  \n",
       "419772            George Clooney   4.0  \n",
       "419773                    Batman   2.0  \n",
       "419774               Bruce Wayne   2.0  \n",
       "419775             Harry Pfarrer   1.0  \n",
       "419776                  Jim Byrd  17.0  \n",
       "419777                Seth Gecko   NaN  \n",
       "419778                   Mr. Fox   1.0  \n",
       "419779                Seth Gecko   1.0  \n",
       "419780             Fred Friendly  15.0  \n",
       "419781             Matt Kowalski   2.0  \n",
       "419782            Baird Whitlock   2.0  \n",
       "419783                     Miles   1.0  \n",
       "419784            Dodge Connelly   5.0  \n",
       "419785           Michael Clayton   6.0  \n",
       "419786                 Lee Gates   1.0  \n",
       "419787                   Himself   NaN  \n",
       "419788                   Everett   1.0  \n",
       "419789               Danny Ocean   1.0  \n",
       "419790               Danny Ocean   1.0  \n",
       "419791               Danny Ocean   3.0  \n",
       "419792               Jack Taylor   2.0  \n",
       "419793                Jack Foley   1.0  \n",
       "419794              Matt Stevens   2.0  \n",
       "419795                    Oliver  15.0  \n",
       "419796              Chris Kelvin   1.0  \n",
       "419797               Dr. Gouache  11.0  \n",
       "419798                    Devlin  36.0  \n",
       "419799                    Devlin  22.0  \n",
       "419800                Bob Barnes   2.0  \n",
       "419801                      Jack   1.0  \n",
       "419802                    Edward   1.0  \n",
       "419803                   Himself   NaN  \n",
       "419804                 Matt King   1.0  \n",
       "419805              Jake Geismer   1.0  \n",
       "419806  Lip Syncing Transvestite  23.0  \n",
       "419807      Governor Mike Morris   2.0  \n",
       "419808                   Himself   NaN  \n",
       "419809               Lyn Cassady   1.0  \n",
       "419810              Frank Stokes   1.0  \n",
       "419811     Lt. Col. Thomas Devoe   1.0  \n",
       "419812                Billy Tyne   1.0  \n",
       "419813      Capt. Charles Bosche  14.0  \n",
       "419814              Archie Gates   1.0  \n",
       "419815              Frank Walker   1.0  \n",
       "419816                       Mac   5.0  \n",
       "419817              Ryan Bingham   1.0  \n",
       "419818                     Jerzy  15.0  "
      ]
     },
     "execution_count": 69,
     "metadata": {},
     "output_type": "execute_result"
    }
   ],
   "source": [
    "c =cast\n",
    "c = c[c.name == 'George Clooney']\n",
    "c\n",
    "\n"
   ]
  },
  {
   "cell_type": "code",
   "execution_count": 70,
   "metadata": {
    "collapsed": false
   },
   "outputs": [
    {
     "data": {
      "text/plain": [
       "title                               year  character               \n",
       "A Very Murray Christmas             2015  George Clooney              1\n",
       "Batman & Robin                      1997  Batman                      1\n",
       "                                          Bruce Wayne                 1\n",
       "Burn After Reading                  2008  Harry Pfarrer               1\n",
       "Confessions of a Dangerous Mind     2002  Jim Byrd                    1\n",
       "Curdled                             1996  Seth Gecko                  1\n",
       "Fantastic Mr. Fox                   2009  Mr. Fox                     1\n",
       "From Dusk Till Dawn                 1996  Seth Gecko                  1\n",
       "Good Night, and Good Luck.          2005  Fred Friendly               1\n",
       "Gravity                             2013  Matt Kowalski               1\n",
       "Hail, Caesar!                       2016  Baird Whitlock              1\n",
       "Intolerable Cruelty                 2003  Miles                       1\n",
       "Leatherheads                        2008  Dodge Connelly              1\n",
       "Michael Clayton                     2007  Michael Clayton             1\n",
       "Money Monster                       2016  Lee Gates                   1\n",
       "Morning Glory                       2010  Himself                     1\n",
       "O Brother, Where Art Thou?          2000  Everett                     1\n",
       "Ocean's Eleven                      2001  Danny Ocean                 1\n",
       "Ocean's Thirteen                    2007  Danny Ocean                 1\n",
       "Ocean's Twelve                      2004  Danny Ocean                 1\n",
       "One Fine Day                        1996  Jack Taylor                 1\n",
       "Out of Sight                        1998  Jack Foley                  1\n",
       "Return of the Killer Tomatoes!      1988  Matt Stevens                1\n",
       "Return to Horror High               1987  Oliver                      1\n",
       "Solaris                             2002  Chris Kelvin                1\n",
       "South Park: Bigger, Longer & Uncut  1999  Dr. Gouache                 1\n",
       "Spy Kids                            2001  Devlin                      1\n",
       "Spy Kids 3-D: Game Over             2003  Devlin                      1\n",
       "Syriana                             2005  Bob Barnes                  1\n",
       "The American                        2010  Edward                      1\n",
       "                                          Jack                        1\n",
       "The Book That Wrote Itself          1999  Himself                     1\n",
       "The Descendants                     2011  Matt King                   1\n",
       "The Good German                     2006  Jake Geismer                1\n",
       "The Harvest                         1992  Lip Syncing Transvestite    1\n",
       "The Ides of March                   2011  Governor Mike Morris        1\n",
       "The Limey                           1999  Himself                     1\n",
       "The Men Who Stare at Goats          2009  Lyn Cassady                 1\n",
       "The Monuments Men                   2014  Frank Stokes                1\n",
       "The Peacemaker                      1997  Lt. Col. Thomas Devoe       1\n",
       "The Perfect Storm                   2000  Billy Tyne                  1\n",
       "The Thin Red Line                   1998  Capt. Charles Bosche        1\n",
       "Three Kings                         1999  Archie Gates                1\n",
       "Tomorrowland                        2015  Frank Walker                1\n",
       "Unbecoming Age                      1992  Mac                         1\n",
       "Up in the Air                       2009  Ryan Bingham                1\n",
       "Welcome to Collinwood               2002  Jerzy                       1\n",
       "dtype: int64"
      ]
     },
     "execution_count": 70,
     "metadata": {},
     "output_type": "execute_result"
    }
   ],
   "source": [
    "c.groupby(['title','year','character']).size()"
   ]
  },
  {
   "cell_type": "code",
   "execution_count": null,
   "metadata": {
    "collapsed": true
   },
   "outputs": [],
   "source": []
  },
  {
   "cell_type": "code",
   "execution_count": null,
   "metadata": {
    "collapsed": true
   },
   "outputs": [],
   "source": []
  },
  {
   "cell_type": "code",
   "execution_count": null,
   "metadata": {
    "collapsed": true
   },
   "outputs": [],
   "source": []
  },
  {
   "cell_type": "code",
   "execution_count": null,
   "metadata": {
    "collapsed": true
   },
   "outputs": [],
   "source": []
  }
 ],
 "metadata": {
  "kernelspec": {
   "display_name": "Python [default]",
   "language": "python",
   "name": "python3"
  },
  "language_info": {
   "codemirror_mode": {
    "name": "ipython",
    "version": 3
   },
   "file_extension": ".py",
   "mimetype": "text/x-python",
   "name": "python",
   "nbconvert_exporter": "python",
   "pygments_lexer": "ipython3",
   "version": "3.5.2"
  }
 },
 "nbformat": 4,
 "nbformat_minor": 0
}
