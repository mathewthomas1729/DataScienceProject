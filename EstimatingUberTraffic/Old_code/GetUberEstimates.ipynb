{
 "cells": [
  {
   "cell_type": "code",
   "execution_count": 16,
   "metadata": {
    "collapsed": false
   },
   "outputs": [
    {
     "name": "stdout",
     "output_type": "stream",
     "text": [
      "38.0\n"
     ]
    }
   ],
   "source": [
    "from uber_rides.session import Session\n",
    "from uber_rides.client import UberRidesClient\n",
    "import json\n",
    "import math\n",
    "import pandas as pd\n",
    "from pandas.io.json import json_normalize\n",
    "\n",
    "session = Session(server_token='-l3XEhlZRPidhD3pbwMAT44BAn6W-9ZdWqlV9EJU')\n",
    "client = UberRidesClient(session)\n",
    "\n",
    "dx = 15000\n",
    "dy = 15000\n",
    "#response = client.get_products(lat_origin, long_origin)\n",
    "def GetUBerEstimate(lat_origin, long_origin):\n",
    "    lat_dest = lat_origin + (180/math.pi)*(dy/6378137)\n",
    "    long_dest = long_origin + (180/math.pi)*(dx/6378137)/math.cos(lat_origin)\n",
    "    \n",
    "    response = client.get_price_estimates(\n",
    "    start_latitude=lat_origin,\n",
    "    start_longitude=long_origin,\n",
    "    end_latitude=lat_dest,\n",
    "    end_longitude=long_dest,\n",
    "    seat_count=2\n",
    "    )\n",
    "    \n",
    "    estimate = response.json.get('prices')\n",
    "    high_estimate_uberx = estimate[1]['high_estimate']\n",
    "    return high_estimate_uberx\n",
    "\n",
    "\n",
    "print(GetUBerEstimate(37.770,-122.411))\n",
    "\n",
    "# only want price of Uberx which is index 2\n",
    "#displayname_uberx = estimate[1]['localized_display_name']\n",
    "#low_estimate_uberx = estimate[1]['low_estimate']\n",
    "\n",
    "\n",
    "#print (displayname_uberx )\n",
    "#print(low_estimate_uberx)\n",
    "#print(high_estimate_uberx)"
   ]
  }
 ],
 "metadata": {
  "anaconda-cloud": {},
  "kernelspec": {
   "display_name": "Python [conda root]",
   "language": "python",
   "name": "conda-root-py"
  },
  "language_info": {
   "codemirror_mode": {
    "name": "ipython",
    "version": 3
   },
   "file_extension": ".py",
   "mimetype": "text/x-python",
   "name": "python",
   "nbconvert_exporter": "python",
   "pygments_lexer": "ipython3",
   "version": "3.5.2"
  }
 },
 "nbformat": 4,
 "nbformat_minor": 1
}
