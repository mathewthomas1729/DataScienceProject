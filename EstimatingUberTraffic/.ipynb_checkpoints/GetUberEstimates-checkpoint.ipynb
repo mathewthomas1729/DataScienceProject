{
 "cells": [
  {
   "cell_type": "code",
   "execution_count": 46,
   "metadata": {
    "collapsed": false
   },
   "outputs": [
    {
     "name": "stdout",
     "output_type": "stream",
     "text": [
      "uberX\n",
      "7.0\n",
      "9.0\n"
     ]
    }
   ],
   "source": [
    "from uber_rides.session import Session\n",
    "from uber_rides.client import UberRidesClient\n",
    "import json\n",
    "import pandas as pd\n",
    "from pandas.io.json import json_normalize\n",
    "\n",
    "\n",
    "\n",
    "\n",
    "session = Session(server_token='-l3XEhlZRPidhD3pbwMAT44BAn6W-9ZdWqlV9EJU')\n",
    "client = UberRidesClient(session)\n",
    "\n",
    "response = client.get_products(37.77, -122.41)\n",
    "products = response.json.get('products')\n",
    "response = client.get_price_estimates(\n",
    "    start_latitude=37.770,\n",
    "    start_longitude=-122.411,\n",
    "    end_latitude=37.791,\n",
    "    end_longitude=-122.405,\n",
    "    seat_count=2\n",
    ")\n",
    "\n",
    "\n",
    "estimate = response.json.get('prices')\n",
    "# only want price of Uberx which is index 2\n",
    "displayname_uberx = estimate[1]['localized_display_name']\n",
    "low_estimate_uberx = estimate[1]['low_estimate']\n",
    "high_estimate_uberx = estimate[1]['high_estimate']\n",
    "\n",
    "print (displayname_uberx )\n",
    "print(low_estimate_uberx)\n",
    "print(high_estimate_uberx)"
   ]
  }
 ],
 "metadata": {
  "anaconda-cloud": {},
  "kernelspec": {
   "display_name": "Python [conda root]",
   "language": "python",
   "name": "conda-root-py"
  },
  "language_info": {
   "codemirror_mode": {
    "name": "ipython",
    "version": 3
   },
   "file_extension": ".py",
   "mimetype": "text/x-python",
   "name": "python",
   "nbconvert_exporter": "python",
   "pygments_lexer": "ipython3",
   "version": "3.5.2"
  }
 },
 "nbformat": 4,
 "nbformat_minor": 1
}
