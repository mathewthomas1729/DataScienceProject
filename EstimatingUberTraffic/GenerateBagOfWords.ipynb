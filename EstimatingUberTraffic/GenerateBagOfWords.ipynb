{
 "cells": [
  {
   "cell_type": "code",
   "execution_count": 12,
   "metadata": {
    "collapsed": false
   },
   "outputs": [
    {
     "name": "stdout",
     "output_type": "stream",
     "text": [
      "[('New', 1784), ('n', 1638), ('#job', 905), ('Incident', 890), ('ude', 798), ('th', 763), ('#Hiring', 755), ('Street', 685), ('0', 640), ('udc', 624), ('#CareerArc', 602), ('Avenue', 585), ('Exit', 549), (\"I'm\", 549), ('Update', 507), ('Construction', 481), ('4', 472), ('f', 466), ('udf', 456), ('udd', 430), ('latest', 428), ('amp', 425), ('Cleared', 418), ('Station', 383), ('work', 378), ('ufe', 357), ('This', 356), (\"We're\", 334), ('#hiring', 327), ('Brooklyn', 320), ('opening', 320), ('great', 309), ('8', 299), ('#Job', 284), ('#nyc', 283), ('Just', 278), ('5', 274), ('WB', 263), ('#Jobs', 260), ('EB', 255), ('fit', 250), ('25', 248), ('Both', 248), ('2', 247), ('East', 243), ('Park', 243), ('directions', 240), ('Can', 237), ('anyone', 230), ('NB', 227), ('recommend', 227), ('Click', 222), ('SB', 219), ('1', 218), ('posted', 217), ('Want', 217), ('apply', 216), ('See', 215), ('3', 205), ('u2764', 201), ('photo', 201), ('day', 199), ('e', 194), ('6', 193), ('9', 182), ('#t1d', 179), ('#diabetes', 179), ('#type1diabetes', 179), ('c', 179), ('#diabetic', 179), ('7', 176), ('u30fb', 175), ('NJ', 173), ('Boulevard', 170), ('Bridge', 167), ('could', 160), ('If', 157), ('Queens', 155), ('17', 149), ('Central', 148), ('Broadway', 145), ('ud83e', 144), ('today', 142), ('back', 139), ('Side', 138), ('looking', 137), ('#Hospitality', 135), ('Square', 135), ('City', 135), ('night', 134), (\"you're\", 133), ('Interested', 131), ('check', 128), ('new', 127), ('time', 127), ('West', 125), ('My', 125), ('one', 125), ('Bronx', 123), ('St', 120), ('go', 119), ('might', 118), ('#I278', 118), ('US', 118), ('We', 116), ('02', 115), ('Join', 115), ('team', 115), (':\\\\', 114), ('Read', 113), ('b', 113), ('View', 112), ('click', 112), ('#newyork', 112), ('details', 111), ('love', 110), (\"It's\", 109), ('Center', 106), ('u2022', 104), ('Island', 101), ('udffb', 101), ('show', 100), ('Feb', 99), ('18', 98), ('Dental', 97), ('gt', 94), ('#traffic', 94), ('u2013', 93), ('Manager', 92), ('Ave', 91), ('get', 91), ('2017', 91), ('Bar', 91), ('morning', 90), ('udcf', 90), ('de', 90), ('B', 90), ('last', 89), ('You', 88), ('w', 88), ('NEW', 88), ('Road', 87), ('good', 87), ('10', 86), ('udffd', 86), ('udfa', 86), ('tonight', 84), ('31', 82), ('TONIGHT', 81), ('AM', 81), ('Friday', 81), ('Ramp', 81), ('Day', 81), ('In', 80), ('Expressway', 80), ('Museum', 80), ('Bad', 80), ('#Veterans', 79), ('#Sales', 79), ('E', 78), ('Accident', 77), ('#Retail', 77), ('W', 74), ('nd', 74), ('beautiful', 74), ('Teeth', 73), ('Parkway', 73), ('#newyorkcity', 73), ('Grand', 73), ('weekend', 72), ('know', 72), (\"it's\", 72), ('14', 71), ('uddf', 71), ('For', 70), ('stop', 70), ('11', 70), ('When', 70), ('THE', 69), ('Terminal', 69), ('Long', 68), ('40', 68), ('Cloudy', 68), ('see', 68), ('week', 68), ('#GrandCentralParkway', 68), ('got', 67), ('udffc', 67), ('#Repost', 66), ('traffic', 66), ('Saturday', 66), ('Happy', 66), ('Art', 66), ('95', 66), ('udca', 66), ('FREE', 65), ('February', 65), ('video', 65), ('So', 64), ('uddfd', 64)]\n"
     ]
    }
   ],
   "source": [
    "import time\n",
    "import re\n",
    "import pytz\n",
    "from pytz import timezone\n",
    "from nltk.tokenize import word_tokenize\n",
    "from collections import Counter\n",
    "from nltk.corpus import stopwords\n",
    "import string\n",
    "from nltk import trigrams\n",
    "import json\n",
    "import pandas as pd\n",
    "from unicodedata import normalize\n",
    " \n",
    "punctuation = list(string.punctuation)\n",
    "city_specific_stop_words =  ['York', 'Manhattan','NY','NewYork','NYC','The','A','#NewYork','#NYC','Brooklyn']\n",
    "stop = stopwords.words('english') + punctuation + city_specific_stop_words + ['RT', 'rt', 'via', 'I' , 'like','\\\\',',',':','in','…','\\ud83c','\\ud83d','°','u2026','ud83d','ud83c']\n",
    "\n",
    "emoji_pattern = re.compile(\"[\"\n",
    "        u\"\\U0001F600-\\U0001F64F\"  # emoticons\n",
    "        u\"\\U0001F300-\\U0001F5FF\"  # symbols & pictographs\n",
    "        u\"\\U0001F680-\\U0001F6FF\"  # transport & map symbols\n",
    "        u\"\\U0001F1E0-\\U0001F1FF\"  # flags (iOS)\n",
    "                           \"]+\", flags=re.UNICODE)\n",
    "\n",
    "\n",
    "emoticons_str = r\"\"\"\n",
    "    (?:\n",
    "        [:=;] # Eyes\n",
    "        [oO\\-]? # Nose (optional)\n",
    "        [D\\)\\]\\(\\]/\\\\OpP] # Mouth\n",
    "        \n",
    "    )\"\"\"\n",
    "\n",
    "\n",
    "regex_str = [\n",
    "    emoticons_str,\n",
    "    r'<[^>]+>', # HTML tags\n",
    "    r'(?:@[\\w_]+)', # @-mentions\n",
    "    r\"(?:\\#+[\\w_]+[\\w\\'_\\-]*[\\w_]+)\", # hash-tags\n",
    "    r'http[s]?://(?:[a-z]|[0-9]|[$-_@.&amp;+]|[!*\\(\\),]|(?:%[0-9a-f][0-9a-f]))+', # URLs\n",
    " \n",
    "    r'(?:(?:\\d+,?)+(?:\\.?\\d+)?)', # numbers\n",
    "    r\"(?:[a-z][a-z'\\-_]+[a-z])\", # words with - and '\n",
    "    r'(?:[\\w_]+)', # other words\n",
    "    r'(?:\\S)' # anything else\n",
    "]\n",
    "\n",
    "\n",
    "tokens_re = re.compile(r'('+'|'.join(regex_str)+')', re.VERBOSE | re.IGNORECASE)\n",
    "emoticon_re = re.compile(r'^'+emoticons_str+'$', re.VERBOSE | re.IGNORECASE)\n",
    " \n",
    "def tokenize(s):\n",
    "    return tokens_re.findall(s)\n",
    " \n",
    "def preprocess(s, lowercase=False):\n",
    "    tokens = tokenize(s)\n",
    "    if lowercase:\n",
    "        tokens = [token if emoticon_re.search(token) else token.lower() for token in tokens]\n",
    "    return tokens\n",
    "\n",
    "count_all = Counter()\n",
    "\n",
    "#twitter_dataset = pd.read_table('tweets_streamed_dataset.txt', index_col=None)\n",
    "twitter_dataset = pd.read_table('data/nyc_streamed_dataset.txt', index_col=None)\n",
    "\n",
    "for tweet in twitter_dataset.tweet_text:\n",
    "    #tweet = normalize('NFKD', tweet).encode('ascii','ignore').decode('unicode_escape')\n",
    "    tweet = normalize('NFKD', tweet)\n",
    "    terms_stop = [term for term in preprocess(tweet) if term not in stop and not term.startswith(('#', '@')) and not emoji_pattern.search(term)]\n",
    "    #terms_trigram = trigrams(terms_stop)\n",
    "    #terms_hash = [term for term in preprocess(tweet1) if term.startswith('#')]\n",
    "    terms_all = [term for term in preprocess(tweet) if term not in stop]\n",
    "    #count_all.update(terms_trigram)\n",
    "    #count_all.update(terms_hash)\n",
    "    count_all.update(terms_all)\n",
    "    \n",
    "\n",
    "print(count_all.most_common(200))\n",
    "#twitter_dataset"
   ]
  }
 ],
 "metadata": {
  "anaconda-cloud": {},
  "kernelspec": {
   "display_name": "Python [conda root]",
   "language": "python",
   "name": "conda-root-py"
  },
  "language_info": {
   "codemirror_mode": {
    "name": "ipython",
    "version": 3
   },
   "file_extension": ".py",
   "mimetype": "text/x-python",
   "name": "python",
   "nbconvert_exporter": "python",
   "pygments_lexer": "ipython3",
   "version": "3.5.2"
  }
 },
 "nbformat": 4,
 "nbformat_minor": 1
}
