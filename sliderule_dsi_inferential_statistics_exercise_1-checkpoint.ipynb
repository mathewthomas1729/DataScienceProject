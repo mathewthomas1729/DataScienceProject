{
 "cells": [
  {
   "cell_type": "markdown",
   "metadata": {},
   "source": [
    "# What is the True Normal Human Body Temperature? \n",
    "\n",
    "#### Background\n",
    "\n",
    "The mean normal body temperature was held to be 37$^{\\circ}$C or 98.6$^{\\circ}$F for more than 120 years since it was first conceptualized and reported by Carl Wunderlich in a famous 1868 book. But, is this value statistically correct?"
   ]
  },
  {
   "cell_type": "code",
   "execution_count": null,
   "metadata": {
    "collapsed": true
   },
   "outputs": [],
   "source": [
    "# Solutions Begin Here"
   ]
  },
  {
   "cell_type": "code",
   "execution_count": null,
   "metadata": {
    "collapsed": true
   },
   "outputs": [],
   "source": []
  },
  {
   "cell_type": "code",
   "execution_count": 52,
   "metadata": {
    "collapsed": true
   },
   "outputs": [],
   "source": [
    "import pandas as pd\n",
    "import math\n",
    "\n",
    "df = pd.read_csv('human_body_temperature.csv')\n",
    "%matplotlib inline\n",
    "import numpy as np\n",
    "import scipy.stats as stats"
   ]
  },
  {
   "cell_type": "code",
   "execution_count": 6,
   "metadata": {
    "collapsed": false
   },
   "outputs": [
    {
     "data": {
      "text/plain": [
       "<matplotlib.axes._subplots.AxesSubplot at 0x1eca6426dd8>"
      ]
     },
     "execution_count": 6,
     "metadata": {},
     "output_type": "execute_result"
    },
    {
     "data": {
      "image/png": "[encoded data removed]",
      "text/plain": [
       "<matplotlib.figure.Figure at 0x1eca6430ef0>"
      ]
     },
     "metadata": {},
     "output_type": "display_data"
    }
   ],
   "source": [
    "df.temperature.value_counts().sort_index().plot(kind='bar')"
   ]
  },
  {
   "cell_type": "code",
   "execution_count": 11,
   "metadata": {
    "collapsed": false
   },
   "outputs": [
    {
     "data": {
      "text/plain": [
       "NormaltestResult(statistic=2.7038014333192031, pvalue=0.2587479863488254)"
      ]
     },
     "execution_count": 11,
     "metadata": {},
     "output_type": "execute_result"
    }
   ],
   "source": [
    "stats.mstats.normaltest(df.temperature)"
   ]
  },
  {
   "cell_type": "markdown",
   "metadata": {},
   "source": [
    "Ans 1: This sample distribution can be considered a normal distributions as it more or less symmetric and has bell-shaped density curves with a single peak. The p value is .26 which is greater that .05 which means we cannot reject the null hypothesis of it being normal."
   ]
  },
  {
   "cell_type": "code",
   "execution_count": 8,
   "metadata": {
    "collapsed": false
   },
   "outputs": [
    {
     "data": {
      "text/plain": [
       "temperature    130\n",
       "gender         130\n",
       "heart_rate     130\n",
       "dtype: int64"
      ]
     },
     "execution_count": 8,
     "metadata": {},
     "output_type": "execute_result"
    }
   ],
   "source": [
    "df.count()"
   ]
  },
  {
   "cell_type": "markdown",
   "metadata": {},
   "source": [
    "Ans 2: The size of the sample is 130. With n>30 we can consider this to be a large enough value of size for it to be statistically significant. The observation temperature of one person is not affected by the temperature of another person, So we can consider these observations to be independent of each other."
   ]
  },
  {
   "cell_type": "code",
   "execution_count": 25,
   "metadata": {
    "collapsed": false
   },
   "outputs": [
    {
     "name": "stdout",
     "output_type": "stream",
     "text": [
      "2.45107850706e-08\n"
     ]
    }
   ],
   "source": [
    "# H0 - Assume the true population mean is 98.3 (null hypothesis)\n",
    "# H1 - The true population mean is not 98.3\n",
    "mean = df.temperature.mean()\n",
    "std_dev = df.temperature.std()\n",
    "n = len(df.temperature)\n",
    "mean_sample = 98.6\n",
    "# n> 30 so we use z square dist\n",
    "sigma_std_dev = std_dev/ np.sqrt(n)\n",
    "\n",
    "\n",
    "p_value = stats.norm.cdf(mean, mean_sample, sigma_std_dev)\n",
    "print(p_value)"
   ]
  },
  {
   "cell_type": "markdown",
   "metadata": {},
   "source": [
    "We use z statistic since n>30 . Since p_value is less than .05 , that means the probability of this event occuring is very low and so we can reject the null hypothesis. The true population mean is not 98.6"
   ]
  },
  {
   "cell_type": "code",
   "execution_count": 28,
   "metadata": {
    "collapsed": false
   },
   "outputs": [
    {
     "data": {
      "text/plain": [
       "98.24923076923078"
      ]
     },
     "execution_count": 28,
     "metadata": {},
     "output_type": "execute_result"
    }
   ],
   "source": [
    "df.temperature.mean()"
   ]
  },
  {
   "cell_type": "code",
   "execution_count": 30,
   "metadata": {
    "collapsed": false
   },
   "outputs": [
    {
     "data": {
      "text/plain": [
       "[98.123194112228518, 98.375267426233037]"
      ]
     },
     "execution_count": 30,
     "metadata": {},
     "output_type": "execute_result"
    }
   ],
   "source": [
    "# for temperature to be considered abnormal it should be outside the 95% confidence interval. For z statistic, the critical value\n",
    "# of 95% ci is 1.96 std deviations away. Anything outside this range would be considered abnormal\n",
    "me = 1.96*sigma_std_dev\n",
    "confidence_interval = [df.temperature.mean()-me,df.temperature.mean()+me]\n",
    "confidence_interval"
   ]
  },
  {
   "cell_type": "code",
   "execution_count": 61,
   "metadata": {
    "collapsed": false
   },
   "outputs": [
    {
     "name": "stdout",
     "output_type": "stream",
     "text": [
      "0.6987557623265908\n",
      "0.7434877527313665\n"
     ]
    }
   ],
   "source": [
    "#Is there a significant difference between males and females in normal temperature\n",
    "# H0 - Assume there is no statistical diffirence between male and female normal temperature\n",
    "\n",
    "Mean_Male = df[df.gender=='M'].temperature.mean()\n",
    "Mean_Female = df[df.gender=='F'].temperature.mean()\n",
    "\n",
    "std_dev_male = df[df.gender=='M'].temperature.std()\n",
    "std_dev_female = df[df.gender=='F'].temperature.std()\n",
    "n_male = df[df.gender=='M'].count()\n",
    "n_female = df[df.gender=='F'].count()\n",
    "\n",
    "Mean_new = Mean_Male - Mean_Female\n",
    "import math\n",
    "\n",
    "#variance_new = ((std_dev_male*std_dev_male)/n_male + (std_dev_female*std_dev_female)/n_female)\n",
    "#std_new =math.sqrt(variance_new)\n",
    "print(std_dev_male)\n",
    "print(std_dev_female)"
   ]
  },
  {
   "cell_type": "code",
   "execution_count": 67,
   "metadata": {
    "collapsed": false
   },
   "outputs": [
    {
     "name": "stdout",
     "output_type": "stream",
     "text": [
      "0.12644567091169112\n"
     ]
    }
   ],
   "source": [
    "std_new =math.sqrt((.698*.698/65) + (.743*.743/65))\n",
    "print(std_new)"
   ]
  },
  {
   "cell_type": "code",
   "execution_count": 70,
   "metadata": {
    "collapsed": false
   },
   "outputs": [
    {
     "data": {
      "text/plain": [
       "-2.2873916295064305"
      ]
     },
     "execution_count": 70,
     "metadata": {},
     "output_type": "execute_result"
    }
   ],
   "source": [
    "Z = Mean_new / std_new\n",
    "Z"
   ]
  },
  {
   "cell_type": "markdown",
   "metadata": {},
   "source": [
    "since this is greater than 1.96 std deviations away, we can reject the null hypothesis."
   ]
  }
 ],
 "metadata": {
  "anaconda-cloud": {},
  "kernelspec": {
   "display_name": "Python [conda root]",
   "language": "python",
   "name": "conda-root-py"
  },
  "language_info": {
   "codemirror_mode": {
    "name": "ipython",
    "version": 3
   },
   "file_extension": ".py",
   "mimetype": "text/x-python",
   "name": "python",
   "nbconvert_exporter": "python",
   "pygments_lexer": "ipython3",
   "version": "3.5.2"
  }
 },
 "nbformat": 4,
 "nbformat_minor": 0
}
