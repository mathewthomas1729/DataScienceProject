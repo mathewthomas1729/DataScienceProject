{
 "cells": [
  {
   "cell_type": "code",
   "execution_count": 4,
   "metadata": {
    "collapsed": false
   },
   "outputs": [
    {
     "name": "stdout",
     "output_type": "stream",
     "text": [
      "41.01702152841195\n",
      "-73.74089830288479\n"
     ]
    }
   ],
   "source": [
    "import math\n",
    "\n",
    "lat = 40.927190\n",
    "lon = -73.859795\n",
    "\n",
    "R=6378137\n",
    "\n",
    "\n",
    "dn = 10000\n",
    "de = 10000\n",
    "\n",
    "dLat = dn/R\n",
    "dLon = de/(R*math.cos(math.pi*lat/180))\n",
    "\n",
    "latO = lat + dLat * 180/math.pi\n",
    "lonO = lon + dLon * 180/math.pi \n",
    "print(latO)\n",
    "print(lonO)"
   ]
  }
 ],
 "metadata": {
  "kernelspec": {
   "display_name": "Python [conda root]",
   "language": "python",
   "name": "conda-root-py"
  },
  "language_info": {
   "codemirror_mode": {
    "name": "ipython",
    "version": 3
   },
   "file_extension": ".py",
   "mimetype": "text/x-python",
   "name": "python",
   "nbconvert_exporter": "python",
   "pygments_lexer": "ipython3",
   "version": "3.5.2"
  }
 },
 "nbformat": 4,
 "nbformat_minor": 1
}
