{
 "cells": [
  {
   "cell_type": "code",
   "execution_count": null,
   "metadata": {
    "collapsed": false,
    "scrolled": true
   },
   "outputs": [
    {
     "name": "stdout",
     "output_type": "stream",
     "text": [
      "420\n"
     ]
    }
   ],
   "source": [
    "from tweepy import Stream\n",
    "from tweepy import OAuthHandler\n",
    "from tweepy.streaming import StreamListener\n",
    "\n",
    "consumer_key = 'gswlPdHuI7e0qWBAT5OavoH1w'\n",
    "consumer_secret = 'rvWMe0ldojIsYSUISbcqKxFodIl0VeMGSLf8HOWUcSL6qOywgK'\n",
    "access_token = '27651816-os3dMfworD2o430p66jdr668XVzvAOnz16YZgAtfj'\n",
    "access_secret = 'cE8cV46N6qrKzWfuIVogYPaeM003hd2VH6Y38S4T39YGs'\n",
    " \n",
    "auth = OAuthHandler(consumer_key, consumer_secret)\n",
    "auth.set_access_token(access_token, access_secret)\n",
    "keyword_list = ['traffic','accident',] #track list\n",
    "#loc= [-122.75,36.8,-121.75,37.8]\n",
    "loc=[-80.9138,35.1386,-80.7380,35.3539]\n",
    "class MyListener(StreamListener):\n",
    "\n",
    "    def on_data(self, data):\n",
    "        try:\n",
    "            with open('clt.json', 'a') as f:\n",
    "                f.write(data)\n",
    "                return True\n",
    "        except BaseException as e:\n",
    "            print(\"Error on_data: %s\" % str(e))\n",
    "        return True\n",
    "    \n",
    " \n",
    "    def on_error(self, status):\n",
    "        print(status)\n",
    "        return True\n",
    " \n",
    "twitter_stream = Stream(auth, MyListener())\n",
    "\n",
    "\n",
    "#twitter_stream.filter(track=keyword_list, languages=['en'])\n",
    "twitter_stream.filter(locations=loc)"
   ]
  }
 ],
 "metadata": {
  "anaconda-cloud": {},
  "kernelspec": {
   "display_name": "Python [conda root]",
   "language": "python",
   "name": "conda-root-py"
  },
  "language_info": {
   "codemirror_mode": {
    "name": "ipython",
    "version": 3
   },
   "file_extension": ".py",
   "mimetype": "text/x-python",
   "name": "python",
   "nbconvert_exporter": "python",
   "pygments_lexer": "ipython3",
   "version": "3.5.2"
  }
 },
 "nbformat": 4,
 "nbformat_minor": 1
}
